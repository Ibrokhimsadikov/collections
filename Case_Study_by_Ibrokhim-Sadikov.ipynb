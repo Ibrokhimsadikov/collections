{
 "cells": [
  {
   "cell_type": "markdown",
   "metadata": {},
   "source": [
    "# Case Study: Collections                    <img src=\"logo.png\" width=\"240\" height=\"240\" align=\"right\" />\n",
    "\n",
    "### By: Ibrokhim Sadikov\n",
    "\n",
    "\n"
   ]
  },
  {
   "cell_type": "code",
   "execution_count": 240,
   "metadata": {},
   "outputs": [],
   "source": [
    "# Importing utility packages\n",
    "import numpy as np\n",
    "import pandas as pd\n",
    "from IPython.display import display_html\n",
    "import matplotlib.pyplot as plt\n",
    "import seaborn as sns\n",
    "import plotly.express as px\n",
    "from sklearn.model_selection import train_test_split\n",
    "import sklearn\n",
    "from sklearn.preprocessing import OneHotEncoder\n",
    "from sklearn.preprocessing import StandardScaler\n",
    "from sklearn.metrics import roc_auc_score\n",
    "from sklearn.linear_model import LogisticRegression\n",
    "from sklearn.calibration import CalibratedClassifierCV\n",
    "from sklearn.metrics import confusion_matrix\n",
    "from sklearn.ensemble import RandomForestClassifier\n",
    "from sklearn.metrics import accuracy_score\n",
    "from sklearn.linear_model import SGDClassifier\n",
    "import pickle\n",
    "import gc\n",
    "import lightgbm as lgb\n",
    "import plotly.offline as py\n",
    "import plotly.graph_objs as go\n",
    "import shap\n",
    "import warnings\n",
    "warnings.filterwarnings('ignore')"
   ]
  },
  {
   "cell_type": "code",
   "execution_count": 2,
   "metadata": {},
   "outputs": [],
   "source": [
    "#Importing data \n",
    "xls = pd.ExcelFile('Collections Case Study Data.xlsx')\n",
    "loan_detail_df = pd.read_excel(xls, 'Loan Details', index=False)\n",
    "status_martomay_df = pd.read_excel(xls, 'Loan_Status_MartoMay', index=False)\n",
    "loan_aprtojun_df = pd.read_excel(xls, 'Loan_Status_AprtoJun', index=False)\n",
    "historical_df = pd.read_excel(xls, 'Historical 6 Months Details', index=False)\n",
    "loan_idmap_df = pd.read_excel(xls, 'Loan_ID mapping', index=False)\n",
    "call_detail_df = pd.read_excel(xls, 'Call Details', index=False)"
   ]
  },
  {
   "cell_type": "markdown",
   "metadata": {},
   "source": [
    "#### QC: Displaying data"
   ]
  },
  {
   "cell_type": "code",
   "execution_count": 3,
   "metadata": {},
   "outputs": [],
   "source": [
    "#Displaying dfs side by side\n",
    "\n",
    "def display_sidebyside(*args):\n",
    "    html_str=''\n",
    "    for df in args:\n",
    "        html_str+=df.to_html()\n",
    "    display_html(html_str.replace('table','table style=\"display:inline\"'),raw=True)\n",
    "\n"
   ]
  },
  {
   "cell_type": "code",
   "execution_count": 4,
   "metadata": {},
   "outputs": [
    {
     "data": {
      "text/html": [
       "<table style=\"display:inline\" border=\"1\" class=\"dataframe\">\n",
       "  <thead>\n",
       "    <tr style=\"text-align: right;\">\n",
       "      <th></th>\n",
       "      <th>Loan_id</th>\n",
       "      <th>Debt_to_burden_Ratio</th>\n",
       "      <th>total_income</th>\n",
       "      <th>TENURE</th>\n",
       "      <th>Sanctioned Amount</th>\n",
       "    </tr>\n",
       "  </thead>\n",
       "  <tbody>\n",
       "    <tr>\n",
       "      <th>0</th>\n",
       "      <td>A100005454</td>\n",
       "      <td>0.177021</td>\n",
       "      <td>7334734.0</td>\n",
       "      <td>36</td>\n",
       "      <td>30000000</td>\n",
       "    </tr>\n",
       "    <tr>\n",
       "      <th>1</th>\n",
       "      <td>A100026967</td>\n",
       "      <td>0.248750</td>\n",
       "      <td>6000000.0</td>\n",
       "      <td>48</td>\n",
       "      <td>38000000</td>\n",
       "    </tr>\n",
       "    <tr>\n",
       "      <th>2</th>\n",
       "      <td>A100040113</td>\n",
       "      <td>0.455961</td>\n",
       "      <td>11216760.0</td>\n",
       "      <td>48</td>\n",
       "      <td>105000000</td>\n",
       "    </tr>\n",
       "    <tr>\n",
       "      <th>3</th>\n",
       "      <td>A100080302</td>\n",
       "      <td>0.232607</td>\n",
       "      <td>5529077.0</td>\n",
       "      <td>48</td>\n",
       "      <td>33000000</td>\n",
       "    </tr>\n",
       "    <tr>\n",
       "      <th>4</th>\n",
       "      <td>A100104482</td>\n",
       "      <td>0.537601</td>\n",
       "      <td>15000000.0</td>\n",
       "      <td>48</td>\n",
       "      <td>120000000</td>\n",
       "    </tr>\n",
       "  </tbody>\n",
       "</table style=\"display:inline\"><table style=\"display:inline\" border=\"1\" class=\"dataframe\">\n",
       "  <thead>\n",
       "    <tr style=\"text-align: right;\">\n",
       "      <th></th>\n",
       "      <th>Loan_id</th>\n",
       "      <th>Bucket</th>\n",
       "      <th>TENURE</th>\n",
       "      <th>PRINBALANCE</th>\n",
       "      <th>Months on Books</th>\n",
       "      <th>Sanctioned Amount</th>\n",
       "      <th>Month</th>\n",
       "    </tr>\n",
       "  </thead>\n",
       "  <tbody>\n",
       "    <tr>\n",
       "      <th>0</th>\n",
       "      <td>A810487695</td>\n",
       "      <td>TB0</td>\n",
       "      <td>48</td>\n",
       "      <td>10539100.0</td>\n",
       "      <td>37</td>\n",
       "      <td>30000000</td>\n",
       "      <td>April</td>\n",
       "    </tr>\n",
       "    <tr>\n",
       "      <th>1</th>\n",
       "      <td>A205346000</td>\n",
       "      <td>TB0</td>\n",
       "      <td>36</td>\n",
       "      <td>3693500.0</td>\n",
       "      <td>33</td>\n",
       "      <td>22000000</td>\n",
       "      <td>March</td>\n",
       "    </tr>\n",
       "    <tr>\n",
       "      <th>2</th>\n",
       "      <td>A675851816</td>\n",
       "      <td>TB0</td>\n",
       "      <td>48</td>\n",
       "      <td>24353700.0</td>\n",
       "      <td>30</td>\n",
       "      <td>40000000</td>\n",
       "      <td>March</td>\n",
       "    </tr>\n",
       "    <tr>\n",
       "      <th>3</th>\n",
       "      <td>A810487695</td>\n",
       "      <td>TB0</td>\n",
       "      <td>48</td>\n",
       "      <td>9649000.0</td>\n",
       "      <td>38</td>\n",
       "      <td>30000000</td>\n",
       "      <td>May</td>\n",
       "    </tr>\n",
       "    <tr>\n",
       "      <th>4</th>\n",
       "      <td>A269873383</td>\n",
       "      <td>TB0</td>\n",
       "      <td>36</td>\n",
       "      <td>4441700.0</td>\n",
       "      <td>30</td>\n",
       "      <td>20000000</td>\n",
       "      <td>May</td>\n",
       "    </tr>\n",
       "  </tbody>\n",
       "</table style=\"display:inline\"><table style=\"display:inline\" border=\"1\" class=\"dataframe\">\n",
       "  <thead>\n",
       "    <tr style=\"text-align: right;\">\n",
       "      <th></th>\n",
       "      <th>Loan_id</th>\n",
       "      <th>Bucket</th>\n",
       "      <th>PRINBALANCE</th>\n",
       "      <th>TENURE</th>\n",
       "      <th>Months on Books</th>\n",
       "      <th>Sanctioned Amount</th>\n",
       "      <th>Month</th>\n",
       "    </tr>\n",
       "  </thead>\n",
       "  <tbody>\n",
       "    <tr>\n",
       "      <th>0</th>\n",
       "      <td>A810487695</td>\n",
       "      <td>TB0</td>\n",
       "      <td>9649000.0</td>\n",
       "      <td>48</td>\n",
       "      <td>38</td>\n",
       "      <td>30000000</td>\n",
       "      <td>May</td>\n",
       "    </tr>\n",
       "    <tr>\n",
       "      <th>1</th>\n",
       "      <td>A205346000</td>\n",
       "      <td>TB1</td>\n",
       "      <td>1332100.0</td>\n",
       "      <td>36</td>\n",
       "      <td>34</td>\n",
       "      <td>22000000</td>\n",
       "      <td>April</td>\n",
       "    </tr>\n",
       "    <tr>\n",
       "      <th>2</th>\n",
       "      <td>A675851816</td>\n",
       "      <td>TB1</td>\n",
       "      <td>20875500.0</td>\n",
       "      <td>48</td>\n",
       "      <td>31</td>\n",
       "      <td>40000000</td>\n",
       "      <td>April</td>\n",
       "    </tr>\n",
       "    <tr>\n",
       "      <th>3</th>\n",
       "      <td>A810487695</td>\n",
       "      <td>TB1</td>\n",
       "      <td>9648700.0</td>\n",
       "      <td>48</td>\n",
       "      <td>39</td>\n",
       "      <td>30000000</td>\n",
       "      <td>June</td>\n",
       "    </tr>\n",
       "    <tr>\n",
       "      <th>4</th>\n",
       "      <td>A269873383</td>\n",
       "      <td>REGULAR</td>\n",
       "      <td>2885800.0</td>\n",
       "      <td>36</td>\n",
       "      <td>31</td>\n",
       "      <td>20000000</td>\n",
       "      <td>June</td>\n",
       "    </tr>\n",
       "  </tbody>\n",
       "</table style=\"display:inline\"><table style=\"display:inline\" border=\"1\" class=\"dataframe\">\n",
       "  <thead>\n",
       "    <tr style=\"text-align: right;\">\n",
       "      <th></th>\n",
       "      <th>Loan_id</th>\n",
       "      <th>paidcure</th>\n",
       "      <th>paiduncure</th>\n",
       "      <th>unpaid</th>\n",
       "      <th>rollb</th>\n",
       "      <th>rollf</th>\n",
       "      <th>num6mosdel</th>\n",
       "      <th>num3mosdel</th>\n",
       "      <th>num6mosdel_2plus</th>\n",
       "      <th>num3mosdel_2plus</th>\n",
       "      <th>max6del</th>\n",
       "      <th>max3del</th>\n",
       "      <th>Month</th>\n",
       "    </tr>\n",
       "  </thead>\n",
       "  <tbody>\n",
       "    <tr>\n",
       "      <th>0</th>\n",
       "      <td>A810487695</td>\n",
       "      <td>2</td>\n",
       "      <td>1</td>\n",
       "      <td>3</td>\n",
       "      <td>1</td>\n",
       "      <td>0</td>\n",
       "      <td>5</td>\n",
       "      <td>2</td>\n",
       "      <td>4</td>\n",
       "      <td>2</td>\n",
       "      <td>5</td>\n",
       "      <td>5</td>\n",
       "      <td>April</td>\n",
       "    </tr>\n",
       "    <tr>\n",
       "      <th>1</th>\n",
       "      <td>A205346000</td>\n",
       "      <td>2</td>\n",
       "      <td>1</td>\n",
       "      <td>3</td>\n",
       "      <td>2</td>\n",
       "      <td>0</td>\n",
       "      <td>6</td>\n",
       "      <td>3</td>\n",
       "      <td>6</td>\n",
       "      <td>3</td>\n",
       "      <td>4</td>\n",
       "      <td>4</td>\n",
       "      <td>March</td>\n",
       "    </tr>\n",
       "    <tr>\n",
       "      <th>2</th>\n",
       "      <td>A675851816</td>\n",
       "      <td>2</td>\n",
       "      <td>1</td>\n",
       "      <td>3</td>\n",
       "      <td>0</td>\n",
       "      <td>0</td>\n",
       "      <td>4</td>\n",
       "      <td>3</td>\n",
       "      <td>3</td>\n",
       "      <td>3</td>\n",
       "      <td>4</td>\n",
       "      <td>4</td>\n",
       "      <td>March</td>\n",
       "    </tr>\n",
       "    <tr>\n",
       "      <th>3</th>\n",
       "      <td>A810487695</td>\n",
       "      <td>2</td>\n",
       "      <td>1</td>\n",
       "      <td>3</td>\n",
       "      <td>1</td>\n",
       "      <td>0</td>\n",
       "      <td>4</td>\n",
       "      <td>1</td>\n",
       "      <td>4</td>\n",
       "      <td>1</td>\n",
       "      <td>5</td>\n",
       "      <td>5</td>\n",
       "      <td>May</td>\n",
       "    </tr>\n",
       "    <tr>\n",
       "      <th>4</th>\n",
       "      <td>A269873383</td>\n",
       "      <td>2</td>\n",
       "      <td>1</td>\n",
       "      <td>3</td>\n",
       "      <td>1</td>\n",
       "      <td>0</td>\n",
       "      <td>4</td>\n",
       "      <td>2</td>\n",
       "      <td>3</td>\n",
       "      <td>2</td>\n",
       "      <td>4</td>\n",
       "      <td>4</td>\n",
       "      <td>May</td>\n",
       "    </tr>\n",
       "  </tbody>\n",
       "</table style=\"display:inline\"><table style=\"display:inline\" border=\"1\" class=\"dataframe\">\n",
       "  <thead>\n",
       "    <tr style=\"text-align: right;\">\n",
       "      <th></th>\n",
       "      <th>month</th>\n",
       "      <th>Application_Id</th>\n",
       "      <th>Login_ID</th>\n",
       "      <th>Right_Party_Contact</th>\n",
       "      <th>Promise_to_pay</th>\n",
       "      <th>total_contacts</th>\n",
       "    </tr>\n",
       "  </thead>\n",
       "  <tbody>\n",
       "    <tr>\n",
       "      <th>0</th>\n",
       "      <td>3</td>\n",
       "      <td>MX-100062359</td>\n",
       "      <td>AGNT50</td>\n",
       "      <td>1</td>\n",
       "      <td>1</td>\n",
       "      <td>1</td>\n",
       "    </tr>\n",
       "    <tr>\n",
       "      <th>1</th>\n",
       "      <td>3</td>\n",
       "      <td>MX-100095892</td>\n",
       "      <td>AGNT12</td>\n",
       "      <td>1</td>\n",
       "      <td>0</td>\n",
       "      <td>2</td>\n",
       "    </tr>\n",
       "    <tr>\n",
       "      <th>2</th>\n",
       "      <td>3</td>\n",
       "      <td>MX-100116696</td>\n",
       "      <td>AGNT36</td>\n",
       "      <td>2</td>\n",
       "      <td>0</td>\n",
       "      <td>3</td>\n",
       "    </tr>\n",
       "    <tr>\n",
       "      <th>3</th>\n",
       "      <td>3</td>\n",
       "      <td>MX-10011780</td>\n",
       "      <td>AGNT39</td>\n",
       "      <td>2</td>\n",
       "      <td>1</td>\n",
       "      <td>10</td>\n",
       "    </tr>\n",
       "    <tr>\n",
       "      <th>4</th>\n",
       "      <td>3</td>\n",
       "      <td>MX-100133826</td>\n",
       "      <td>AGNT48</td>\n",
       "      <td>4</td>\n",
       "      <td>3</td>\n",
       "      <td>17</td>\n",
       "    </tr>\n",
       "  </tbody>\n",
       "</table style=\"display:inline\">"
      ]
     },
     "metadata": {},
     "output_type": "display_data"
    }
   ],
   "source": [
    "display_sidebyside(loan_detail_df.head(), status_martomay_df.head(), loan_aprtojun_df.head(), \n",
    "                   historical_df.head(), call_detail_df.head()  )"
   ]
  },
  {
   "cell_type": "markdown",
   "metadata": {},
   "source": [
    "#### QC:Shape of data-frames"
   ]
  },
  {
   "cell_type": "code",
   "execution_count": 5,
   "metadata": {},
   "outputs": [
    {
     "name": "stdout",
     "output_type": "stream",
     "text": [
      "Shape of loan_detail_df:  (40339, 5)\n",
      "Shape of status_martomay_df:  (80769, 7)\n",
      "Shape of loan_aprtojun_df:  (80769, 7)\n",
      "Shape of historical_df:  (80769, 13)\n",
      "Shape of call_detail_df:  (79614, 6)\n"
     ]
    }
   ],
   "source": [
    "print(\"Shape of loan_detail_df: \", loan_detail_df.shape)\n",
    "print(\"Shape of status_martomay_df: \", status_martomay_df.shape)\n",
    "print(\"Shape of loan_aprtojun_df: \", loan_aprtojun_df.shape)\n",
    "print(\"Shape of historical_df: \", historical_df.shape)\n",
    "print(\"Shape of call_detail_df: \", call_detail_df.shape)\n"
   ]
  },
  {
   "cell_type": "markdown",
   "metadata": {},
   "source": [
    "####  QC: Checking for Missing and Duplicate values"
   ]
  },
  {
   "cell_type": "code",
   "execution_count": 6,
   "metadata": {},
   "outputs": [
    {
     "name": "stdout",
     "output_type": "stream",
     "text": [
      "Number of Missing Values in loan_detail_df : \n",
      " Loan_id                 0\n",
      "Debt_to_burden_Ratio    0\n",
      "total_income            0\n",
      "TENURE                  0\n",
      "Sanctioned Amount       0\n",
      "dtype: int64\n",
      "Number of Duplicates in loan_detail_df : \n",
      " 0\n"
     ]
    }
   ],
   "source": [
    "print( \"Number of Missing Values in loan_detail_df : \\n\",loan_detail_df.isnull().sum())\n",
    "print(\"Number of Duplicates in loan_detail_df : \\n\", loan_detail_df.duplicated().sum())"
   ]
  },
  {
   "cell_type": "code",
   "execution_count": 7,
   "metadata": {},
   "outputs": [
    {
     "name": "stdout",
     "output_type": "stream",
     "text": [
      "Number of Missing Values in status_martomay_df : \n",
      " Loan_id              0\n",
      "Bucket               0\n",
      "TENURE               0\n",
      "PRINBALANCE          0\n",
      "Months on Books      0\n",
      "Sanctioned Amount    0\n",
      "Month                0\n",
      "dtype: int64\n",
      "Number of Duplicates in status_martomay_df : \n",
      " 0\n"
     ]
    }
   ],
   "source": [
    "print( \"Number of Missing Values in status_martomay_df : \\n\",status_martomay_df.isnull().sum())\n",
    "print(\"Number of Duplicates in status_martomay_df : \\n\", status_martomay_df.duplicated().sum())"
   ]
  },
  {
   "cell_type": "code",
   "execution_count": 8,
   "metadata": {},
   "outputs": [
    {
     "name": "stdout",
     "output_type": "stream",
     "text": [
      "Number of Missing Values in loan_aprtojun_df : \n",
      " Loan_id              0\n",
      "Bucket               0\n",
      "PRINBALANCE          0\n",
      "TENURE               0\n",
      "Months on Books      0\n",
      "Sanctioned Amount    0\n",
      "Month                0\n",
      "dtype: int64\n",
      "Number of Duplicates in loan_aprtojun_df : \n",
      " 0\n"
     ]
    }
   ],
   "source": [
    "print( \"Number of Missing Values in loan_aprtojun_df : \\n\", loan_aprtojun_df.isnull().sum())\n",
    "print(\"Number of Duplicates in loan_aprtojun_df : \\n\", loan_aprtojun_df.duplicated().sum())"
   ]
  },
  {
   "cell_type": "code",
   "execution_count": 9,
   "metadata": {},
   "outputs": [
    {
     "name": "stdout",
     "output_type": "stream",
     "text": [
      "Number of Missing Values in historical_df : \n",
      " Loan_id             0\n",
      "paidcure            0\n",
      "paiduncure          0\n",
      "unpaid              0\n",
      "rollb               0\n",
      "rollf               0\n",
      "num6mosdel          0\n",
      "num3mosdel          0\n",
      "num6mosdel_2plus    0\n",
      "num3mosdel_2plus    0\n",
      "max6del             0\n",
      "max3del             0\n",
      "Month               0\n",
      "dtype: int64\n",
      "Number of Duplicates in historical_df : \n",
      " 0\n"
     ]
    }
   ],
   "source": [
    "print( \"Number of Missing Values in historical_df : \\n\", historical_df.isnull().sum())\n",
    "print(\"Number of Duplicates in historical_df : \\n\", historical_df.duplicated().sum())                   "
   ]
  },
  {
   "cell_type": "code",
   "execution_count": 10,
   "metadata": {},
   "outputs": [
    {
     "name": "stdout",
     "output_type": "stream",
     "text": [
      "Number of Missing Values in call_detail_df : \n",
      " month                  0\n",
      "Application_Id         0\n",
      "Login_ID               0\n",
      "Right_Party_Contact    0\n",
      "Promise_to_pay         0\n",
      "total_contacts         0\n",
      "dtype: int64\n",
      "Number of Duplicates in call_detail_df : \n",
      " 1\n"
     ]
    }
   ],
   "source": [
    "print( \"Number of Missing Values in call_detail_df : \\n\", call_detail_df.isnull().sum())\n",
    "print(\"Number of Duplicates in call_detail_df : \\n\", call_detail_df.duplicated().sum()) \n",
    "\n",
    "#there was one duplicate thus removing it\n",
    "call_detail_df.drop_duplicates(keep=False, inplace=True)"
   ]
  },
  {
   "cell_type": "markdown",
   "metadata": {},
   "source": [
    "### Level 1:  1.  What is the account roll forward rate for the months of Mar , Apr, May and June for TB0?\n",
    "\n",
    "<i>As we know Roll rate is the proportion of customers who will be 'better'(roll backward rate), 'worse'(roll forward rate) or 'remain same' with time in terms of delinquency. For example, if 6% of 'No Due' customers moved to 0-29 DPD bucket, it means that 6% is calculated by dividing 'number of customers in 0-29 DPD at the end of 2nd Month, by 'total number of No Due customers at the end of 1st Month. \n",
    "- However, I was a bit concerned about the datasets for Loan statuses, as April and May statuses mismatch in two datasets for the same Loan_id. There might be bias in data or additional explanation should be provided regarding how report is generated \n",
    "- Also, question is a bit confusing regarding the part \"for TB0\", thus I provided two solutions, one to address change in the rate of TB0 month to month and second to actually solve for forward rate, Regular->TB0 </i>\n"
   ]
  },
  {
   "cell_type": "code",
   "execution_count": 11,
   "metadata": {},
   "outputs": [
    {
     "name": "stdout",
     "output_type": "stream",
     "text": [
      "Shape of loan status joined table: (161538, 7)\n",
      "Number of Duplicates : \n",
      " 1385\n",
      "Shape after removing duplicates: (160153, 7)\n"
     ]
    }
   ],
   "source": [
    "# Joining two loan status data\n",
    "loanstatus_join=pd.concat([status_martomay_df, loan_aprtojun_df ], sort=False, ignore_index=True)\n",
    "print('Shape of loan status joined table:', loanstatus_join.shape)\n",
    "print(\"Number of Duplicates : \\n\", loanstatus_join.duplicated().sum())\n",
    "#removing duplicate rows\n",
    "loanstatus_join=loanstatus_join.drop_duplicates()\n",
    "print('Shape after removing duplicates:',loanstatus_join.shape )"
   ]
  },
  {
   "cell_type": "markdown",
   "metadata": {},
   "source": [
    "#### QC: Summary stats for joined loan status data"
   ]
  },
  {
   "cell_type": "code",
   "execution_count": 12,
   "metadata": {},
   "outputs": [
    {
     "data": {
      "text/html": [
       "<div>\n",
       "<style scoped>\n",
       "    .dataframe tbody tr th:only-of-type {\n",
       "        vertical-align: middle;\n",
       "    }\n",
       "\n",
       "    .dataframe tbody tr th {\n",
       "        vertical-align: top;\n",
       "    }\n",
       "\n",
       "    .dataframe thead th {\n",
       "        text-align: right;\n",
       "    }\n",
       "</style>\n",
       "<table border=\"1\" class=\"dataframe\">\n",
       "  <thead>\n",
       "    <tr style=\"text-align: right;\">\n",
       "      <th></th>\n",
       "      <th>TENURE</th>\n",
       "      <th>PRINBALANCE</th>\n",
       "      <th>Months on Books</th>\n",
       "      <th>Sanctioned Amount</th>\n",
       "    </tr>\n",
       "  </thead>\n",
       "  <tbody>\n",
       "    <tr>\n",
       "      <th>count</th>\n",
       "      <td>160153.000000</td>\n",
       "      <td>1.601530e+05</td>\n",
       "      <td>160153.000000</td>\n",
       "      <td>1.601530e+05</td>\n",
       "    </tr>\n",
       "    <tr>\n",
       "      <th>mean</th>\n",
       "      <td>41.801103</td>\n",
       "      <td>3.290176e+07</td>\n",
       "      <td>16.064975</td>\n",
       "      <td>4.614849e+07</td>\n",
       "    </tr>\n",
       "    <tr>\n",
       "      <th>std</th>\n",
       "      <td>7.724550</td>\n",
       "      <td>2.412189e+07</td>\n",
       "      <td>10.628801</td>\n",
       "      <td>2.619721e+07</td>\n",
       "    </tr>\n",
       "    <tr>\n",
       "      <th>min</th>\n",
       "      <td>12.000000</td>\n",
       "      <td>2.000000e+02</td>\n",
       "      <td>0.000000</td>\n",
       "      <td>1.000000e+07</td>\n",
       "    </tr>\n",
       "    <tr>\n",
       "      <th>25%</th>\n",
       "      <td>36.000000</td>\n",
       "      <td>1.698640e+07</td>\n",
       "      <td>7.000000</td>\n",
       "      <td>3.000000e+07</td>\n",
       "    </tr>\n",
       "    <tr>\n",
       "      <th>50%</th>\n",
       "      <td>48.000000</td>\n",
       "      <td>2.845210e+07</td>\n",
       "      <td>15.000000</td>\n",
       "      <td>4.000000e+07</td>\n",
       "    </tr>\n",
       "    <tr>\n",
       "      <th>75%</th>\n",
       "      <td>48.000000</td>\n",
       "      <td>4.328710e+07</td>\n",
       "      <td>23.000000</td>\n",
       "      <td>5.500000e+07</td>\n",
       "    </tr>\n",
       "    <tr>\n",
       "      <th>max</th>\n",
       "      <td>240.000000</td>\n",
       "      <td>1.137036e+09</td>\n",
       "      <td>85.000000</td>\n",
       "      <td>1.300000e+09</td>\n",
       "    </tr>\n",
       "  </tbody>\n",
       "</table>\n",
       "</div>"
      ],
      "text/plain": [
       "              TENURE   PRINBALANCE  Months on Books  Sanctioned Amount\n",
       "count  160153.000000  1.601530e+05    160153.000000       1.601530e+05\n",
       "mean       41.801103  3.290176e+07        16.064975       4.614849e+07\n",
       "std         7.724550  2.412189e+07        10.628801       2.619721e+07\n",
       "min        12.000000  2.000000e+02         0.000000       1.000000e+07\n",
       "25%        36.000000  1.698640e+07         7.000000       3.000000e+07\n",
       "50%        48.000000  2.845210e+07        15.000000       4.000000e+07\n",
       "75%        48.000000  4.328710e+07        23.000000       5.500000e+07\n",
       "max       240.000000  1.137036e+09        85.000000       1.300000e+09"
      ]
     },
     "execution_count": 12,
     "metadata": {},
     "output_type": "execute_result"
    }
   ],
   "source": [
    "loanstatus_join.describe()"
   ]
  },
  {
   "cell_type": "code",
   "execution_count": 13,
   "metadata": {},
   "outputs": [
    {
     "data": {
      "text/html": [
       "<div>\n",
       "<style scoped>\n",
       "    .dataframe tbody tr th:only-of-type {\n",
       "        vertical-align: middle;\n",
       "    }\n",
       "\n",
       "    .dataframe tbody tr th {\n",
       "        vertical-align: top;\n",
       "    }\n",
       "\n",
       "    .dataframe thead th {\n",
       "        text-align: right;\n",
       "    }\n",
       "</style>\n",
       "<table border=\"1\" class=\"dataframe\">\n",
       "  <thead>\n",
       "    <tr style=\"text-align: right;\">\n",
       "      <th></th>\n",
       "      <th>Loan_id</th>\n",
       "      <th>Bucket</th>\n",
       "      <th>PRINBALANCE</th>\n",
       "      <th>Month</th>\n",
       "    </tr>\n",
       "  </thead>\n",
       "  <tbody>\n",
       "    <tr>\n",
       "      <th>0</th>\n",
       "      <td>A810487695</td>\n",
       "      <td>TB0</td>\n",
       "      <td>10539100.0</td>\n",
       "      <td>April</td>\n",
       "    </tr>\n",
       "    <tr>\n",
       "      <th>1</th>\n",
       "      <td>A205346000</td>\n",
       "      <td>TB0</td>\n",
       "      <td>3693500.0</td>\n",
       "      <td>March</td>\n",
       "    </tr>\n",
       "    <tr>\n",
       "      <th>2</th>\n",
       "      <td>A675851816</td>\n",
       "      <td>TB0</td>\n",
       "      <td>24353700.0</td>\n",
       "      <td>March</td>\n",
       "    </tr>\n",
       "    <tr>\n",
       "      <th>3</th>\n",
       "      <td>A810487695</td>\n",
       "      <td>TB0</td>\n",
       "      <td>9649000.0</td>\n",
       "      <td>May</td>\n",
       "    </tr>\n",
       "    <tr>\n",
       "      <th>4</th>\n",
       "      <td>A269873383</td>\n",
       "      <td>TB0</td>\n",
       "      <td>4441700.0</td>\n",
       "      <td>May</td>\n",
       "    </tr>\n",
       "  </tbody>\n",
       "</table>\n",
       "</div>"
      ],
      "text/plain": [
       "      Loan_id Bucket  PRINBALANCE  Month\n",
       "0  A810487695    TB0   10539100.0  April\n",
       "1  A205346000    TB0    3693500.0  March\n",
       "2  A675851816    TB0   24353700.0  March\n",
       "3  A810487695    TB0    9649000.0    May\n",
       "4  A269873383    TB0    4441700.0    May"
      ]
     },
     "execution_count": 13,
     "metadata": {},
     "output_type": "execute_result"
    }
   ],
   "source": [
    "# Subsetting only 4 columns\n",
    "loanstatus_join=loanstatus_join[['Loan_id', 'Bucket', 'PRINBALANCE' ,'Month']]\n",
    "loanstatus_join.head()"
   ]
  },
  {
   "cell_type": "code",
   "execution_count": 14,
   "metadata": {},
   "outputs": [
    {
     "name": "stdout",
     "output_type": "stream",
     "text": [
      "(24575, 3)\n"
     ]
    }
   ],
   "source": [
    "#Subsetting only for March\n",
    "status_march=loanstatus_join[loanstatus_join['Month']=='March']\n",
    "status_march=status_march[['Loan_id', 'Bucket', 'PRINBALANCE' ]]\n",
    "print(status_march.shape)\n",
    "#status_march.head()"
   ]
  },
  {
   "cell_type": "code",
   "execution_count": 15,
   "metadata": {},
   "outputs": [
    {
     "name": "stdout",
     "output_type": "stream",
     "text": [
      "(50932, 3)\n"
     ]
    }
   ],
   "source": [
    "# Subsetting only for April\n",
    "status_april=loanstatus_join[loanstatus_join['Month']=='April']\n",
    "status_april=status_april[['Loan_id', 'Bucket', 'PRINBALANCE' ]]\n",
    "print(status_april.shape)\n",
    "#status_april.head()"
   ]
  },
  {
   "cell_type": "code",
   "execution_count": 16,
   "metadata": {},
   "outputs": [
    {
     "name": "stdout",
     "output_type": "stream",
     "text": [
      "(55531, 3)\n"
     ]
    }
   ],
   "source": [
    "# Subsetting only for May\n",
    "status_may=loanstatus_join[loanstatus_join['Month']=='May']\n",
    "status_may=status_may[['Loan_id', 'Bucket', 'PRINBALANCE' ]]\n",
    "print(status_may.shape)\n",
    "#status_may.head()"
   ]
  },
  {
   "cell_type": "code",
   "execution_count": 17,
   "metadata": {},
   "outputs": [
    {
     "name": "stdout",
     "output_type": "stream",
     "text": [
      "(29115, 3)\n"
     ]
    }
   ],
   "source": [
    "# Subsetting only for June\n",
    "status_jun=loanstatus_join[loanstatus_join['Month']=='June']\n",
    "status_jun=status_jun[['Loan_id', 'Bucket', 'PRINBALANCE' ]]\n",
    "print(status_jun.shape)\n",
    "#status_jun.head()"
   ]
  },
  {
   "cell_type": "code",
   "execution_count": 18,
   "metadata": {},
   "outputs": [
    {
     "data": {
      "image/png": "[encoded data removed]",
      "text/plain": [
       "<Figure size 504x432 with 1 Axes>"
      ]
     },
     "metadata": {
      "needs_background": "light"
     },
     "output_type": "display_data"
    }
   ],
   "source": [
    "status_march['Bucket'].value_counts().plot(kind='bar', figsize=(7, 6), rot=0)\n",
    "plt.xlabel(\"Bucket\", labelpad=14)\n",
    "plt.ylabel(\"Count of Buckets\", labelpad=14)\n",
    "plt.title(\"Count of Bucket for March\", y=1.02);"
   ]
  },
  {
   "cell_type": "code",
   "execution_count": 19,
   "metadata": {},
   "outputs": [
    {
     "data": {
      "image/png": "[encoded data removed]",
      "text/plain": [
       "<Figure size 504x432 with 1 Axes>"
      ]
     },
     "metadata": {
      "needs_background": "light"
     },
     "output_type": "display_data"
    }
   ],
   "source": [
    "status_april['Bucket'].value_counts().plot(kind='bar', figsize=(7, 6), rot=0)\n",
    "plt.xlabel(\"Bucket\", labelpad=14)\n",
    "plt.ylabel(\"Count of Buckets\", labelpad=14)\n",
    "plt.title(\"Count of Bucket for April\", y=1.02);"
   ]
  },
  {
   "cell_type": "code",
   "execution_count": 20,
   "metadata": {},
   "outputs": [
    {
     "data": {
      "image/png": "[encoded data removed]",
      "text/plain": [
       "<Figure size 504x432 with 1 Axes>"
      ]
     },
     "metadata": {
      "needs_background": "light"
     },
     "output_type": "display_data"
    }
   ],
   "source": [
    "status_may['Bucket'].value_counts().plot(kind='bar', figsize=(7, 6), rot=0)\n",
    "plt.xlabel(\"Bucket\", labelpad=14)\n",
    "plt.ylabel(\"Count of Buckets\", labelpad=14)\n",
    "plt.title(\"Count of Bucket for May\", y=1.02);"
   ]
  },
  {
   "cell_type": "code",
   "execution_count": 21,
   "metadata": {},
   "outputs": [
    {
     "data": {
      "image/png": "[encoded data removed]",
      "text/plain": [
       "<Figure size 504x432 with 1 Axes>"
      ]
     },
     "metadata": {
      "needs_background": "light"
     },
     "output_type": "display_data"
    }
   ],
   "source": [
    "status_jun['Bucket'].value_counts().plot(kind='bar', figsize=(7, 6), rot=0)\n",
    "plt.xlabel(\"Bucket\", labelpad=14)\n",
    "plt.ylabel(\"Count of Buckets\", labelpad=14)\n",
    "plt.title(\"Count of Bucket for June\", y=1.02);"
   ]
  },
  {
   "cell_type": "code",
   "execution_count": 22,
   "metadata": {},
   "outputs": [
    {
     "data": {
      "text/html": [
       "<div>\n",
       "<style scoped>\n",
       "    .dataframe tbody tr th:only-of-type {\n",
       "        vertical-align: middle;\n",
       "    }\n",
       "\n",
       "    .dataframe tbody tr th {\n",
       "        vertical-align: top;\n",
       "    }\n",
       "\n",
       "    .dataframe thead th {\n",
       "        text-align: right;\n",
       "    }\n",
       "</style>\n",
       "<table border=\"1\" class=\"dataframe\">\n",
       "  <thead>\n",
       "    <tr style=\"text-align: right;\">\n",
       "      <th></th>\n",
       "      <th>March-April %</th>\n",
       "      <th>April-May %</th>\n",
       "      <th>May-June %</th>\n",
       "    </tr>\n",
       "  </thead>\n",
       "  <tbody>\n",
       "    <tr>\n",
       "      <th>0</th>\n",
       "      <td>114.205493</td>\n",
       "      <td>106.983539</td>\n",
       "      <td>5.252115</td>\n",
       "    </tr>\n",
       "  </tbody>\n",
       "</table>\n",
       "</div>"
      ],
      "text/plain": [
       "   March-April %  April-May %  May-June %\n",
       "0     114.205493   106.983539    5.252115"
      ]
     },
     "execution_count": 22,
     "metadata": {},
     "output_type": "execute_result"
    }
   ],
   "source": [
    "c1=100*status_april[status_april['Bucket']=='TB0'].shape[0]/status_march.shape[0]\n",
    "c2=100*status_may[status_may['Bucket']=='TB0'].shape[0]/status_april[status_april['Bucket']=='TB0'].shape[0]\n",
    "c3=100*status_jun[status_jun['Bucket']=='TB0'].shape[0]/status_may[status_may['Bucket']=='TB0'].shape[0]\n",
    "data = {'March-April %':  [c1],'April-May %': [c2], 'May-June %': [c3] }\n",
    "df1 = pd.DataFrame (data, columns = ['March-April %','April-May %','May-June %'])\n",
    "df1"
   ]
  },
  {
   "cell_type": "code",
   "execution_count": 23,
   "metadata": {},
   "outputs": [
    {
     "data": {
      "text/html": [
       "<div>\n",
       "<style scoped>\n",
       "    .dataframe tbody tr th:only-of-type {\n",
       "        vertical-align: middle;\n",
       "    }\n",
       "\n",
       "    .dataframe tbody tr th {\n",
       "        vertical-align: top;\n",
       "    }\n",
       "\n",
       "    .dataframe thead th {\n",
       "        text-align: right;\n",
       "    }\n",
       "</style>\n",
       "<table border=\"1\" class=\"dataframe\">\n",
       "  <thead>\n",
       "    <tr style=\"text-align: right;\">\n",
       "      <th></th>\n",
       "      <th>March-April %</th>\n",
       "      <th>April-May %</th>\n",
       "      <th>May-June %</th>\n",
       "    </tr>\n",
       "  </thead>\n",
       "  <tbody>\n",
       "    <tr>\n",
       "      <th>0</th>\n",
       "      <td>115.796541</td>\n",
       "      <td>133.59733</td>\n",
       "      <td>6.317097</td>\n",
       "    </tr>\n",
       "  </tbody>\n",
       "</table>\n",
       "</div>"
      ],
      "text/plain": [
       "   March-April %  April-May %  May-June %\n",
       "0     115.796541    133.59733    6.317097"
      ]
     },
     "execution_count": 23,
     "metadata": {},
     "output_type": "execute_result"
    }
   ],
   "source": [
    "a1=100*status_april[(status_april['Bucket']=='TB0')|(status_april['Bucket']=='TB1')].shape[0]/status_march.shape[0]\n",
    "a2=100*status_may[status_may['Bucket']=='TB0'].shape[0]/status_april[status_april['Bucket']=='REGULAR'].shape[0]\n",
    "a3=100*status_jun[status_jun['Bucket']=='TB0'].shape[0]/status_may[status_may['Bucket']=='REGULAR'].shape[0]\n",
    "data = {'March-April %':  [a1],'April-May %': [a2], 'May-June %': [a3] }\n",
    "df2 = pd.DataFrame (data, columns = ['March-April %','April-May %','May-June %'])\n",
    "df2"
   ]
  },
  {
   "cell_type": "markdown",
   "metadata": {},
   "source": [
    "### LEVEL 1:    2. What is the Princple outstanding balance roll forward rate for the same months as above for TB0?"
   ]
  },
  {
   "cell_type": "markdown",
   "metadata": {},
   "source": [
    "<i>To my understanding, when considering delinquency roll rates by balances, a bank will base their calculations on total delinquent balances. For instance, if the 60-day delinquent balance for a small bank's credit card portfolio in February is 100 million, and the 90-day delinquent balance for March is 40 million, the 60-to-90 day roll-rate in March is 40% (i.e., 40 divided to 100 million). This implies that 40% of the 100 million receivables in the 60-day bucket in February have migrated to the 90-day bucket in March.</i>"
   ]
  },
  {
   "cell_type": "code",
   "execution_count": 24,
   "metadata": {},
   "outputs": [
    {
     "data": {
      "text/html": [
       "<div>\n",
       "<style scoped>\n",
       "    .dataframe tbody tr th:only-of-type {\n",
       "        vertical-align: middle;\n",
       "    }\n",
       "\n",
       "    .dataframe tbody tr th {\n",
       "        vertical-align: top;\n",
       "    }\n",
       "\n",
       "    .dataframe thead th {\n",
       "        text-align: right;\n",
       "    }\n",
       "</style>\n",
       "<table border=\"1\" class=\"dataframe\">\n",
       "  <thead>\n",
       "    <tr style=\"text-align: right;\">\n",
       "      <th></th>\n",
       "      <th>March-April %</th>\n",
       "      <th>April-May %</th>\n",
       "      <th>May-June %</th>\n",
       "    </tr>\n",
       "  </thead>\n",
       "  <tbody>\n",
       "    <tr>\n",
       "      <th>0</th>\n",
       "      <td>113.23364</td>\n",
       "      <td>110.840032</td>\n",
       "      <td>4.969195</td>\n",
       "    </tr>\n",
       "  </tbody>\n",
       "</table>\n",
       "</div>"
      ],
      "text/plain": [
       "   March-April %  April-May %  May-June %\n",
       "0      113.23364   110.840032    4.969195"
      ]
     },
     "execution_count": 24,
     "metadata": {},
     "output_type": "execute_result"
    }
   ],
   "source": [
    "v1=100*(status_april[(status_april['Bucket']=='TB0')|(status_april['Bucket']=='TB1')]['PRINBALANCE'].sum()/status_march['PRINBALANCE'].sum())\n",
    "v2=100*(status_may[(status_may['Bucket']=='TB0')|(status_may['Bucket']=='TB1')]['PRINBALANCE'].sum()/status_april[(status_april['Bucket']=='TB0')]['PRINBALANCE'].sum())\n",
    "v3=100*(status_jun[(status_jun['Bucket']=='TB0')|(status_jun['Bucket']=='TB1')]['PRINBALANCE'].sum()/status_may[(status_may['Bucket']=='TB0')]['PRINBALANCE'].sum())\n",
    "data = {'March-April %':  [v1],'April-May %': [v2], 'May-June %': [v3] }\n",
    "df3 = pd.DataFrame (data, columns = ['March-April %','April-May %','May-June %'])\n",
    "df3"
   ]
  },
  {
   "cell_type": "markdown",
   "metadata": {},
   "source": [
    "#### LEVEL 1:   3.What is the average attempt intensity, RPC rate and PTP rate on accounts for the months of mar, Apr and May"
   ]
  },
  {
   "cell_type": "code",
   "execution_count": 25,
   "metadata": {},
   "outputs": [],
   "source": [
    "#Average attempt per each month\n",
    "March_attempt=call_detail_df[call_detail_df['month']==3]['total_contacts'].mean()\n",
    "April_attempt=call_detail_df[call_detail_df['month']==4]['total_contacts'].mean()\n",
    "May_attempt=call_detail_df[call_detail_df['month']==5]['total_contacts'].mean()"
   ]
  },
  {
   "cell_type": "code",
   "execution_count": 26,
   "metadata": {},
   "outputs": [],
   "source": [
    "#Average RPC per each month\n",
    "March_rpc=call_detail_df[call_detail_df['month']==3]['Right_Party_Contact'].mean()\n",
    "April_rpc=call_detail_df[call_detail_df['month']==4]['Right_Party_Contact'].mean()\n",
    "May_rpc=call_detail_df[call_detail_df['month']==5]['Right_Party_Contact'].mean()"
   ]
  },
  {
   "cell_type": "code",
   "execution_count": 27,
   "metadata": {},
   "outputs": [],
   "source": [
    "#Average PTP per each month\n",
    "March_ptp=call_detail_df[call_detail_df['month']==3]['Promise_to_pay'].mean()\n",
    "April_ptp=call_detail_df[call_detail_df['month']==4]['Promise_to_pay'].mean()\n",
    "May_ptp=call_detail_df[call_detail_df['month']==5]['Promise_to_pay'].mean()"
   ]
  },
  {
   "cell_type": "code",
   "execution_count": 28,
   "metadata": {},
   "outputs": [
    {
     "data": {
      "text/html": [
       "<div>\n",
       "<style scoped>\n",
       "    .dataframe tbody tr th:only-of-type {\n",
       "        vertical-align: middle;\n",
       "    }\n",
       "\n",
       "    .dataframe tbody tr th {\n",
       "        vertical-align: top;\n",
       "    }\n",
       "\n",
       "    .dataframe thead th {\n",
       "        text-align: right;\n",
       "    }\n",
       "</style>\n",
       "<table border=\"1\" class=\"dataframe\">\n",
       "  <thead>\n",
       "    <tr style=\"text-align: right;\">\n",
       "      <th></th>\n",
       "      <th>March Avg</th>\n",
       "      <th>April Avg</th>\n",
       "      <th>May Avg</th>\n",
       "    </tr>\n",
       "  </thead>\n",
       "  <tbody>\n",
       "    <tr>\n",
       "      <th>total_contacts</th>\n",
       "      <td>12.125772</td>\n",
       "      <td>10.511585</td>\n",
       "      <td>10.457885</td>\n",
       "    </tr>\n",
       "    <tr>\n",
       "      <th>Right_Party_Contact</th>\n",
       "      <td>3.334019</td>\n",
       "      <td>3.136668</td>\n",
       "      <td>3.181682</td>\n",
       "    </tr>\n",
       "    <tr>\n",
       "      <th>Promise_to_pay</th>\n",
       "      <td>1.198120</td>\n",
       "      <td>1.109439</td>\n",
       "      <td>1.058678</td>\n",
       "    </tr>\n",
       "  </tbody>\n",
       "</table>\n",
       "</div>"
      ],
      "text/plain": [
       "                     March Avg  April Avg    May Avg\n",
       "total_contacts       12.125772  10.511585  10.457885\n",
       "Right_Party_Contact   3.334019   3.136668   3.181682\n",
       "Promise_to_pay        1.198120   1.109439   1.058678"
      ]
     },
     "execution_count": 28,
     "metadata": {},
     "output_type": "execute_result"
    }
   ],
   "source": [
    "data = {'March Avg':  [March_attempt,March_rpc,March_ptp],'April Avg': [April_attempt,April_rpc,April_ptp], 'May Avg': [May_attempt,May_rpc,May_ptp] }\n",
    "df4= pd.DataFrame (data, columns = ['March Avg','April Avg','May Avg'],index=['total_contacts','Right_Party_Contact','Promise_to_pay'])\n",
    "df4"
   ]
  },
  {
   "cell_type": "markdown",
   "metadata": {},
   "source": [
    "### LEVEL 2:   2. Is there any correlation between the princple balance remaining and the term completed"
   ]
  },
  {
   "cell_type": "code",
   "execution_count": 29,
   "metadata": {},
   "outputs": [
    {
     "data": {
      "text/html": [
       "<div>\n",
       "<style scoped>\n",
       "    .dataframe tbody tr th:only-of-type {\n",
       "        vertical-align: middle;\n",
       "    }\n",
       "\n",
       "    .dataframe tbody tr th {\n",
       "        vertical-align: top;\n",
       "    }\n",
       "\n",
       "    .dataframe thead th {\n",
       "        text-align: right;\n",
       "    }\n",
       "</style>\n",
       "<table border=\"1\" class=\"dataframe\">\n",
       "  <thead>\n",
       "    <tr style=\"text-align: right;\">\n",
       "      <th></th>\n",
       "      <th>PRINBALANCE</th>\n",
       "      <th>Term_Completed</th>\n",
       "    </tr>\n",
       "  </thead>\n",
       "  <tbody>\n",
       "    <tr>\n",
       "      <th>PRINBALANCE</th>\n",
       "      <td>1.000000</td>\n",
       "      <td>-0.569316</td>\n",
       "    </tr>\n",
       "    <tr>\n",
       "      <th>Term_Completed</th>\n",
       "      <td>-0.569316</td>\n",
       "      <td>1.000000</td>\n",
       "    </tr>\n",
       "  </tbody>\n",
       "</table>\n",
       "</div>"
      ],
      "text/plain": [
       "                PRINBALANCE  Term_Completed\n",
       "PRINBALANCE        1.000000       -0.569316\n",
       "Term_Completed    -0.569316        1.000000"
      ]
     },
     "execution_count": 29,
     "metadata": {},
     "output_type": "execute_result"
    }
   ],
   "source": [
    "loanstatus_merge=pd.concat([status_martomay_df, loan_aprtojun_df ], sort=False, ignore_index=True).drop_duplicates()\n",
    "loanstatus_merge['Term_Completed']=loanstatus_merge['Months on Books']/loanstatus_merge['TENURE']\n",
    "loanstatus_merge[['PRINBALANCE','Term_Completed']].corr()"
   ]
  },
  {
   "cell_type": "markdown",
   "metadata": {},
   "source": [
    "### LEVEL 2:        3.\tIdentify the agents who are showing the best and worst performance"
   ]
  },
  {
   "cell_type": "markdown",
   "metadata": {},
   "source": [
    "#### QC: Discriptive stats for Call details data"
   ]
  },
  {
   "cell_type": "code",
   "execution_count": 30,
   "metadata": {},
   "outputs": [
    {
     "data": {
      "text/html": [
       "<style  type=\"text/css\" >\n",
       "    #T_b1f3ec80_9e43_11ea_9c5f_645106af6fbbrow0_col0 {\n",
       "            background-color:  #fde725;\n",
       "            color:  #000000;\n",
       "        }    #T_b1f3ec80_9e43_11ea_9c5f_645106af6fbbrow0_col1 {\n",
       "            background-color:  #48186a;\n",
       "            color:  #f1f1f1;\n",
       "        }    #T_b1f3ec80_9e43_11ea_9c5f_645106af6fbbrow0_col2 {\n",
       "            background-color:  #355e8d;\n",
       "            color:  #f1f1f1;\n",
       "        }    #T_b1f3ec80_9e43_11ea_9c5f_645106af6fbbrow1_col0 {\n",
       "            background-color:  #440154;\n",
       "            color:  #f1f1f1;\n",
       "        }    #T_b1f3ec80_9e43_11ea_9c5f_645106af6fbbrow1_col1 {\n",
       "            background-color:  #fde725;\n",
       "            color:  #000000;\n",
       "        }    #T_b1f3ec80_9e43_11ea_9c5f_645106af6fbbrow1_col2 {\n",
       "            background-color:  #440154;\n",
       "            color:  #f1f1f1;\n",
       "        }    #T_b1f3ec80_9e43_11ea_9c5f_645106af6fbbrow2_col0 {\n",
       "            background-color:  #3b518b;\n",
       "            color:  #f1f1f1;\n",
       "        }    #T_b1f3ec80_9e43_11ea_9c5f_645106af6fbbrow2_col1 {\n",
       "            background-color:  #440154;\n",
       "            color:  #f1f1f1;\n",
       "        }    #T_b1f3ec80_9e43_11ea_9c5f_645106af6fbbrow2_col2 {\n",
       "            background-color:  #fde725;\n",
       "            color:  #000000;\n",
       "        }</style><table id=\"T_b1f3ec80_9e43_11ea_9c5f_645106af6fbb\" ><thead>    <tr>        <th class=\"blank level0\" ></th>        <th class=\"col_heading level0 col0\" >Right_Party_Contact</th>        <th class=\"col_heading level0 col1\" >Promise_to_pay</th>        <th class=\"col_heading level0 col2\" >total_contacts</th>    </tr></thead><tbody>\n",
       "                <tr>\n",
       "                        <th id=\"T_b1f3ec80_9e43_11ea_9c5f_645106af6fbblevel0_row0\" class=\"row_heading level0 row0\" >Right_Party_Contact</th>\n",
       "                        <td id=\"T_b1f3ec80_9e43_11ea_9c5f_645106af6fbbrow0_col0\" class=\"data row0 col0\" >1</td>\n",
       "                        <td id=\"T_b1f3ec80_9e43_11ea_9c5f_645106af6fbbrow0_col1\" class=\"data row0 col1\" >0.39</td>\n",
       "                        <td id=\"T_b1f3ec80_9e43_11ea_9c5f_645106af6fbbrow0_col2\" class=\"data row0 col2\" >0.54</td>\n",
       "            </tr>\n",
       "            <tr>\n",
       "                        <th id=\"T_b1f3ec80_9e43_11ea_9c5f_645106af6fbblevel0_row1\" class=\"row_heading level0 row1\" >Promise_to_pay</th>\n",
       "                        <td id=\"T_b1f3ec80_9e43_11ea_9c5f_645106af6fbbrow1_col0\" class=\"data row1 col0\" >0.39</td>\n",
       "                        <td id=\"T_b1f3ec80_9e43_11ea_9c5f_645106af6fbbrow1_col1\" class=\"data row1 col1\" >1</td>\n",
       "                        <td id=\"T_b1f3ec80_9e43_11ea_9c5f_645106af6fbbrow1_col2\" class=\"data row1 col2\" >0.34</td>\n",
       "            </tr>\n",
       "            <tr>\n",
       "                        <th id=\"T_b1f3ec80_9e43_11ea_9c5f_645106af6fbblevel0_row2\" class=\"row_heading level0 row2\" >total_contacts</th>\n",
       "                        <td id=\"T_b1f3ec80_9e43_11ea_9c5f_645106af6fbbrow2_col0\" class=\"data row2 col0\" >0.54</td>\n",
       "                        <td id=\"T_b1f3ec80_9e43_11ea_9c5f_645106af6fbbrow2_col1\" class=\"data row2 col1\" >0.34</td>\n",
       "                        <td id=\"T_b1f3ec80_9e43_11ea_9c5f_645106af6fbbrow2_col2\" class=\"data row2 col2\" >1</td>\n",
       "            </tr>\n",
       "    </tbody></table>"
      ],
      "text/plain": [
       "<pandas.io.formats.style.Styler at 0xc7f08ff2e8>"
      ]
     },
     "execution_count": 30,
     "metadata": {},
     "output_type": "execute_result"
    }
   ],
   "source": [
    "# Our main goal is to derive some KPI from data so that we can come up with metrics to evaluate performance of agents\n",
    "# First of all, we can look at correlation among Total_contacts, RPC and PTP\n",
    "# we have to keep in mind Correlation Does Not Imply Causation, Correlation between two variables indicates that \n",
    "#changes in one variable are associated with changes in the other variable. \n",
    "#However, correlation does not mean that the changes in one variable actually cause the changes in the other variable.\n",
    "\n",
    "corr=call_detail_df[['Right_Party_Contact','Promise_to_pay', 'total_contacts']].corr()\n",
    "corr.style.background_gradient(cmap='viridis').set_precision(2)\n",
    "\n",
    "#We can observe moderate positive correlation among RPC-total_contacts and RPC-PTP, while total contacts-RPC has more stronger positive corr"
   ]
  },
  {
   "cell_type": "code",
   "execution_count": 31,
   "metadata": {},
   "outputs": [
    {
     "name": "stdout",
     "output_type": "stream",
     "text": [
      "Number of Agents:  114\n"
     ]
    }
   ],
   "source": [
    "print('Number of Agents: ', call_detail_df['Login_ID'].nunique())"
   ]
  },
  {
   "cell_type": "code",
   "execution_count": 32,
   "metadata": {},
   "outputs": [
    {
     "data": {
      "text/html": [
       "<div>\n",
       "<style scoped>\n",
       "    .dataframe tbody tr th:only-of-type {\n",
       "        vertical-align: middle;\n",
       "    }\n",
       "\n",
       "    .dataframe tbody tr th {\n",
       "        vertical-align: top;\n",
       "    }\n",
       "\n",
       "    .dataframe thead th {\n",
       "        text-align: right;\n",
       "    }\n",
       "</style>\n",
       "<table border=\"1\" class=\"dataframe\">\n",
       "  <thead>\n",
       "    <tr style=\"text-align: right;\">\n",
       "      <th></th>\n",
       "      <th>month</th>\n",
       "      <th>Right_Party_Contact</th>\n",
       "      <th>Promise_to_pay</th>\n",
       "      <th>total_contacts</th>\n",
       "    </tr>\n",
       "  </thead>\n",
       "  <tbody>\n",
       "    <tr>\n",
       "      <th>count</th>\n",
       "      <td>79612.000000</td>\n",
       "      <td>79612.000000</td>\n",
       "      <td>79612.000000</td>\n",
       "      <td>79612.000000</td>\n",
       "    </tr>\n",
       "    <tr>\n",
       "      <th>mean</th>\n",
       "      <td>4.040195</td>\n",
       "      <td>3.213925</td>\n",
       "      <td>1.119203</td>\n",
       "      <td>10.995202</td>\n",
       "    </tr>\n",
       "    <tr>\n",
       "      <th>std</th>\n",
       "      <td>0.813131</td>\n",
       "      <td>6.639111</td>\n",
       "      <td>1.490002</td>\n",
       "      <td>21.288990</td>\n",
       "    </tr>\n",
       "    <tr>\n",
       "      <th>min</th>\n",
       "      <td>3.000000</td>\n",
       "      <td>0.000000</td>\n",
       "      <td>0.000000</td>\n",
       "      <td>1.000000</td>\n",
       "    </tr>\n",
       "    <tr>\n",
       "      <th>25%</th>\n",
       "      <td>3.000000</td>\n",
       "      <td>1.000000</td>\n",
       "      <td>0.000000</td>\n",
       "      <td>2.000000</td>\n",
       "    </tr>\n",
       "    <tr>\n",
       "      <th>50%</th>\n",
       "      <td>4.000000</td>\n",
       "      <td>2.000000</td>\n",
       "      <td>1.000000</td>\n",
       "      <td>4.000000</td>\n",
       "    </tr>\n",
       "    <tr>\n",
       "      <th>75%</th>\n",
       "      <td>5.000000</td>\n",
       "      <td>4.000000</td>\n",
       "      <td>2.000000</td>\n",
       "      <td>11.000000</td>\n",
       "    </tr>\n",
       "    <tr>\n",
       "      <th>max</th>\n",
       "      <td>5.000000</td>\n",
       "      <td>651.000000</td>\n",
       "      <td>25.000000</td>\n",
       "      <td>659.000000</td>\n",
       "    </tr>\n",
       "  </tbody>\n",
       "</table>\n",
       "</div>"
      ],
      "text/plain": [
       "              month  Right_Party_Contact  Promise_to_pay  total_contacts\n",
       "count  79612.000000         79612.000000    79612.000000    79612.000000\n",
       "mean       4.040195             3.213925        1.119203       10.995202\n",
       "std        0.813131             6.639111        1.490002       21.288990\n",
       "min        3.000000             0.000000        0.000000        1.000000\n",
       "25%        3.000000             1.000000        0.000000        2.000000\n",
       "50%        4.000000             2.000000        1.000000        4.000000\n",
       "75%        5.000000             4.000000        2.000000       11.000000\n",
       "max        5.000000           651.000000       25.000000      659.000000"
      ]
     },
     "execution_count": 32,
     "metadata": {},
     "output_type": "execute_result"
    }
   ],
   "source": [
    "#Summary stats\n",
    "call_detail_df.describe()"
   ]
  },
  {
   "cell_type": "markdown",
   "metadata": {},
   "source": [
    "#### KPI 1: Number of cases being worked per collector for the period\n",
    "\n",
    "<i>This KPI shows the total number of active borrowers, a collection employee is handling at a given time in relation to the total number of borrower the business has. If a collection employee is handling more cases, he will be more efficient in the use of his time and recources to recover the business debts. </i>"
   ]
  },
  {
   "cell_type": "code",
   "execution_count": 33,
   "metadata": {},
   "outputs": [
    {
     "data": {
      "text/plain": [
       "Text(0.5, 1.0, 'Number of Cases being worked per Agent March-May: Top-30 Agents')"
      ]
     },
     "execution_count": 33,
     "metadata": {},
     "output_type": "execute_result"
    },
    {
     "data": {
      "image/png": "[encoded data removed]",
      "text/plain": [
       "<Figure size 576x1152 with 1 Axes>"
      ]
     },
     "metadata": {
      "needs_background": "light"
     },
     "output_type": "display_data"
    }
   ],
   "source": [
    "d=call_detail_df['Login_ID'].value_counts()\n",
    "contract_df = pd.DataFrame({'Agents': d.index,'Number of cases being worked per collector': d.values})\n",
    "v=contract_df.head(70)\n",
    "f, ax = plt.subplots(figsize=(8,16))\n",
    "sns.set_color_codes(\"pastel\")\n",
    "ax=sns.barplot(x='Number of cases being worked per collector', y='Agents', data=v)\n",
    "ax.set_title('Number of Cases being worked per Agent March-May: Top-30 Agents')"
   ]
  },
  {
   "cell_type": "markdown",
   "metadata": {},
   "source": [
    "#### KPI 2: Percentage of Outbound Calls Resulting in Right Party Contacts (RPC) rate\n",
    "<i>It is a more specific metrics in the measurement of efficiency in  debt recovery. RPC will measure the ratio of all outbound calls that were made to the person who owes to the lender. A higher number, in this case, means more requests were made to the right party, and this shows a high success rate in locating debtors. RPC works on the notion that being able to identify, place a call and connect to the correct person is the very first successful step in recovering business debts and being an efficient collector. If, on the other hand, the collectors  as a whole have an RPC rate that is lower than other agents, it shows that there is not enough being done to recover debt for the organization. \n",
    "    \n",
    "PS:If this number is very low, it may be that you have a problem with identifying or contacting the right person, and you could consider adjusting your strategy around this. Maybe you could try asking for multiple contact details earlier in the buying process. Thus, there could be a bias that Agent just was unlucky to reach wrong person <i/>\n",
    "\n"
   ]
  },
  {
   "cell_type": "code",
   "execution_count": 34,
   "metadata": {},
   "outputs": [
    {
     "data": {
      "text/plain": [
       "Text(0.5, 1.0, 'Ranking of Agents by RPC rate')"
      ]
     },
     "execution_count": 34,
     "metadata": {},
     "output_type": "execute_result"
    },
    {
     "data": {
      "image/png": "[encoded data removed]",
      "text/plain": [
       "<Figure size 576x1152 with 1 Axes>"
      ]
     },
     "metadata": {
      "needs_background": "light"
     },
     "output_type": "display_data"
    }
   ],
   "source": [
    "rpc=100*call_detail_df.groupby('Login_ID', sort=True)['Right_Party_Contact'].sum()/call_detail_df.groupby('Login_ID')['total_contacts'].sum()\n",
    "rpc_df = pd.DataFrame({'Agents': rpc.index,'Percentage of RPC': rpc.values})\n",
    "rpc_df=rpc_df.sort_values(by = ['Percentage of RPC'], ascending=[False])\n",
    "f, ax1 = plt.subplots(figsize=(8,16))\n",
    "sns.set_color_codes(\"pastel\")\n",
    "ax1=sns.barplot(x='Percentage of RPC', y='Agents', data=rpc_df)\n",
    "ax1.set_title('Ranking of Agents by RPC rate')"
   ]
  },
  {
   "cell_type": "markdown",
   "metadata": {},
   "source": [
    "#### KPI 3: Percentage of Outbound Calls Resulting in Promise to Pay (PTP)\n",
    "<i>PTP is another significant rate in determining your overall collector efficiency. Making a call successfully to a debtor is a major step in recovering debts. For the collector, getting a promise to pay at the end of the call is a better step. PTP is measured in percentages, and it shows the percentage of all calls that have been made to a debtor that ends with a promise to pay the debt.\n",
    "\n",
    "Collectors should work towards keeping this percentage as close to 100 as possible. This would be a more accurate measure of proficiency in recovering the debt. If an individual collector’s rates are lower than others sharing a similar scope, it means there is room for improvement on as far as debt recovery in the organization is concerned.<i/>\n",
    "\n"
   ]
  },
  {
   "cell_type": "code",
   "execution_count": 35,
   "metadata": {},
   "outputs": [
    {
     "data": {
      "text/plain": [
       "Text(0.5, 1.0, 'Ranking of Agents by Outbound Calls Resulting in Promise to Pay (PTP)')"
      ]
     },
     "execution_count": 35,
     "metadata": {},
     "output_type": "execute_result"
    },
    {
     "data": {
      "image/png": "[encoded data removed]",
      "text/plain": [
       "<Figure size 576x1152 with 1 Axes>"
      ]
     },
     "metadata": {
      "needs_background": "light"
     },
     "output_type": "display_data"
    }
   ],
   "source": [
    "ptp=100*call_detail_df.groupby('Login_ID', sort=True)['Promise_to_pay'].sum()/call_detail_df.groupby('Login_ID')['total_contacts'].sum()\n",
    "ptp_df = pd.DataFrame({'Agents': ptp.index,'Percentage of PTP': ptp.values})\n",
    "ptp_df=ptp_df.sort_values(by = ['Percentage of PTP'], ascending=[False])\n",
    "f, ax2 = plt.subplots(figsize=(8,16))\n",
    "sns.set_color_codes(\"pastel\")\n",
    "ax2=sns.barplot(x='Percentage of PTP', y='Agents', data=ptp_df)\n",
    "ax2.set_title('Ranking of Agents by Outbound Calls Resulting in Promise to Pay (PTP)')"
   ]
  },
  {
   "cell_type": "code",
   "execution_count": null,
   "metadata": {},
   "outputs": [],
   "source": []
  },
  {
   "cell_type": "markdown",
   "metadata": {},
   "source": [
    "####  QC : Plotting Distributions of Consumer Total Income and Sancationed Amount"
   ]
  },
  {
   "cell_type": "code",
   "execution_count": 36,
   "metadata": {},
   "outputs": [
    {
     "data": {
      "text/plain": [
       "Text(0.5, 1.0, 'Distribution of Sanctioned (Approved) Amount')"
      ]
     },
     "execution_count": 36,
     "metadata": {},
     "output_type": "execute_result"
    },
    {
     "data": {
      "image/png": "[encoded data removed]",
      "text/plain": [
       "<Figure size 432x288 with 1 Axes>"
      ]
     },
     "metadata": {
      "needs_background": "light"
     },
     "output_type": "display_data"
    }
   ],
   "source": [
    "#Plotting dstibution of Sanctioned amount\n",
    "\n",
    "v=sns.distplot(loan_detail_df[\"Sanctioned Amount\"], bins=60, kde=False)\n",
    "v.set_title('Distribution of Sanctioned (Approved) Amount')\n"
   ]
  },
  {
   "cell_type": "code",
   "execution_count": 37,
   "metadata": {},
   "outputs": [
    {
     "data": {
      "text/plain": [
       "Text(0.5, 1.0, 'Total Income of Consumer')"
      ]
     },
     "execution_count": 37,
     "metadata": {},
     "output_type": "execute_result"
    },
    {
     "data": {
      "image/png": "[encoded data removed]",
      "text/plain": [
       "<Figure size 432x288 with 1 Axes>"
      ]
     },
     "metadata": {
      "needs_background": "light"
     },
     "output_type": "display_data"
    }
   ],
   "source": [
    "#Plotting Distribution Consumer Income\n",
    "loan_detail_df.drop(loan_detail_df['total_income'].idxmax(), inplace=True)\n",
    "loan_detail_df.drop(loan_detail_df['total_income'].idxmax(), inplace=True)\n",
    "loan_detail_df.drop(loan_detail_df['total_income'].idxmax(), inplace=True)\n",
    "loan_detail_df.drop(loan_detail_df['total_income'].idxmax(), inplace=True)\n",
    "fig2 = sns.distplot(loan_detail_df[\"total_income\"],bins=50, kde=False)\n",
    "fig2.set_title('Total Income of Consumer')\n"
   ]
  },
  {
   "cell_type": "markdown",
   "metadata": {},
   "source": [
    "#### QC: Additional EDA with joining tables, transformations, feature extractions "
   ]
  },
  {
   "cell_type": "code",
   "execution_count": 38,
   "metadata": {},
   "outputs": [
    {
     "data": {
      "text/html": [
       "<div>\n",
       "<style scoped>\n",
       "    .dataframe tbody tr th:only-of-type {\n",
       "        vertical-align: middle;\n",
       "    }\n",
       "\n",
       "    .dataframe tbody tr th {\n",
       "        vertical-align: top;\n",
       "    }\n",
       "\n",
       "    .dataframe thead th {\n",
       "        text-align: right;\n",
       "    }\n",
       "</style>\n",
       "<table border=\"1\" class=\"dataframe\">\n",
       "  <thead>\n",
       "    <tr style=\"text-align: right;\">\n",
       "      <th></th>\n",
       "      <th>Loan_id</th>\n",
       "      <th>Login_ID</th>\n",
       "      <th>total_contacts</th>\n",
       "      <th>Right_Party_Contact</th>\n",
       "      <th>Promise_to_pay</th>\n",
       "      <th>month</th>\n",
       "    </tr>\n",
       "  </thead>\n",
       "  <tbody>\n",
       "    <tr>\n",
       "      <th>0</th>\n",
       "      <td>A730581847</td>\n",
       "      <td>AGNT50</td>\n",
       "      <td>1</td>\n",
       "      <td>1</td>\n",
       "      <td>1</td>\n",
       "      <td>3</td>\n",
       "    </tr>\n",
       "    <tr>\n",
       "      <th>1</th>\n",
       "      <td>A134412216</td>\n",
       "      <td>AGNT12</td>\n",
       "      <td>2</td>\n",
       "      <td>1</td>\n",
       "      <td>0</td>\n",
       "      <td>3</td>\n",
       "    </tr>\n",
       "    <tr>\n",
       "      <th>2</th>\n",
       "      <td>A897161619</td>\n",
       "      <td>AGNT36</td>\n",
       "      <td>3</td>\n",
       "      <td>2</td>\n",
       "      <td>0</td>\n",
       "      <td>3</td>\n",
       "    </tr>\n",
       "    <tr>\n",
       "      <th>3</th>\n",
       "      <td>A897161619</td>\n",
       "      <td>AGNT4</td>\n",
       "      <td>5</td>\n",
       "      <td>3</td>\n",
       "      <td>2</td>\n",
       "      <td>4</td>\n",
       "    </tr>\n",
       "    <tr>\n",
       "      <th>4</th>\n",
       "      <td>A897161619</td>\n",
       "      <td>AGNT11</td>\n",
       "      <td>2</td>\n",
       "      <td>0</td>\n",
       "      <td>0</td>\n",
       "      <td>5</td>\n",
       "    </tr>\n",
       "  </tbody>\n",
       "</table>\n",
       "</div>"
      ],
      "text/plain": [
       "      Loan_id Login_ID  total_contacts  Right_Party_Contact  Promise_to_pay  \\\n",
       "0  A730581847   AGNT50               1                    1               1   \n",
       "1  A134412216   AGNT12               2                    1               0   \n",
       "2  A897161619   AGNT36               3                    2               0   \n",
       "3  A897161619    AGNT4               5                    3               2   \n",
       "4  A897161619   AGNT11               2                    0               0   \n",
       "\n",
       "   month  \n",
       "0      3  \n",
       "1      3  \n",
       "2      3  \n",
       "3      4  \n",
       "4      5  "
      ]
     },
     "execution_count": 38,
     "metadata": {},
     "output_type": "execute_result"
    }
   ],
   "source": [
    "#Merging mapping df with call detail df\n",
    "Call_idmap_mrg = pd.merge(call_detail_df, loan_idmap_df, left_on='Application_Id', right_on='Application_id').reset_index()\n",
    "Call_idmap_mrg=Call_idmap_mrg[['Loanid', 'Login_ID','total_contacts', 'Right_Party_Contact', 'Promise_to_pay', 'month']]\n",
    "Call_idmap_mrg=Call_idmap_mrg.rename(columns={'Loanid': \"Loan_id\"})\n",
    "Call_idmap_mrg.head()"
   ]
  },
  {
   "cell_type": "code",
   "execution_count": 39,
   "metadata": {},
   "outputs": [
    {
     "data": {
      "text/html": [
       "<div>\n",
       "<style scoped>\n",
       "    .dataframe tbody tr th:only-of-type {\n",
       "        vertical-align: middle;\n",
       "    }\n",
       "\n",
       "    .dataframe tbody tr th {\n",
       "        vertical-align: top;\n",
       "    }\n",
       "\n",
       "    .dataframe thead th {\n",
       "        text-align: right;\n",
       "    }\n",
       "</style>\n",
       "<table border=\"1\" class=\"dataframe\">\n",
       "  <thead>\n",
       "    <tr style=\"text-align: right;\">\n",
       "      <th></th>\n",
       "      <th>paidcure</th>\n",
       "      <th>paiduncure</th>\n",
       "      <th>unpaid</th>\n",
       "      <th>rollb</th>\n",
       "      <th>rollf</th>\n",
       "      <th>num6mosdel</th>\n",
       "      <th>num3mosdel</th>\n",
       "      <th>num6mosdel_2plus</th>\n",
       "      <th>num3mosdel_2plus</th>\n",
       "      <th>max6del</th>\n",
       "      <th>max3del</th>\n",
       "    </tr>\n",
       "  </thead>\n",
       "  <tbody>\n",
       "    <tr>\n",
       "      <th>count</th>\n",
       "      <td>80769.000000</td>\n",
       "      <td>80769.000000</td>\n",
       "      <td>80769.000000</td>\n",
       "      <td>80769.000000</td>\n",
       "      <td>80769.0</td>\n",
       "      <td>80769.000000</td>\n",
       "      <td>80769.000000</td>\n",
       "      <td>80769.000000</td>\n",
       "      <td>80769.000000</td>\n",
       "      <td>80769.00000</td>\n",
       "      <td>80769.000000</td>\n",
       "    </tr>\n",
       "    <tr>\n",
       "      <th>mean</th>\n",
       "      <td>5.319578</td>\n",
       "      <td>0.029219</td>\n",
       "      <td>0.068764</td>\n",
       "      <td>0.052805</td>\n",
       "      <td>0.0</td>\n",
       "      <td>0.175005</td>\n",
       "      <td>0.124144</td>\n",
       "      <td>0.007986</td>\n",
       "      <td>0.003714</td>\n",
       "      <td>0.11024</td>\n",
       "      <td>0.098342</td>\n",
       "    </tr>\n",
       "    <tr>\n",
       "      <th>std</th>\n",
       "      <td>1.389551</td>\n",
       "      <td>0.181921</td>\n",
       "      <td>0.264863</td>\n",
       "      <td>0.247906</td>\n",
       "      <td>0.0</td>\n",
       "      <td>0.670356</td>\n",
       "      <td>0.430435</td>\n",
       "      <td>0.151420</td>\n",
       "      <td>0.076840</td>\n",
       "      <td>0.33456</td>\n",
       "      <td>0.311912</td>\n",
       "    </tr>\n",
       "    <tr>\n",
       "      <th>min</th>\n",
       "      <td>0.000000</td>\n",
       "      <td>0.000000</td>\n",
       "      <td>0.000000</td>\n",
       "      <td>0.000000</td>\n",
       "      <td>0.0</td>\n",
       "      <td>0.000000</td>\n",
       "      <td>0.000000</td>\n",
       "      <td>0.000000</td>\n",
       "      <td>0.000000</td>\n",
       "      <td>0.00000</td>\n",
       "      <td>0.000000</td>\n",
       "    </tr>\n",
       "    <tr>\n",
       "      <th>25%</th>\n",
       "      <td>5.000000</td>\n",
       "      <td>0.000000</td>\n",
       "      <td>0.000000</td>\n",
       "      <td>0.000000</td>\n",
       "      <td>0.0</td>\n",
       "      <td>0.000000</td>\n",
       "      <td>0.000000</td>\n",
       "      <td>0.000000</td>\n",
       "      <td>0.000000</td>\n",
       "      <td>0.00000</td>\n",
       "      <td>0.000000</td>\n",
       "    </tr>\n",
       "    <tr>\n",
       "      <th>50%</th>\n",
       "      <td>6.000000</td>\n",
       "      <td>0.000000</td>\n",
       "      <td>0.000000</td>\n",
       "      <td>0.000000</td>\n",
       "      <td>0.0</td>\n",
       "      <td>0.000000</td>\n",
       "      <td>0.000000</td>\n",
       "      <td>0.000000</td>\n",
       "      <td>0.000000</td>\n",
       "      <td>0.00000</td>\n",
       "      <td>0.000000</td>\n",
       "    </tr>\n",
       "    <tr>\n",
       "      <th>75%</th>\n",
       "      <td>6.000000</td>\n",
       "      <td>0.000000</td>\n",
       "      <td>0.000000</td>\n",
       "      <td>0.000000</td>\n",
       "      <td>0.0</td>\n",
       "      <td>0.000000</td>\n",
       "      <td>0.000000</td>\n",
       "      <td>0.000000</td>\n",
       "      <td>0.000000</td>\n",
       "      <td>0.00000</td>\n",
       "      <td>0.000000</td>\n",
       "    </tr>\n",
       "    <tr>\n",
       "      <th>max</th>\n",
       "      <td>6.000000</td>\n",
       "      <td>3.000000</td>\n",
       "      <td>3.000000</td>\n",
       "      <td>4.000000</td>\n",
       "      <td>0.0</td>\n",
       "      <td>6.000000</td>\n",
       "      <td>3.000000</td>\n",
       "      <td>6.000000</td>\n",
       "      <td>3.000000</td>\n",
       "      <td>5.00000</td>\n",
       "      <td>5.000000</td>\n",
       "    </tr>\n",
       "  </tbody>\n",
       "</table>\n",
       "</div>"
      ],
      "text/plain": [
       "           paidcure    paiduncure        unpaid         rollb    rollf  \\\n",
       "count  80769.000000  80769.000000  80769.000000  80769.000000  80769.0   \n",
       "mean       5.319578      0.029219      0.068764      0.052805      0.0   \n",
       "std        1.389551      0.181921      0.264863      0.247906      0.0   \n",
       "min        0.000000      0.000000      0.000000      0.000000      0.0   \n",
       "25%        5.000000      0.000000      0.000000      0.000000      0.0   \n",
       "50%        6.000000      0.000000      0.000000      0.000000      0.0   \n",
       "75%        6.000000      0.000000      0.000000      0.000000      0.0   \n",
       "max        6.000000      3.000000      3.000000      4.000000      0.0   \n",
       "\n",
       "         num6mosdel    num3mosdel  num6mosdel_2plus  num3mosdel_2plus  \\\n",
       "count  80769.000000  80769.000000      80769.000000      80769.000000   \n",
       "mean       0.175005      0.124144          0.007986          0.003714   \n",
       "std        0.670356      0.430435          0.151420          0.076840   \n",
       "min        0.000000      0.000000          0.000000          0.000000   \n",
       "25%        0.000000      0.000000          0.000000          0.000000   \n",
       "50%        0.000000      0.000000          0.000000          0.000000   \n",
       "75%        0.000000      0.000000          0.000000          0.000000   \n",
       "max        6.000000      3.000000          6.000000          3.000000   \n",
       "\n",
       "           max6del       max3del  \n",
       "count  80769.00000  80769.000000  \n",
       "mean       0.11024      0.098342  \n",
       "std        0.33456      0.311912  \n",
       "min        0.00000      0.000000  \n",
       "25%        0.00000      0.000000  \n",
       "50%        0.00000      0.000000  \n",
       "75%        0.00000      0.000000  \n",
       "max        5.00000      5.000000  "
      ]
     },
     "execution_count": 39,
     "metadata": {},
     "output_type": "execute_result"
    }
   ],
   "source": [
    "historical_df.describe()"
   ]
  },
  {
   "cell_type": "code",
   "execution_count": 49,
   "metadata": {},
   "outputs": [
    {
     "data": {
      "text/html": [
       "<style  type=\"text/css\" >\n",
       "    #T_9aa009b4_9e47_11ea_baee_645106af6fbbrow0_col0 {\n",
       "            background-color:  #fde725;\n",
       "            color:  #000000;\n",
       "        }    #T_9aa009b4_9e47_11ea_baee_645106af6fbbrow0_col1 {\n",
       "            background-color:  #440154;\n",
       "            color:  #f1f1f1;\n",
       "        }    #T_9aa009b4_9e47_11ea_baee_645106af6fbbrow0_col2 {\n",
       "            background-color:  #440154;\n",
       "            color:  #f1f1f1;\n",
       "        }    #T_9aa009b4_9e47_11ea_baee_645106af6fbbrow0_col3 {\n",
       "            background-color:  #440154;\n",
       "            color:  #f1f1f1;\n",
       "        }    #T_9aa009b4_9e47_11ea_baee_645106af6fbbrow0_col4 {\n",
       "            background-color:  #440154;\n",
       "            color:  #f1f1f1;\n",
       "        }    #T_9aa009b4_9e47_11ea_baee_645106af6fbbrow0_col5 {\n",
       "            background-color:  #440154;\n",
       "            color:  #f1f1f1;\n",
       "        }    #T_9aa009b4_9e47_11ea_baee_645106af6fbbrow0_col6 {\n",
       "            background-color:  #440154;\n",
       "            color:  #f1f1f1;\n",
       "        }    #T_9aa009b4_9e47_11ea_baee_645106af6fbbrow0_col7 {\n",
       "            background-color:  #440154;\n",
       "            color:  #f1f1f1;\n",
       "        }    #T_9aa009b4_9e47_11ea_baee_645106af6fbbrow0_col8 {\n",
       "            background-color:  #440154;\n",
       "            color:  #f1f1f1;\n",
       "        }    #T_9aa009b4_9e47_11ea_baee_645106af6fbbrow0_col9 {\n",
       "            background-color:  #440154;\n",
       "            color:  #f1f1f1;\n",
       "        }    #T_9aa009b4_9e47_11ea_baee_645106af6fbbrow1_col0 {\n",
       "            background-color:  #3f4889;\n",
       "            color:  #f1f1f1;\n",
       "        }    #T_9aa009b4_9e47_11ea_baee_645106af6fbbrow1_col1 {\n",
       "            background-color:  #fde725;\n",
       "            color:  #000000;\n",
       "        }    #T_9aa009b4_9e47_11ea_baee_645106af6fbbrow1_col2 {\n",
       "            background-color:  #3b518b;\n",
       "            color:  #f1f1f1;\n",
       "        }    #T_9aa009b4_9e47_11ea_baee_645106af6fbbrow1_col3 {\n",
       "            background-color:  #2cb17e;\n",
       "            color:  #000000;\n",
       "        }    #T_9aa009b4_9e47_11ea_baee_645106af6fbbrow1_col4 {\n",
       "            background-color:  #21a585;\n",
       "            color:  #000000;\n",
       "        }    #T_9aa009b4_9e47_11ea_baee_645106af6fbbrow1_col5 {\n",
       "            background-color:  #1e9b8a;\n",
       "            color:  #000000;\n",
       "        }    #T_9aa009b4_9e47_11ea_baee_645106af6fbbrow1_col6 {\n",
       "            background-color:  #3a538b;\n",
       "            color:  #f1f1f1;\n",
       "        }    #T_9aa009b4_9e47_11ea_baee_645106af6fbbrow1_col7 {\n",
       "            background-color:  #3b528b;\n",
       "            color:  #f1f1f1;\n",
       "        }    #T_9aa009b4_9e47_11ea_baee_645106af6fbbrow1_col8 {\n",
       "            background-color:  #29af7f;\n",
       "            color:  #000000;\n",
       "        }    #T_9aa009b4_9e47_11ea_baee_645106af6fbbrow1_col9 {\n",
       "            background-color:  #1f9e89;\n",
       "            color:  #000000;\n",
       "        }    #T_9aa009b4_9e47_11ea_baee_645106af6fbbrow2_col0 {\n",
       "            background-color:  #481d6f;\n",
       "            color:  #f1f1f1;\n",
       "        }    #T_9aa009b4_9e47_11ea_baee_645106af6fbbrow2_col1 {\n",
       "            background-color:  #472a7a;\n",
       "            color:  #f1f1f1;\n",
       "        }    #T_9aa009b4_9e47_11ea_baee_645106af6fbbrow2_col2 {\n",
       "            background-color:  #fde725;\n",
       "            color:  #000000;\n",
       "        }    #T_9aa009b4_9e47_11ea_baee_645106af6fbbrow2_col3 {\n",
       "            background-color:  #29798e;\n",
       "            color:  #000000;\n",
       "        }    #T_9aa009b4_9e47_11ea_baee_645106af6fbbrow2_col4 {\n",
       "            background-color:  #2a788e;\n",
       "            color:  #000000;\n",
       "        }    #T_9aa009b4_9e47_11ea_baee_645106af6fbbrow2_col5 {\n",
       "            background-color:  #1f978b;\n",
       "            color:  #000000;\n",
       "        }    #T_9aa009b4_9e47_11ea_baee_645106af6fbbrow2_col6 {\n",
       "            background-color:  #433d84;\n",
       "            color:  #f1f1f1;\n",
       "        }    #T_9aa009b4_9e47_11ea_baee_645106af6fbbrow2_col7 {\n",
       "            background-color:  #3e4989;\n",
       "            color:  #f1f1f1;\n",
       "        }    #T_9aa009b4_9e47_11ea_baee_645106af6fbbrow2_col8 {\n",
       "            background-color:  #23a983;\n",
       "            color:  #000000;\n",
       "        }    #T_9aa009b4_9e47_11ea_baee_645106af6fbbrow2_col9 {\n",
       "            background-color:  #29af7f;\n",
       "            color:  #000000;\n",
       "        }    #T_9aa009b4_9e47_11ea_baee_645106af6fbbrow3_col0 {\n",
       "            background-color:  #3e4a89;\n",
       "            color:  #f1f1f1;\n",
       "        }    #T_9aa009b4_9e47_11ea_baee_645106af6fbbrow3_col1 {\n",
       "            background-color:  #2db27d;\n",
       "            color:  #000000;\n",
       "        }    #T_9aa009b4_9e47_11ea_baee_645106af6fbbrow3_col2 {\n",
       "            background-color:  #21908d;\n",
       "            color:  #000000;\n",
       "        }    #T_9aa009b4_9e47_11ea_baee_645106af6fbbrow3_col3 {\n",
       "            background-color:  #fde725;\n",
       "            color:  #000000;\n",
       "        }    #T_9aa009b4_9e47_11ea_baee_645106af6fbbrow3_col4 {\n",
       "            background-color:  #22a785;\n",
       "            color:  #000000;\n",
       "        }    #T_9aa009b4_9e47_11ea_baee_645106af6fbbrow3_col5 {\n",
       "            background-color:  #1e9b8a;\n",
       "            color:  #000000;\n",
       "        }    #T_9aa009b4_9e47_11ea_baee_645106af6fbbrow3_col6 {\n",
       "            background-color:  #365d8d;\n",
       "            color:  #f1f1f1;\n",
       "        }    #T_9aa009b4_9e47_11ea_baee_645106af6fbbrow3_col7 {\n",
       "            background-color:  #3d4e8a;\n",
       "            color:  #f1f1f1;\n",
       "        }    #T_9aa009b4_9e47_11ea_baee_645106af6fbbrow3_col8 {\n",
       "            background-color:  #4ec36b;\n",
       "            color:  #000000;\n",
       "        }    #T_9aa009b4_9e47_11ea_baee_645106af6fbbrow3_col9 {\n",
       "            background-color:  #2ab07f;\n",
       "            color:  #000000;\n",
       "        }    #T_9aa009b4_9e47_11ea_baee_645106af6fbbrow4_col0 {\n",
       "            background-color:  #46307e;\n",
       "            color:  #f1f1f1;\n",
       "        }    #T_9aa009b4_9e47_11ea_baee_645106af6fbbrow4_col1 {\n",
       "            background-color:  #1e9c89;\n",
       "            color:  #000000;\n",
       "        }    #T_9aa009b4_9e47_11ea_baee_645106af6fbbrow4_col2 {\n",
       "            background-color:  #26828e;\n",
       "            color:  #000000;\n",
       "        }    #T_9aa009b4_9e47_11ea_baee_645106af6fbbrow4_col3 {\n",
       "            background-color:  #1e9c89;\n",
       "            color:  #000000;\n",
       "        }    #T_9aa009b4_9e47_11ea_baee_645106af6fbbrow4_col4 {\n",
       "            background-color:  #fde725;\n",
       "            color:  #000000;\n",
       "        }    #T_9aa009b4_9e47_11ea_baee_645106af6fbbrow4_col5 {\n",
       "            background-color:  #cae11f;\n",
       "            color:  #000000;\n",
       "        }    #T_9aa009b4_9e47_11ea_baee_645106af6fbbrow4_col6 {\n",
       "            background-color:  #306a8e;\n",
       "            color:  #f1f1f1;\n",
       "        }    #T_9aa009b4_9e47_11ea_baee_645106af6fbbrow4_col7 {\n",
       "            background-color:  #32648e;\n",
       "            color:  #f1f1f1;\n",
       "        }    #T_9aa009b4_9e47_11ea_baee_645106af6fbbrow4_col8 {\n",
       "            background-color:  #95d840;\n",
       "            color:  #000000;\n",
       "        }    #T_9aa009b4_9e47_11ea_baee_645106af6fbbrow4_col9 {\n",
       "            background-color:  #86d549;\n",
       "            color:  #000000;\n",
       "        }    #T_9aa009b4_9e47_11ea_baee_645106af6fbbrow5_col0 {\n",
       "            background-color:  #481b6d;\n",
       "            color:  #f1f1f1;\n",
       "        }    #T_9aa009b4_9e47_11ea_baee_645106af6fbbrow5_col1 {\n",
       "            background-color:  #24878e;\n",
       "            color:  #000000;\n",
       "        }    #T_9aa009b4_9e47_11ea_baee_645106af6fbbrow5_col2 {\n",
       "            background-color:  #1f968b;\n",
       "            color:  #000000;\n",
       "        }    #T_9aa009b4_9e47_11ea_baee_645106af6fbbrow5_col3 {\n",
       "            background-color:  #25858e;\n",
       "            color:  #000000;\n",
       "        }    #T_9aa009b4_9e47_11ea_baee_645106af6fbbrow5_col4 {\n",
       "            background-color:  #c8e020;\n",
       "            color:  #000000;\n",
       "        }    #T_9aa009b4_9e47_11ea_baee_645106af6fbbrow5_col5 {\n",
       "            background-color:  #fde725;\n",
       "            color:  #000000;\n",
       "        }    #T_9aa009b4_9e47_11ea_baee_645106af6fbbrow5_col6 {\n",
       "            background-color:  #3c4f8a;\n",
       "            color:  #f1f1f1;\n",
       "        }    #T_9aa009b4_9e47_11ea_baee_645106af6fbbrow5_col7 {\n",
       "            background-color:  #38588c;\n",
       "            color:  #f1f1f1;\n",
       "        }    #T_9aa009b4_9e47_11ea_baee_645106af6fbbrow5_col8 {\n",
       "            background-color:  #aadc32;\n",
       "            color:  #000000;\n",
       "        }    #T_9aa009b4_9e47_11ea_baee_645106af6fbbrow5_col9 {\n",
       "            background-color:  #cae11f;\n",
       "            color:  #000000;\n",
       "        }    #T_9aa009b4_9e47_11ea_baee_645106af6fbbrow6_col0 {\n",
       "            background-color:  #3b518b;\n",
       "            color:  #f1f1f1;\n",
       "        }    #T_9aa009b4_9e47_11ea_baee_645106af6fbbrow6_col1 {\n",
       "            background-color:  #375b8d;\n",
       "            color:  #f1f1f1;\n",
       "        }    #T_9aa009b4_9e47_11ea_baee_645106af6fbbrow6_col2 {\n",
       "            background-color:  #32658e;\n",
       "            color:  #f1f1f1;\n",
       "        }    #T_9aa009b4_9e47_11ea_baee_645106af6fbbrow6_col3 {\n",
       "            background-color:  #33628d;\n",
       "            color:  #f1f1f1;\n",
       "        }    #T_9aa009b4_9e47_11ea_baee_645106af6fbbrow6_col4 {\n",
       "            background-color:  #277e8e;\n",
       "            color:  #000000;\n",
       "        }    #T_9aa009b4_9e47_11ea_baee_645106af6fbbrow6_col5 {\n",
       "            background-color:  #2c738e;\n",
       "            color:  #f1f1f1;\n",
       "        }    #T_9aa009b4_9e47_11ea_baee_645106af6fbbrow6_col6 {\n",
       "            background-color:  #fde725;\n",
       "            color:  #000000;\n",
       "        }    #T_9aa009b4_9e47_11ea_baee_645106af6fbbrow6_col7 {\n",
       "            background-color:  #90d743;\n",
       "            color:  #000000;\n",
       "        }    #T_9aa009b4_9e47_11ea_baee_645106af6fbbrow6_col8 {\n",
       "            background-color:  #1f9a8a;\n",
       "            color:  #000000;\n",
       "        }    #T_9aa009b4_9e47_11ea_baee_645106af6fbbrow6_col9 {\n",
       "            background-color:  #21918c;\n",
       "            color:  #000000;\n",
       "        }    #T_9aa009b4_9e47_11ea_baee_645106af6fbbrow7_col0 {\n",
       "            background-color:  #3c4f8a;\n",
       "            color:  #f1f1f1;\n",
       "        }    #T_9aa009b4_9e47_11ea_baee_645106af6fbbrow7_col1 {\n",
       "            background-color:  #38598c;\n",
       "            color:  #f1f1f1;\n",
       "        }    #T_9aa009b4_9e47_11ea_baee_645106af6fbbrow7_col2 {\n",
       "            background-color:  #2e6d8e;\n",
       "            color:  #f1f1f1;\n",
       "        }    #T_9aa009b4_9e47_11ea_baee_645106af6fbbrow7_col3 {\n",
       "            background-color:  #3b528b;\n",
       "            color:  #f1f1f1;\n",
       "        }    #T_9aa009b4_9e47_11ea_baee_645106af6fbbrow7_col4 {\n",
       "            background-color:  #2a788e;\n",
       "            color:  #000000;\n",
       "        }    #T_9aa009b4_9e47_11ea_baee_645106af6fbbrow7_col5 {\n",
       "            background-color:  #29798e;\n",
       "            color:  #000000;\n",
       "        }    #T_9aa009b4_9e47_11ea_baee_645106af6fbbrow7_col6 {\n",
       "            background-color:  #90d743;\n",
       "            color:  #000000;\n",
       "        }    #T_9aa009b4_9e47_11ea_baee_645106af6fbbrow7_col7 {\n",
       "            background-color:  #fde725;\n",
       "            color:  #000000;\n",
       "        }    #T_9aa009b4_9e47_11ea_baee_645106af6fbbrow7_col8 {\n",
       "            background-color:  #20928c;\n",
       "            color:  #000000;\n",
       "        }    #T_9aa009b4_9e47_11ea_baee_645106af6fbbrow7_col9 {\n",
       "            background-color:  #1f978b;\n",
       "            color:  #000000;\n",
       "        }    #T_9aa009b4_9e47_11ea_baee_645106af6fbbrow8_col0 {\n",
       "            background-color:  #450559;\n",
       "            color:  #f1f1f1;\n",
       "        }    #T_9aa009b4_9e47_11ea_baee_645106af6fbbrow8_col1 {\n",
       "            background-color:  #1f998a;\n",
       "            color:  #000000;\n",
       "        }    #T_9aa009b4_9e47_11ea_baee_645106af6fbbrow8_col2 {\n",
       "            background-color:  #1fa287;\n",
       "            color:  #000000;\n",
       "        }    #T_9aa009b4_9e47_11ea_baee_645106af6fbbrow8_col3 {\n",
       "            background-color:  #2db27d;\n",
       "            color:  #000000;\n",
       "        }    #T_9aa009b4_9e47_11ea_baee_645106af6fbbrow8_col4 {\n",
       "            background-color:  #86d549;\n",
       "            color:  #000000;\n",
       "        }    #T_9aa009b4_9e47_11ea_baee_645106af6fbbrow8_col5 {\n",
       "            background-color:  #a5db36;\n",
       "            color:  #000000;\n",
       "        }    #T_9aa009b4_9e47_11ea_baee_645106af6fbbrow8_col6 {\n",
       "            background-color:  #2a788e;\n",
       "            color:  #000000;\n",
       "        }    #T_9aa009b4_9e47_11ea_baee_645106af6fbbrow8_col7 {\n",
       "            background-color:  #2d708e;\n",
       "            color:  #f1f1f1;\n",
       "        }    #T_9aa009b4_9e47_11ea_baee_645106af6fbbrow8_col8 {\n",
       "            background-color:  #fde725;\n",
       "            color:  #000000;\n",
       "        }    #T_9aa009b4_9e47_11ea_baee_645106af6fbbrow8_col9 {\n",
       "            background-color:  #dfe318;\n",
       "            color:  #000000;\n",
       "        }    #T_9aa009b4_9e47_11ea_baee_645106af6fbbrow9_col0 {\n",
       "            background-color:  #440154;\n",
       "            color:  #f1f1f1;\n",
       "        }    #T_9aa009b4_9e47_11ea_baee_645106af6fbbrow9_col1 {\n",
       "            background-color:  #27808e;\n",
       "            color:  #000000;\n",
       "        }    #T_9aa009b4_9e47_11ea_baee_645106af6fbbrow9_col2 {\n",
       "            background-color:  #22a884;\n",
       "            color:  #000000;\n",
       "        }    #T_9aa009b4_9e47_11ea_baee_645106af6fbbrow9_col3 {\n",
       "            background-color:  #1f968b;\n",
       "            color:  #000000;\n",
       "        }    #T_9aa009b4_9e47_11ea_baee_645106af6fbbrow9_col4 {\n",
       "            background-color:  #75d054;\n",
       "            color:  #000000;\n",
       "        }    #T_9aa009b4_9e47_11ea_baee_645106af6fbbrow9_col5 {\n",
       "            background-color:  #c5e021;\n",
       "            color:  #000000;\n",
       "        }    #T_9aa009b4_9e47_11ea_baee_645106af6fbbrow9_col6 {\n",
       "            background-color:  #30698e;\n",
       "            color:  #f1f1f1;\n",
       "        }    #T_9aa009b4_9e47_11ea_baee_645106af6fbbrow9_col7 {\n",
       "            background-color:  #2c728e;\n",
       "            color:  #f1f1f1;\n",
       "        }    #T_9aa009b4_9e47_11ea_baee_645106af6fbbrow9_col8 {\n",
       "            background-color:  #dfe318;\n",
       "            color:  #000000;\n",
       "        }    #T_9aa009b4_9e47_11ea_baee_645106af6fbbrow9_col9 {\n",
       "            background-color:  #fde725;\n",
       "            color:  #000000;\n",
       "        }</style><table id=\"T_9aa009b4_9e47_11ea_baee_645106af6fbb\" ><thead>    <tr>        <th class=\"blank level0\" ></th>        <th class=\"col_heading level0 col0\" >paidcure</th>        <th class=\"col_heading level0 col1\" >paiduncure</th>        <th class=\"col_heading level0 col2\" >unpaid</th>        <th class=\"col_heading level0 col3\" >rollb</th>        <th class=\"col_heading level0 col4\" >num6mosdel</th>        <th class=\"col_heading level0 col5\" >num3mosdel</th>        <th class=\"col_heading level0 col6\" >num6mosdel_2plus</th>        <th class=\"col_heading level0 col7\" >num3mosdel_2plus</th>        <th class=\"col_heading level0 col8\" >max6del</th>        <th class=\"col_heading level0 col9\" >max3del</th>    </tr></thead><tbody>\n",
       "                <tr>\n",
       "                        <th id=\"T_9aa009b4_9e47_11ea_baee_645106af6fbblevel0_row0\" class=\"row_heading level0 row0\" >paidcure</th>\n",
       "                        <td id=\"T_9aa009b4_9e47_11ea_baee_645106af6fbbrow0_col0\" class=\"data row0 col0\" >1</td>\n",
       "                        <td id=\"T_9aa009b4_9e47_11ea_baee_645106af6fbbrow0_col1\" class=\"data row0 col1\" >-0.076</td>\n",
       "                        <td id=\"T_9aa009b4_9e47_11ea_baee_645106af6fbbrow0_col2\" class=\"data row0 col2\" >-0.26</td>\n",
       "                        <td id=\"T_9aa009b4_9e47_11ea_baee_645106af6fbbrow0_col3\" class=\"data row0 col3\" >-0.064</td>\n",
       "                        <td id=\"T_9aa009b4_9e47_11ea_baee_645106af6fbbrow0_col4\" class=\"data row0 col4\" >-0.18</td>\n",
       "                        <td id=\"T_9aa009b4_9e47_11ea_baee_645106af6fbbrow0_col5\" class=\"data row0 col5\" >-0.27</td>\n",
       "                        <td id=\"T_9aa009b4_9e47_11ea_baee_645106af6fbbrow0_col6\" class=\"data row0 col6\" >-0.036</td>\n",
       "                        <td id=\"T_9aa009b4_9e47_11ea_baee_645106af6fbbrow0_col7\" class=\"data row0 col7\" >-0.044</td>\n",
       "                        <td id=\"T_9aa009b4_9e47_11ea_baee_645106af6fbbrow0_col8\" class=\"data row0 col8\" >-0.35</td>\n",
       "                        <td id=\"T_9aa009b4_9e47_11ea_baee_645106af6fbbrow0_col9\" class=\"data row0 col9\" >-0.37</td>\n",
       "            </tr>\n",
       "            <tr>\n",
       "                        <th id=\"T_9aa009b4_9e47_11ea_baee_645106af6fbblevel0_row1\" class=\"row_heading level0 row1\" >paiduncure</th>\n",
       "                        <td id=\"T_9aa009b4_9e47_11ea_baee_645106af6fbbrow1_col0\" class=\"data row1 col0\" >-0.076</td>\n",
       "                        <td id=\"T_9aa009b4_9e47_11ea_baee_645106af6fbbrow1_col1\" class=\"data row1 col1\" >1</td>\n",
       "                        <td id=\"T_9aa009b4_9e47_11ea_baee_645106af6fbbrow1_col2\" class=\"data row1 col2\" >0.052</td>\n",
       "                        <td id=\"T_9aa009b4_9e47_11ea_baee_645106af6fbbrow1_col3\" class=\"data row1 col3\" >0.62</td>\n",
       "                        <td id=\"T_9aa009b4_9e47_11ea_baee_645106af6fbbrow1_col4\" class=\"data row1 col4\" >0.51</td>\n",
       "                        <td id=\"T_9aa009b4_9e47_11ea_baee_645106af6fbbrow1_col5\" class=\"data row1 col5\" >0.42</td>\n",
       "                        <td id=\"T_9aa009b4_9e47_11ea_baee_645106af6fbbrow1_col6\" class=\"data row1 col6\" >0.23</td>\n",
       "                        <td id=\"T_9aa009b4_9e47_11ea_baee_645106af6fbbrow1_col7\" class=\"data row1 col7\" >0.22</td>\n",
       "                        <td id=\"T_9aa009b4_9e47_11ea_baee_645106af6fbbrow1_col8\" class=\"data row1 col8\" >0.5</td>\n",
       "                        <td id=\"T_9aa009b4_9e47_11ea_baee_645106af6fbbrow1_col9\" class=\"data row1 col9\" >0.39</td>\n",
       "            </tr>\n",
       "            <tr>\n",
       "                        <th id=\"T_9aa009b4_9e47_11ea_baee_645106af6fbblevel0_row2\" class=\"row_heading level0 row2\" >unpaid</th>\n",
       "                        <td id=\"T_9aa009b4_9e47_11ea_baee_645106af6fbbrow2_col0\" class=\"data row2 col0\" >-0.26</td>\n",
       "                        <td id=\"T_9aa009b4_9e47_11ea_baee_645106af6fbbrow2_col1\" class=\"data row2 col1\" >0.052</td>\n",
       "                        <td id=\"T_9aa009b4_9e47_11ea_baee_645106af6fbbrow2_col2\" class=\"data row2 col2\" >1</td>\n",
       "                        <td id=\"T_9aa009b4_9e47_11ea_baee_645106af6fbbrow2_col3\" class=\"data row2 col3\" >0.37</td>\n",
       "                        <td id=\"T_9aa009b4_9e47_11ea_baee_645106af6fbbrow2_col4\" class=\"data row2 col4\" >0.29</td>\n",
       "                        <td id=\"T_9aa009b4_9e47_11ea_baee_645106af6fbbrow2_col5\" class=\"data row2 col5\" >0.4</td>\n",
       "                        <td id=\"T_9aa009b4_9e47_11ea_baee_645106af6fbbrow2_col6\" class=\"data row2 col6\" >0.15</td>\n",
       "                        <td id=\"T_9aa009b4_9e47_11ea_baee_645106af6fbbrow2_col7\" class=\"data row2 col7\" >0.19</td>\n",
       "                        <td id=\"T_9aa009b4_9e47_11ea_baee_645106af6fbbrow2_col8\" class=\"data row2 col8\" >0.47</td>\n",
       "                        <td id=\"T_9aa009b4_9e47_11ea_baee_645106af6fbbrow2_col9\" class=\"data row2 col9\" >0.49</td>\n",
       "            </tr>\n",
       "            <tr>\n",
       "                        <th id=\"T_9aa009b4_9e47_11ea_baee_645106af6fbblevel0_row3\" class=\"row_heading level0 row3\" >rollb</th>\n",
       "                        <td id=\"T_9aa009b4_9e47_11ea_baee_645106af6fbbrow3_col0\" class=\"data row3 col0\" >-0.064</td>\n",
       "                        <td id=\"T_9aa009b4_9e47_11ea_baee_645106af6fbbrow3_col1\" class=\"data row3 col1\" >0.62</td>\n",
       "                        <td id=\"T_9aa009b4_9e47_11ea_baee_645106af6fbbrow3_col2\" class=\"data row3 col2\" >0.37</td>\n",
       "                        <td id=\"T_9aa009b4_9e47_11ea_baee_645106af6fbbrow3_col3\" class=\"data row3 col3\" >1</td>\n",
       "                        <td id=\"T_9aa009b4_9e47_11ea_baee_645106af6fbbrow3_col4\" class=\"data row3 col4\" >0.52</td>\n",
       "                        <td id=\"T_9aa009b4_9e47_11ea_baee_645106af6fbbrow3_col5\" class=\"data row3 col5\" >0.42</td>\n",
       "                        <td id=\"T_9aa009b4_9e47_11ea_baee_645106af6fbbrow3_col6\" class=\"data row3 col6\" >0.27</td>\n",
       "                        <td id=\"T_9aa009b4_9e47_11ea_baee_645106af6fbbrow3_col7\" class=\"data row3 col7\" >0.2</td>\n",
       "                        <td id=\"T_9aa009b4_9e47_11ea_baee_645106af6fbbrow3_col8\" class=\"data row3 col8\" >0.62</td>\n",
       "                        <td id=\"T_9aa009b4_9e47_11ea_baee_645106af6fbbrow3_col9\" class=\"data row3 col9\" >0.5</td>\n",
       "            </tr>\n",
       "            <tr>\n",
       "                        <th id=\"T_9aa009b4_9e47_11ea_baee_645106af6fbblevel0_row4\" class=\"row_heading level0 row4\" >num6mosdel</th>\n",
       "                        <td id=\"T_9aa009b4_9e47_11ea_baee_645106af6fbbrow4_col0\" class=\"data row4 col0\" >-0.18</td>\n",
       "                        <td id=\"T_9aa009b4_9e47_11ea_baee_645106af6fbbrow4_col1\" class=\"data row4 col1\" >0.51</td>\n",
       "                        <td id=\"T_9aa009b4_9e47_11ea_baee_645106af6fbbrow4_col2\" class=\"data row4 col2\" >0.29</td>\n",
       "                        <td id=\"T_9aa009b4_9e47_11ea_baee_645106af6fbbrow4_col3\" class=\"data row4 col3\" >0.52</td>\n",
       "                        <td id=\"T_9aa009b4_9e47_11ea_baee_645106af6fbbrow4_col4\" class=\"data row4 col4\" >1</td>\n",
       "                        <td id=\"T_9aa009b4_9e47_11ea_baee_645106af6fbbrow4_col5\" class=\"data row4 col5\" >0.9</td>\n",
       "                        <td id=\"T_9aa009b4_9e47_11ea_baee_645106af6fbbrow4_col6\" class=\"data row4 col6\" >0.32</td>\n",
       "                        <td id=\"T_9aa009b4_9e47_11ea_baee_645106af6fbbrow4_col7\" class=\"data row4 col7\" >0.29</td>\n",
       "                        <td id=\"T_9aa009b4_9e47_11ea_baee_645106af6fbbrow4_col8\" class=\"data row4 col8\" >0.78</td>\n",
       "                        <td id=\"T_9aa009b4_9e47_11ea_baee_645106af6fbbrow4_col9\" class=\"data row4 col9\" >0.75</td>\n",
       "            </tr>\n",
       "            <tr>\n",
       "                        <th id=\"T_9aa009b4_9e47_11ea_baee_645106af6fbblevel0_row5\" class=\"row_heading level0 row5\" >num3mosdel</th>\n",
       "                        <td id=\"T_9aa009b4_9e47_11ea_baee_645106af6fbbrow5_col0\" class=\"data row5 col0\" >-0.27</td>\n",
       "                        <td id=\"T_9aa009b4_9e47_11ea_baee_645106af6fbbrow5_col1\" class=\"data row5 col1\" >0.42</td>\n",
       "                        <td id=\"T_9aa009b4_9e47_11ea_baee_645106af6fbbrow5_col2\" class=\"data row5 col2\" >0.4</td>\n",
       "                        <td id=\"T_9aa009b4_9e47_11ea_baee_645106af6fbbrow5_col3\" class=\"data row5 col3\" >0.42</td>\n",
       "                        <td id=\"T_9aa009b4_9e47_11ea_baee_645106af6fbbrow5_col4\" class=\"data row5 col4\" >0.9</td>\n",
       "                        <td id=\"T_9aa009b4_9e47_11ea_baee_645106af6fbbrow5_col5\" class=\"data row5 col5\" >1</td>\n",
       "                        <td id=\"T_9aa009b4_9e47_11ea_baee_645106af6fbbrow5_col6\" class=\"data row5 col6\" >0.21</td>\n",
       "                        <td id=\"T_9aa009b4_9e47_11ea_baee_645106af6fbbrow5_col7\" class=\"data row5 col7\" >0.24</td>\n",
       "                        <td id=\"T_9aa009b4_9e47_11ea_baee_645106af6fbbrow5_col8\" class=\"data row5 col8\" >0.83</td>\n",
       "                        <td id=\"T_9aa009b4_9e47_11ea_baee_645106af6fbbrow5_col9\" class=\"data row5 col9\" >0.89</td>\n",
       "            </tr>\n",
       "            <tr>\n",
       "                        <th id=\"T_9aa009b4_9e47_11ea_baee_645106af6fbblevel0_row6\" class=\"row_heading level0 row6\" >num6mosdel_2plus</th>\n",
       "                        <td id=\"T_9aa009b4_9e47_11ea_baee_645106af6fbbrow6_col0\" class=\"data row6 col0\" >-0.036</td>\n",
       "                        <td id=\"T_9aa009b4_9e47_11ea_baee_645106af6fbbrow6_col1\" class=\"data row6 col1\" >0.23</td>\n",
       "                        <td id=\"T_9aa009b4_9e47_11ea_baee_645106af6fbbrow6_col2\" class=\"data row6 col2\" >0.15</td>\n",
       "                        <td id=\"T_9aa009b4_9e47_11ea_baee_645106af6fbbrow6_col3\" class=\"data row6 col3\" >0.27</td>\n",
       "                        <td id=\"T_9aa009b4_9e47_11ea_baee_645106af6fbbrow6_col4\" class=\"data row6 col4\" >0.32</td>\n",
       "                        <td id=\"T_9aa009b4_9e47_11ea_baee_645106af6fbbrow6_col5\" class=\"data row6 col5\" >0.21</td>\n",
       "                        <td id=\"T_9aa009b4_9e47_11ea_baee_645106af6fbbrow6_col6\" class=\"data row6 col6\" >1</td>\n",
       "                        <td id=\"T_9aa009b4_9e47_11ea_baee_645106af6fbbrow6_col7\" class=\"data row6 col7\" >0.83</td>\n",
       "                        <td id=\"T_9aa009b4_9e47_11ea_baee_645106af6fbbrow6_col8\" class=\"data row6 col8\" >0.38</td>\n",
       "                        <td id=\"T_9aa009b4_9e47_11ea_baee_645106af6fbbrow6_col9\" class=\"data row6 col9\" >0.31</td>\n",
       "            </tr>\n",
       "            <tr>\n",
       "                        <th id=\"T_9aa009b4_9e47_11ea_baee_645106af6fbblevel0_row7\" class=\"row_heading level0 row7\" >num3mosdel_2plus</th>\n",
       "                        <td id=\"T_9aa009b4_9e47_11ea_baee_645106af6fbbrow7_col0\" class=\"data row7 col0\" >-0.044</td>\n",
       "                        <td id=\"T_9aa009b4_9e47_11ea_baee_645106af6fbbrow7_col1\" class=\"data row7 col1\" >0.22</td>\n",
       "                        <td id=\"T_9aa009b4_9e47_11ea_baee_645106af6fbbrow7_col2\" class=\"data row7 col2\" >0.19</td>\n",
       "                        <td id=\"T_9aa009b4_9e47_11ea_baee_645106af6fbbrow7_col3\" class=\"data row7 col3\" >0.2</td>\n",
       "                        <td id=\"T_9aa009b4_9e47_11ea_baee_645106af6fbbrow7_col4\" class=\"data row7 col4\" >0.29</td>\n",
       "                        <td id=\"T_9aa009b4_9e47_11ea_baee_645106af6fbbrow7_col5\" class=\"data row7 col5\" >0.24</td>\n",
       "                        <td id=\"T_9aa009b4_9e47_11ea_baee_645106af6fbbrow7_col6\" class=\"data row7 col6\" >0.83</td>\n",
       "                        <td id=\"T_9aa009b4_9e47_11ea_baee_645106af6fbbrow7_col7\" class=\"data row7 col7\" >1</td>\n",
       "                        <td id=\"T_9aa009b4_9e47_11ea_baee_645106af6fbbrow7_col8\" class=\"data row7 col8\" >0.34</td>\n",
       "                        <td id=\"T_9aa009b4_9e47_11ea_baee_645106af6fbbrow7_col9\" class=\"data row7 col9\" >0.35</td>\n",
       "            </tr>\n",
       "            <tr>\n",
       "                        <th id=\"T_9aa009b4_9e47_11ea_baee_645106af6fbblevel0_row8\" class=\"row_heading level0 row8\" >max6del</th>\n",
       "                        <td id=\"T_9aa009b4_9e47_11ea_baee_645106af6fbbrow8_col0\" class=\"data row8 col0\" >-0.35</td>\n",
       "                        <td id=\"T_9aa009b4_9e47_11ea_baee_645106af6fbbrow8_col1\" class=\"data row8 col1\" >0.5</td>\n",
       "                        <td id=\"T_9aa009b4_9e47_11ea_baee_645106af6fbbrow8_col2\" class=\"data row8 col2\" >0.47</td>\n",
       "                        <td id=\"T_9aa009b4_9e47_11ea_baee_645106af6fbbrow8_col3\" class=\"data row8 col3\" >0.62</td>\n",
       "                        <td id=\"T_9aa009b4_9e47_11ea_baee_645106af6fbbrow8_col4\" class=\"data row8 col4\" >0.78</td>\n",
       "                        <td id=\"T_9aa009b4_9e47_11ea_baee_645106af6fbbrow8_col5\" class=\"data row8 col5\" >0.83</td>\n",
       "                        <td id=\"T_9aa009b4_9e47_11ea_baee_645106af6fbbrow8_col6\" class=\"data row8 col6\" >0.38</td>\n",
       "                        <td id=\"T_9aa009b4_9e47_11ea_baee_645106af6fbbrow8_col7\" class=\"data row8 col7\" >0.34</td>\n",
       "                        <td id=\"T_9aa009b4_9e47_11ea_baee_645106af6fbbrow8_col8\" class=\"data row8 col8\" >1</td>\n",
       "                        <td id=\"T_9aa009b4_9e47_11ea_baee_645106af6fbbrow8_col9\" class=\"data row8 col9\" >0.93</td>\n",
       "            </tr>\n",
       "            <tr>\n",
       "                        <th id=\"T_9aa009b4_9e47_11ea_baee_645106af6fbblevel0_row9\" class=\"row_heading level0 row9\" >max3del</th>\n",
       "                        <td id=\"T_9aa009b4_9e47_11ea_baee_645106af6fbbrow9_col0\" class=\"data row9 col0\" >-0.37</td>\n",
       "                        <td id=\"T_9aa009b4_9e47_11ea_baee_645106af6fbbrow9_col1\" class=\"data row9 col1\" >0.39</td>\n",
       "                        <td id=\"T_9aa009b4_9e47_11ea_baee_645106af6fbbrow9_col2\" class=\"data row9 col2\" >0.49</td>\n",
       "                        <td id=\"T_9aa009b4_9e47_11ea_baee_645106af6fbbrow9_col3\" class=\"data row9 col3\" >0.5</td>\n",
       "                        <td id=\"T_9aa009b4_9e47_11ea_baee_645106af6fbbrow9_col4\" class=\"data row9 col4\" >0.75</td>\n",
       "                        <td id=\"T_9aa009b4_9e47_11ea_baee_645106af6fbbrow9_col5\" class=\"data row9 col5\" >0.89</td>\n",
       "                        <td id=\"T_9aa009b4_9e47_11ea_baee_645106af6fbbrow9_col6\" class=\"data row9 col6\" >0.31</td>\n",
       "                        <td id=\"T_9aa009b4_9e47_11ea_baee_645106af6fbbrow9_col7\" class=\"data row9 col7\" >0.35</td>\n",
       "                        <td id=\"T_9aa009b4_9e47_11ea_baee_645106af6fbbrow9_col8\" class=\"data row9 col8\" >0.93</td>\n",
       "                        <td id=\"T_9aa009b4_9e47_11ea_baee_645106af6fbbrow9_col9\" class=\"data row9 col9\" >1</td>\n",
       "            </tr>\n",
       "    </tbody></table>"
      ],
      "text/plain": [
       "<pandas.io.formats.style.Styler at 0xc7f66c7940>"
      ]
     },
     "execution_count": 49,
     "metadata": {},
     "output_type": "execute_result"
    }
   ],
   "source": [
    "# Dropping rollf column because of null values\n",
    "historical_df_new=historical_df.drop(['rollf'], axis=1)\n",
    "#Plotting correlation matrix for historical data\n",
    "corr2=historical_df_new.corr()\n",
    "corr2.style.background_gradient(cmap='viridis').set_precision(2)"
   ]
  },
  {
   "cell_type": "code",
   "execution_count": 44,
   "metadata": {},
   "outputs": [],
   "source": [
    "historical_df_new['max6del']= historical_df_new['max6del'].replace([2], 1)\n",
    "historical_df_new['max6del']= historical_df_new['max6del'].replace([3], 1)\n",
    "historical_df_new['max6del']= historical_df_new['max6del'].replace([4], 1)\n",
    "historical_df_new['max6del']= historical_df_new['max6del'].replace([5], 1)"
   ]
  },
  {
   "cell_type": "code",
   "execution_count": 50,
   "metadata": {},
   "outputs": [
    {
     "name": "stdout",
     "output_type": "stream",
     "text": [
      "Number of Unique Accounts on historical data:  40339\n"
     ]
    }
   ],
   "source": [
    "#Number of unique accounts in historical data\n",
    "print('Number of Unique Accounts on historical data: ', historical_df['Loan_id'].nunique())"
   ]
  },
  {
   "cell_type": "code",
   "execution_count": 51,
   "metadata": {},
   "outputs": [
    {
     "name": "stdout",
     "output_type": "stream",
     "text": [
      "The shape of Historical data after aggr: (40339, 11)\n"
     ]
    }
   ],
   "source": [
    "#Combining/aggregating features.\n",
    "grp = historical_df_new.drop('Month', axis =1).groupby(by=['Loan_id']).mean().reset_index()\n",
    "# Shape of historical data after aggr\n",
    "print('The shape of Historical data after aggr:',grp.shape)"
   ]
  },
  {
   "cell_type": "code",
   "execution_count": 53,
   "metadata": {},
   "outputs": [],
   "source": [
    "grp['max6del']= grp['max6del']> 0"
   ]
  },
  {
   "cell_type": "code",
   "execution_count": 54,
   "metadata": {},
   "outputs": [
    {
     "data": {
      "text/plain": [
       "False    34201\n",
       "True      6138\n",
       "Name: max6del, dtype: int64"
      ]
     },
     "execution_count": 54,
     "metadata": {},
     "output_type": "execute_result"
    }
   ],
   "source": [
    "grp['max6del'].value_counts()"
   ]
  },
  {
   "cell_type": "code",
   "execution_count": 222,
   "metadata": {},
   "outputs": [
    {
     "name": "stdout",
     "output_type": "stream",
     "text": [
      "The shape of Historical data joined with loan detail data: (40339, 15)\n"
     ]
    },
    {
     "data": {
      "text/html": [
       "<div>\n",
       "<style scoped>\n",
       "    .dataframe tbody tr th:only-of-type {\n",
       "        vertical-align: middle;\n",
       "    }\n",
       "\n",
       "    .dataframe tbody tr th {\n",
       "        vertical-align: top;\n",
       "    }\n",
       "\n",
       "    .dataframe thead th {\n",
       "        text-align: right;\n",
       "    }\n",
       "</style>\n",
       "<table border=\"1\" class=\"dataframe\">\n",
       "  <thead>\n",
       "    <tr style=\"text-align: right;\">\n",
       "      <th></th>\n",
       "      <th>Loan_id</th>\n",
       "      <th>paidcure</th>\n",
       "      <th>paiduncure</th>\n",
       "      <th>unpaid</th>\n",
       "      <th>rollb</th>\n",
       "      <th>num6mosdel</th>\n",
       "      <th>num3mosdel</th>\n",
       "      <th>num6mosdel_2plus</th>\n",
       "      <th>num3mosdel_2plus</th>\n",
       "      <th>max6del</th>\n",
       "      <th>max3del</th>\n",
       "      <th>Debt_to_burden_Ratio</th>\n",
       "      <th>total_income</th>\n",
       "      <th>TENURE</th>\n",
       "      <th>Sanctioned Amount</th>\n",
       "    </tr>\n",
       "  </thead>\n",
       "  <tbody>\n",
       "    <tr>\n",
       "      <th>0</th>\n",
       "      <td>A100005454</td>\n",
       "      <td>6.0</td>\n",
       "      <td>0.0</td>\n",
       "      <td>0.0</td>\n",
       "      <td>0.0</td>\n",
       "      <td>0.000000</td>\n",
       "      <td>0.000000</td>\n",
       "      <td>0.0</td>\n",
       "      <td>0.0</td>\n",
       "      <td>False</td>\n",
       "      <td>0.000000</td>\n",
       "      <td>0.177021</td>\n",
       "      <td>7334734.0</td>\n",
       "      <td>36.0</td>\n",
       "      <td>30000000.0</td>\n",
       "    </tr>\n",
       "    <tr>\n",
       "      <th>1</th>\n",
       "      <td>A100026967</td>\n",
       "      <td>6.0</td>\n",
       "      <td>0.0</td>\n",
       "      <td>0.0</td>\n",
       "      <td>0.0</td>\n",
       "      <td>0.000000</td>\n",
       "      <td>0.000000</td>\n",
       "      <td>0.0</td>\n",
       "      <td>0.0</td>\n",
       "      <td>False</td>\n",
       "      <td>0.000000</td>\n",
       "      <td>0.248750</td>\n",
       "      <td>6000000.0</td>\n",
       "      <td>48.0</td>\n",
       "      <td>38000000.0</td>\n",
       "    </tr>\n",
       "    <tr>\n",
       "      <th>2</th>\n",
       "      <td>A100040113</td>\n",
       "      <td>2.0</td>\n",
       "      <td>0.0</td>\n",
       "      <td>0.0</td>\n",
       "      <td>0.0</td>\n",
       "      <td>0.333333</td>\n",
       "      <td>0.333333</td>\n",
       "      <td>0.0</td>\n",
       "      <td>0.0</td>\n",
       "      <td>True</td>\n",
       "      <td>0.333333</td>\n",
       "      <td>0.455961</td>\n",
       "      <td>11216760.0</td>\n",
       "      <td>48.0</td>\n",
       "      <td>105000000.0</td>\n",
       "    </tr>\n",
       "    <tr>\n",
       "      <th>3</th>\n",
       "      <td>A100080302</td>\n",
       "      <td>6.0</td>\n",
       "      <td>0.0</td>\n",
       "      <td>0.0</td>\n",
       "      <td>0.0</td>\n",
       "      <td>0.000000</td>\n",
       "      <td>0.000000</td>\n",
       "      <td>0.0</td>\n",
       "      <td>0.0</td>\n",
       "      <td>False</td>\n",
       "      <td>0.000000</td>\n",
       "      <td>0.232607</td>\n",
       "      <td>5529077.0</td>\n",
       "      <td>48.0</td>\n",
       "      <td>33000000.0</td>\n",
       "    </tr>\n",
       "    <tr>\n",
       "      <th>4</th>\n",
       "      <td>A100104482</td>\n",
       "      <td>6.0</td>\n",
       "      <td>0.0</td>\n",
       "      <td>0.0</td>\n",
       "      <td>0.0</td>\n",
       "      <td>0.000000</td>\n",
       "      <td>0.000000</td>\n",
       "      <td>0.0</td>\n",
       "      <td>0.0</td>\n",
       "      <td>False</td>\n",
       "      <td>0.000000</td>\n",
       "      <td>0.537601</td>\n",
       "      <td>15000000.0</td>\n",
       "      <td>48.0</td>\n",
       "      <td>120000000.0</td>\n",
       "    </tr>\n",
       "  </tbody>\n",
       "</table>\n",
       "</div>"
      ],
      "text/plain": [
       "      Loan_id  paidcure  paiduncure  unpaid  rollb  num6mosdel  num3mosdel  \\\n",
       "0  A100005454       6.0         0.0     0.0    0.0    0.000000    0.000000   \n",
       "1  A100026967       6.0         0.0     0.0    0.0    0.000000    0.000000   \n",
       "2  A100040113       2.0         0.0     0.0    0.0    0.333333    0.333333   \n",
       "3  A100080302       6.0         0.0     0.0    0.0    0.000000    0.000000   \n",
       "4  A100104482       6.0         0.0     0.0    0.0    0.000000    0.000000   \n",
       "\n",
       "   num6mosdel_2plus  num3mosdel_2plus  max6del   max3del  \\\n",
       "0               0.0               0.0    False  0.000000   \n",
       "1               0.0               0.0    False  0.000000   \n",
       "2               0.0               0.0     True  0.333333   \n",
       "3               0.0               0.0    False  0.000000   \n",
       "4               0.0               0.0    False  0.000000   \n",
       "\n",
       "   Debt_to_burden_Ratio  total_income  TENURE  Sanctioned Amount  \n",
       "0              0.177021     7334734.0    36.0         30000000.0  \n",
       "1              0.248750     6000000.0    48.0         38000000.0  \n",
       "2              0.455961    11216760.0    48.0        105000000.0  \n",
       "3              0.232607     5529077.0    48.0         33000000.0  \n",
       "4              0.537601    15000000.0    48.0        120000000.0  "
      ]
     },
     "execution_count": 222,
     "metadata": {},
     "output_type": "execute_result"
    }
   ],
   "source": [
    "#Joining Historical data with loan detail data\n",
    "df_model = grp.merge(loan_detail_df, on='Loan_id', how='left')\n",
    "# Shape of joined data\n",
    "print('The shape of Historical data joined with loan detail data:',df_model.shape)\n",
    "df_model.head()"
   ]
  },
  {
   "cell_type": "code",
   "execution_count": 223,
   "metadata": {},
   "outputs": [
    {
     "data": {
      "text/html": [
       "<div>\n",
       "<style scoped>\n",
       "    .dataframe tbody tr th:only-of-type {\n",
       "        vertical-align: middle;\n",
       "    }\n",
       "\n",
       "    .dataframe tbody tr th {\n",
       "        vertical-align: top;\n",
       "    }\n",
       "\n",
       "    .dataframe thead th {\n",
       "        text-align: right;\n",
       "    }\n",
       "</style>\n",
       "<table border=\"1\" class=\"dataframe\">\n",
       "  <thead>\n",
       "    <tr style=\"text-align: right;\">\n",
       "      <th></th>\n",
       "      <th>Loan_id</th>\n",
       "      <th>paidcure</th>\n",
       "      <th>paiduncure</th>\n",
       "      <th>unpaid</th>\n",
       "      <th>rollb</th>\n",
       "      <th>num6mosdel</th>\n",
       "      <th>num3mosdel</th>\n",
       "      <th>num6mosdel_2plus</th>\n",
       "      <th>num3mosdel_2plus</th>\n",
       "      <th>max6del</th>\n",
       "      <th>max3del</th>\n",
       "      <th>Debt_to_burden_Ratio</th>\n",
       "      <th>total_income</th>\n",
       "      <th>TENURE</th>\n",
       "      <th>Sanctioned Amount</th>\n",
       "      <th>CREDIT_INCOME_Ratio</th>\n",
       "      <th>INCOME_GT_CREDIT_FLAG</th>\n",
       "    </tr>\n",
       "  </thead>\n",
       "  <tbody>\n",
       "    <tr>\n",
       "      <th>0</th>\n",
       "      <td>A100005454</td>\n",
       "      <td>6.0</td>\n",
       "      <td>0.0</td>\n",
       "      <td>0.0</td>\n",
       "      <td>0.0</td>\n",
       "      <td>0.000000</td>\n",
       "      <td>0.000000</td>\n",
       "      <td>0.0</td>\n",
       "      <td>0.0</td>\n",
       "      <td>False</td>\n",
       "      <td>0.000000</td>\n",
       "      <td>0.177021</td>\n",
       "      <td>7334734.0</td>\n",
       "      <td>36.0</td>\n",
       "      <td>30000000.0</td>\n",
       "      <td>4.090128</td>\n",
       "      <td>False</td>\n",
       "    </tr>\n",
       "    <tr>\n",
       "      <th>1</th>\n",
       "      <td>A100026967</td>\n",
       "      <td>6.0</td>\n",
       "      <td>0.0</td>\n",
       "      <td>0.0</td>\n",
       "      <td>0.0</td>\n",
       "      <td>0.000000</td>\n",
       "      <td>0.000000</td>\n",
       "      <td>0.0</td>\n",
       "      <td>0.0</td>\n",
       "      <td>False</td>\n",
       "      <td>0.000000</td>\n",
       "      <td>0.248750</td>\n",
       "      <td>6000000.0</td>\n",
       "      <td>48.0</td>\n",
       "      <td>38000000.0</td>\n",
       "      <td>6.333333</td>\n",
       "      <td>False</td>\n",
       "    </tr>\n",
       "    <tr>\n",
       "      <th>2</th>\n",
       "      <td>A100040113</td>\n",
       "      <td>2.0</td>\n",
       "      <td>0.0</td>\n",
       "      <td>0.0</td>\n",
       "      <td>0.0</td>\n",
       "      <td>0.333333</td>\n",
       "      <td>0.333333</td>\n",
       "      <td>0.0</td>\n",
       "      <td>0.0</td>\n",
       "      <td>True</td>\n",
       "      <td>0.333333</td>\n",
       "      <td>0.455961</td>\n",
       "      <td>11216760.0</td>\n",
       "      <td>48.0</td>\n",
       "      <td>105000000.0</td>\n",
       "      <td>9.360992</td>\n",
       "      <td>False</td>\n",
       "    </tr>\n",
       "    <tr>\n",
       "      <th>3</th>\n",
       "      <td>A100080302</td>\n",
       "      <td>6.0</td>\n",
       "      <td>0.0</td>\n",
       "      <td>0.0</td>\n",
       "      <td>0.0</td>\n",
       "      <td>0.000000</td>\n",
       "      <td>0.000000</td>\n",
       "      <td>0.0</td>\n",
       "      <td>0.0</td>\n",
       "      <td>False</td>\n",
       "      <td>0.000000</td>\n",
       "      <td>0.232607</td>\n",
       "      <td>5529077.0</td>\n",
       "      <td>48.0</td>\n",
       "      <td>33000000.0</td>\n",
       "      <td>5.968446</td>\n",
       "      <td>False</td>\n",
       "    </tr>\n",
       "    <tr>\n",
       "      <th>4</th>\n",
       "      <td>A100104482</td>\n",
       "      <td>6.0</td>\n",
       "      <td>0.0</td>\n",
       "      <td>0.0</td>\n",
       "      <td>0.0</td>\n",
       "      <td>0.000000</td>\n",
       "      <td>0.000000</td>\n",
       "      <td>0.0</td>\n",
       "      <td>0.0</td>\n",
       "      <td>False</td>\n",
       "      <td>0.000000</td>\n",
       "      <td>0.537601</td>\n",
       "      <td>15000000.0</td>\n",
       "      <td>48.0</td>\n",
       "      <td>120000000.0</td>\n",
       "      <td>8.000000</td>\n",
       "      <td>False</td>\n",
       "    </tr>\n",
       "  </tbody>\n",
       "</table>\n",
       "</div>"
      ],
      "text/plain": [
       "      Loan_id  paidcure  paiduncure  unpaid  rollb  num6mosdel  num3mosdel  \\\n",
       "0  A100005454       6.0         0.0     0.0    0.0    0.000000    0.000000   \n",
       "1  A100026967       6.0         0.0     0.0    0.0    0.000000    0.000000   \n",
       "2  A100040113       2.0         0.0     0.0    0.0    0.333333    0.333333   \n",
       "3  A100080302       6.0         0.0     0.0    0.0    0.000000    0.000000   \n",
       "4  A100104482       6.0         0.0     0.0    0.0    0.000000    0.000000   \n",
       "\n",
       "   num6mosdel_2plus  num3mosdel_2plus  max6del   max3del  \\\n",
       "0               0.0               0.0    False  0.000000   \n",
       "1               0.0               0.0    False  0.000000   \n",
       "2               0.0               0.0     True  0.333333   \n",
       "3               0.0               0.0    False  0.000000   \n",
       "4               0.0               0.0    False  0.000000   \n",
       "\n",
       "   Debt_to_burden_Ratio  total_income  TENURE  Sanctioned Amount  \\\n",
       "0              0.177021     7334734.0    36.0         30000000.0   \n",
       "1              0.248750     6000000.0    48.0         38000000.0   \n",
       "2              0.455961    11216760.0    48.0        105000000.0   \n",
       "3              0.232607     5529077.0    48.0         33000000.0   \n",
       "4              0.537601    15000000.0    48.0        120000000.0   \n",
       "\n",
       "   CREDIT_INCOME_Ratio  INCOME_GT_CREDIT_FLAG  \n",
       "0             4.090128                  False  \n",
       "1             6.333333                  False  \n",
       "2             9.360992                  False  \n",
       "3             5.968446                  False  \n",
       "4             8.000000                  False  "
      ]
     },
     "execution_count": 223,
     "metadata": {},
     "output_type": "execute_result"
    }
   ],
   "source": [
    "# Column to represent Credit Income Percent\n",
    "df_model['CREDIT_INCOME_Ratio'] = df_model['Sanctioned Amount'] / df_model['total_income']\n",
    "\n",
    "# Flag to represent when Total income is greater than Credit\n",
    "df_model['INCOME_GT_CREDIT_FLAG'] = df_model['total_income'] > df_model['Sanctioned Amount']\n",
    "df_model.head()"
   ]
  },
  {
   "cell_type": "code",
   "execution_count": 224,
   "metadata": {},
   "outputs": [],
   "source": [
    "# Combining numerical features\n",
    "temp= Call_idmap_mrg.drop(['Login_ID', 'month'], axis =1).groupby(by=['Loan_id']).sum()\n",
    "#joining call data with main data\n",
    "df_model = df_model.merge(temp, on =['Loan_id'], how = 'left')\n",
    "df_model.update(df_model[temp.columns].fillna(0))\n",
    "df_model=df_model.dropna()"
   ]
  },
  {
   "cell_type": "code",
   "execution_count": 225,
   "metadata": {},
   "outputs": [
    {
     "data": {
      "text/html": [
       "<div>\n",
       "<style scoped>\n",
       "    .dataframe tbody tr th:only-of-type {\n",
       "        vertical-align: middle;\n",
       "    }\n",
       "\n",
       "    .dataframe tbody tr th {\n",
       "        vertical-align: top;\n",
       "    }\n",
       "\n",
       "    .dataframe thead th {\n",
       "        text-align: right;\n",
       "    }\n",
       "</style>\n",
       "<table border=\"1\" class=\"dataframe\">\n",
       "  <thead>\n",
       "    <tr style=\"text-align: right;\">\n",
       "      <th></th>\n",
       "      <th>Loan_id</th>\n",
       "      <th>paidcure</th>\n",
       "      <th>paiduncure</th>\n",
       "      <th>unpaid</th>\n",
       "      <th>rollb</th>\n",
       "      <th>num6mosdel</th>\n",
       "      <th>num3mosdel</th>\n",
       "      <th>num6mosdel_2plus</th>\n",
       "      <th>num3mosdel_2plus</th>\n",
       "      <th>max6del</th>\n",
       "      <th>max3del</th>\n",
       "      <th>Debt_to_burden_Ratio</th>\n",
       "      <th>total_income</th>\n",
       "      <th>TENURE</th>\n",
       "      <th>Sanctioned Amount</th>\n",
       "      <th>CREDIT_INCOME_Ratio</th>\n",
       "      <th>INCOME_GT_CREDIT_FLAG</th>\n",
       "      <th>total_contacts</th>\n",
       "      <th>Right_Party_Contact</th>\n",
       "      <th>Promise_to_pay</th>\n",
       "    </tr>\n",
       "  </thead>\n",
       "  <tbody>\n",
       "    <tr>\n",
       "      <th>0</th>\n",
       "      <td>A100005454</td>\n",
       "      <td>6.0</td>\n",
       "      <td>0.0</td>\n",
       "      <td>0.0</td>\n",
       "      <td>0.0</td>\n",
       "      <td>0.000000</td>\n",
       "      <td>0.000000</td>\n",
       "      <td>0.0</td>\n",
       "      <td>0.0</td>\n",
       "      <td>False</td>\n",
       "      <td>0.000000</td>\n",
       "      <td>0.177021</td>\n",
       "      <td>7334734.0</td>\n",
       "      <td>36.0</td>\n",
       "      <td>30000000.0</td>\n",
       "      <td>4.090128</td>\n",
       "      <td>False</td>\n",
       "      <td>8.0</td>\n",
       "      <td>5.0</td>\n",
       "      <td>3.0</td>\n",
       "    </tr>\n",
       "    <tr>\n",
       "      <th>1</th>\n",
       "      <td>A100026967</td>\n",
       "      <td>6.0</td>\n",
       "      <td>0.0</td>\n",
       "      <td>0.0</td>\n",
       "      <td>0.0</td>\n",
       "      <td>0.000000</td>\n",
       "      <td>0.000000</td>\n",
       "      <td>0.0</td>\n",
       "      <td>0.0</td>\n",
       "      <td>False</td>\n",
       "      <td>0.000000</td>\n",
       "      <td>0.248750</td>\n",
       "      <td>6000000.0</td>\n",
       "      <td>48.0</td>\n",
       "      <td>38000000.0</td>\n",
       "      <td>6.333333</td>\n",
       "      <td>False</td>\n",
       "      <td>158.0</td>\n",
       "      <td>7.0</td>\n",
       "      <td>1.0</td>\n",
       "    </tr>\n",
       "    <tr>\n",
       "      <th>2</th>\n",
       "      <td>A100040113</td>\n",
       "      <td>2.0</td>\n",
       "      <td>0.0</td>\n",
       "      <td>0.0</td>\n",
       "      <td>0.0</td>\n",
       "      <td>0.333333</td>\n",
       "      <td>0.333333</td>\n",
       "      <td>0.0</td>\n",
       "      <td>0.0</td>\n",
       "      <td>True</td>\n",
       "      <td>0.333333</td>\n",
       "      <td>0.455961</td>\n",
       "      <td>11216760.0</td>\n",
       "      <td>48.0</td>\n",
       "      <td>105000000.0</td>\n",
       "      <td>9.360992</td>\n",
       "      <td>False</td>\n",
       "      <td>66.0</td>\n",
       "      <td>11.0</td>\n",
       "      <td>3.0</td>\n",
       "    </tr>\n",
       "    <tr>\n",
       "      <th>3</th>\n",
       "      <td>A100080302</td>\n",
       "      <td>6.0</td>\n",
       "      <td>0.0</td>\n",
       "      <td>0.0</td>\n",
       "      <td>0.0</td>\n",
       "      <td>0.000000</td>\n",
       "      <td>0.000000</td>\n",
       "      <td>0.0</td>\n",
       "      <td>0.0</td>\n",
       "      <td>False</td>\n",
       "      <td>0.000000</td>\n",
       "      <td>0.232607</td>\n",
       "      <td>5529077.0</td>\n",
       "      <td>48.0</td>\n",
       "      <td>33000000.0</td>\n",
       "      <td>5.968446</td>\n",
       "      <td>False</td>\n",
       "      <td>66.0</td>\n",
       "      <td>46.0</td>\n",
       "      <td>2.0</td>\n",
       "    </tr>\n",
       "    <tr>\n",
       "      <th>4</th>\n",
       "      <td>A100104482</td>\n",
       "      <td>6.0</td>\n",
       "      <td>0.0</td>\n",
       "      <td>0.0</td>\n",
       "      <td>0.0</td>\n",
       "      <td>0.000000</td>\n",
       "      <td>0.000000</td>\n",
       "      <td>0.0</td>\n",
       "      <td>0.0</td>\n",
       "      <td>False</td>\n",
       "      <td>0.000000</td>\n",
       "      <td>0.537601</td>\n",
       "      <td>15000000.0</td>\n",
       "      <td>48.0</td>\n",
       "      <td>120000000.0</td>\n",
       "      <td>8.000000</td>\n",
       "      <td>False</td>\n",
       "      <td>4.0</td>\n",
       "      <td>4.0</td>\n",
       "      <td>2.0</td>\n",
       "    </tr>\n",
       "  </tbody>\n",
       "</table>\n",
       "</div>"
      ],
      "text/plain": [
       "      Loan_id  paidcure  paiduncure  unpaid  rollb  num6mosdel  num3mosdel  \\\n",
       "0  A100005454       6.0         0.0     0.0    0.0    0.000000    0.000000   \n",
       "1  A100026967       6.0         0.0     0.0    0.0    0.000000    0.000000   \n",
       "2  A100040113       2.0         0.0     0.0    0.0    0.333333    0.333333   \n",
       "3  A100080302       6.0         0.0     0.0    0.0    0.000000    0.000000   \n",
       "4  A100104482       6.0         0.0     0.0    0.0    0.000000    0.000000   \n",
       "\n",
       "   num6mosdel_2plus  num3mosdel_2plus  max6del   max3del  \\\n",
       "0               0.0               0.0    False  0.000000   \n",
       "1               0.0               0.0    False  0.000000   \n",
       "2               0.0               0.0     True  0.333333   \n",
       "3               0.0               0.0    False  0.000000   \n",
       "4               0.0               0.0    False  0.000000   \n",
       "\n",
       "   Debt_to_burden_Ratio  total_income  TENURE  Sanctioned Amount  \\\n",
       "0              0.177021     7334734.0    36.0         30000000.0   \n",
       "1              0.248750     6000000.0    48.0         38000000.0   \n",
       "2              0.455961    11216760.0    48.0        105000000.0   \n",
       "3              0.232607     5529077.0    48.0         33000000.0   \n",
       "4              0.537601    15000000.0    48.0        120000000.0   \n",
       "\n",
       "   CREDIT_INCOME_Ratio  INCOME_GT_CREDIT_FLAG  total_contacts  \\\n",
       "0             4.090128                  False             8.0   \n",
       "1             6.333333                  False           158.0   \n",
       "2             9.360992                  False            66.0   \n",
       "3             5.968446                  False            66.0   \n",
       "4             8.000000                  False             4.0   \n",
       "\n",
       "   Right_Party_Contact  Promise_to_pay  \n",
       "0                  5.0             3.0  \n",
       "1                  7.0             1.0  \n",
       "2                 11.0             3.0  \n",
       "3                 46.0             2.0  \n",
       "4                  4.0             2.0  "
      ]
     },
     "execution_count": 225,
     "metadata": {},
     "output_type": "execute_result"
    }
   ],
   "source": [
    "df_model.head()"
   ]
  },
  {
   "cell_type": "code",
   "execution_count": 226,
   "metadata": {},
   "outputs": [
    {
     "data": {
      "text/plain": [
       "Loan_id                   object\n",
       "paidcure                 float64\n",
       "paiduncure               float64\n",
       "unpaid                   float64\n",
       "rollb                    float64\n",
       "num6mosdel               float64\n",
       "num3mosdel               float64\n",
       "num6mosdel_2plus         float64\n",
       "num3mosdel_2plus         float64\n",
       "max6del                     bool\n",
       "max3del                  float64\n",
       "Debt_to_burden_Ratio     float64\n",
       "total_income             float64\n",
       "TENURE                   float64\n",
       "Sanctioned Amount        float64\n",
       "CREDIT_INCOME_Ratio      float64\n",
       "INCOME_GT_CREDIT_FLAG       bool\n",
       "total_contacts           float64\n",
       "Right_Party_Contact      float64\n",
       "Promise_to_pay           float64\n",
       "dtype: object"
      ]
     },
     "execution_count": 226,
     "metadata": {},
     "output_type": "execute_result"
    }
   ],
   "source": [
    "df_model.dtypes"
   ]
  },
  {
   "cell_type": "code",
   "execution_count": 227,
   "metadata": {},
   "outputs": [
    {
     "data": {
      "text/html": [
       "<div>\n",
       "<style scoped>\n",
       "    .dataframe tbody tr th:only-of-type {\n",
       "        vertical-align: middle;\n",
       "    }\n",
       "\n",
       "    .dataframe tbody tr th {\n",
       "        vertical-align: top;\n",
       "    }\n",
       "\n",
       "    .dataframe thead th {\n",
       "        text-align: right;\n",
       "    }\n",
       "</style>\n",
       "<table border=\"1\" class=\"dataframe\">\n",
       "  <thead>\n",
       "    <tr style=\"text-align: right;\">\n",
       "      <th></th>\n",
       "      <th>Loan_id</th>\n",
       "      <th>paidcure</th>\n",
       "      <th>paiduncure</th>\n",
       "      <th>unpaid</th>\n",
       "      <th>rollb</th>\n",
       "      <th>num6mosdel</th>\n",
       "      <th>num3mosdel</th>\n",
       "      <th>num6mosdel_2plus</th>\n",
       "      <th>num3mosdel_2plus</th>\n",
       "      <th>max6del</th>\n",
       "      <th>max3del</th>\n",
       "      <th>Debt_to_burden_Ratio</th>\n",
       "      <th>total_income</th>\n",
       "      <th>TENURE</th>\n",
       "      <th>Sanctioned Amount</th>\n",
       "      <th>CREDIT_INCOME_Ratio</th>\n",
       "      <th>INCOME_GT_CREDIT_FLAG</th>\n",
       "      <th>total_contacts</th>\n",
       "      <th>Right_Party_Contact</th>\n",
       "      <th>Promise_to_pay</th>\n",
       "    </tr>\n",
       "  </thead>\n",
       "  <tbody>\n",
       "    <tr>\n",
       "      <th>0</th>\n",
       "      <td>A100005454</td>\n",
       "      <td>6.0</td>\n",
       "      <td>0.0</td>\n",
       "      <td>0.0</td>\n",
       "      <td>0.0</td>\n",
       "      <td>0.000000</td>\n",
       "      <td>0.000000</td>\n",
       "      <td>0.0</td>\n",
       "      <td>0.0</td>\n",
       "      <td>0</td>\n",
       "      <td>0.000000</td>\n",
       "      <td>0.177021</td>\n",
       "      <td>7334734.0</td>\n",
       "      <td>36.0</td>\n",
       "      <td>30000000.0</td>\n",
       "      <td>4.090128</td>\n",
       "      <td>0</td>\n",
       "      <td>8.0</td>\n",
       "      <td>5.0</td>\n",
       "      <td>3.0</td>\n",
       "    </tr>\n",
       "    <tr>\n",
       "      <th>1</th>\n",
       "      <td>A100026967</td>\n",
       "      <td>6.0</td>\n",
       "      <td>0.0</td>\n",
       "      <td>0.0</td>\n",
       "      <td>0.0</td>\n",
       "      <td>0.000000</td>\n",
       "      <td>0.000000</td>\n",
       "      <td>0.0</td>\n",
       "      <td>0.0</td>\n",
       "      <td>0</td>\n",
       "      <td>0.000000</td>\n",
       "      <td>0.248750</td>\n",
       "      <td>6000000.0</td>\n",
       "      <td>48.0</td>\n",
       "      <td>38000000.0</td>\n",
       "      <td>6.333333</td>\n",
       "      <td>0</td>\n",
       "      <td>158.0</td>\n",
       "      <td>7.0</td>\n",
       "      <td>1.0</td>\n",
       "    </tr>\n",
       "    <tr>\n",
       "      <th>2</th>\n",
       "      <td>A100040113</td>\n",
       "      <td>2.0</td>\n",
       "      <td>0.0</td>\n",
       "      <td>0.0</td>\n",
       "      <td>0.0</td>\n",
       "      <td>0.333333</td>\n",
       "      <td>0.333333</td>\n",
       "      <td>0.0</td>\n",
       "      <td>0.0</td>\n",
       "      <td>1</td>\n",
       "      <td>0.333333</td>\n",
       "      <td>0.455961</td>\n",
       "      <td>11216760.0</td>\n",
       "      <td>48.0</td>\n",
       "      <td>105000000.0</td>\n",
       "      <td>9.360992</td>\n",
       "      <td>0</td>\n",
       "      <td>66.0</td>\n",
       "      <td>11.0</td>\n",
       "      <td>3.0</td>\n",
       "    </tr>\n",
       "    <tr>\n",
       "      <th>3</th>\n",
       "      <td>A100080302</td>\n",
       "      <td>6.0</td>\n",
       "      <td>0.0</td>\n",
       "      <td>0.0</td>\n",
       "      <td>0.0</td>\n",
       "      <td>0.000000</td>\n",
       "      <td>0.000000</td>\n",
       "      <td>0.0</td>\n",
       "      <td>0.0</td>\n",
       "      <td>0</td>\n",
       "      <td>0.000000</td>\n",
       "      <td>0.232607</td>\n",
       "      <td>5529077.0</td>\n",
       "      <td>48.0</td>\n",
       "      <td>33000000.0</td>\n",
       "      <td>5.968446</td>\n",
       "      <td>0</td>\n",
       "      <td>66.0</td>\n",
       "      <td>46.0</td>\n",
       "      <td>2.0</td>\n",
       "    </tr>\n",
       "    <tr>\n",
       "      <th>4</th>\n",
       "      <td>A100104482</td>\n",
       "      <td>6.0</td>\n",
       "      <td>0.0</td>\n",
       "      <td>0.0</td>\n",
       "      <td>0.0</td>\n",
       "      <td>0.000000</td>\n",
       "      <td>0.000000</td>\n",
       "      <td>0.0</td>\n",
       "      <td>0.0</td>\n",
       "      <td>0</td>\n",
       "      <td>0.000000</td>\n",
       "      <td>0.537601</td>\n",
       "      <td>15000000.0</td>\n",
       "      <td>48.0</td>\n",
       "      <td>120000000.0</td>\n",
       "      <td>8.000000</td>\n",
       "      <td>0</td>\n",
       "      <td>4.0</td>\n",
       "      <td>4.0</td>\n",
       "      <td>2.0</td>\n",
       "    </tr>\n",
       "  </tbody>\n",
       "</table>\n",
       "</div>"
      ],
      "text/plain": [
       "      Loan_id  paidcure  paiduncure  unpaid  rollb  num6mosdel  num3mosdel  \\\n",
       "0  A100005454       6.0         0.0     0.0    0.0    0.000000    0.000000   \n",
       "1  A100026967       6.0         0.0     0.0    0.0    0.000000    0.000000   \n",
       "2  A100040113       2.0         0.0     0.0    0.0    0.333333    0.333333   \n",
       "3  A100080302       6.0         0.0     0.0    0.0    0.000000    0.000000   \n",
       "4  A100104482       6.0         0.0     0.0    0.0    0.000000    0.000000   \n",
       "\n",
       "   num6mosdel_2plus  num3mosdel_2plus  max6del   max3del  \\\n",
       "0               0.0               0.0        0  0.000000   \n",
       "1               0.0               0.0        0  0.000000   \n",
       "2               0.0               0.0        1  0.333333   \n",
       "3               0.0               0.0        0  0.000000   \n",
       "4               0.0               0.0        0  0.000000   \n",
       "\n",
       "   Debt_to_burden_Ratio  total_income  TENURE  Sanctioned Amount  \\\n",
       "0              0.177021     7334734.0    36.0         30000000.0   \n",
       "1              0.248750     6000000.0    48.0         38000000.0   \n",
       "2              0.455961    11216760.0    48.0        105000000.0   \n",
       "3              0.232607     5529077.0    48.0         33000000.0   \n",
       "4              0.537601    15000000.0    48.0        120000000.0   \n",
       "\n",
       "   CREDIT_INCOME_Ratio  INCOME_GT_CREDIT_FLAG  total_contacts  \\\n",
       "0             4.090128                      0             8.0   \n",
       "1             6.333333                      0           158.0   \n",
       "2             9.360992                      0            66.0   \n",
       "3             5.968446                      0            66.0   \n",
       "4             8.000000                      0             4.0   \n",
       "\n",
       "   Right_Party_Contact  Promise_to_pay  \n",
       "0                  5.0             3.0  \n",
       "1                  7.0             1.0  \n",
       "2                 11.0             3.0  \n",
       "3                 46.0             2.0  \n",
       "4                  4.0             2.0  "
      ]
     },
     "execution_count": 227,
     "metadata": {},
     "output_type": "execute_result"
    }
   ],
   "source": [
    "df_model[\"max6del\"] =df_model[\"max6del\"].astype(int)\n",
    "df_model[\"INCOME_GT_CREDIT_FLAG\"] =df_model[\"INCOME_GT_CREDIT_FLAG\"].astype(int)\n",
    "df_model.head()"
   ]
  },
  {
   "cell_type": "code",
   "execution_count": 228,
   "metadata": {},
   "outputs": [
    {
     "data": {
      "text/plain": [
       "0    34198\n",
       "1     6137\n",
       "Name: max6del, dtype: int64"
      ]
     },
     "execution_count": 228,
     "metadata": {},
     "output_type": "execute_result"
    }
   ],
   "source": [
    "df_model['max6del'].value_counts()"
   ]
  },
  {
   "cell_type": "code",
   "execution_count": 229,
   "metadata": {},
   "outputs": [
    {
     "data": {
      "image/png": "[encoded data removed]",
      "text/plain": [
       "<Figure size 504x432 with 1 Axes>"
      ]
     },
     "metadata": {},
     "output_type": "display_data"
    }
   ],
   "source": [
    "df_model['max6del'].value_counts().plot(kind='pie', figsize=(7, 6), rot=0)\n",
    "plt.title(\"Distribution of target variable max6del: Imbalanced target\", y=1.02);"
   ]
  },
  {
   "cell_type": "markdown",
   "metadata": {},
   "source": [
    "## Level 3: Building Classifier Model\n",
    "\n",
    "We have selected max6del as the target column. If max6del=0 than it is no risk customer while max6del>0 than it is riskier client and thus classified as 1"
   ]
  },
  {
   "cell_type": "markdown",
   "metadata": {},
   "source": [
    "#### Splitting Data into Train, Validation and Test sets"
   ]
  },
  {
   "cell_type": "code",
   "execution_count": 230,
   "metadata": {},
   "outputs": [
    {
     "name": "stdout",
     "output_type": "stream",
     "text": [
      "Shape of X_train: (28234, 18)\n",
      "Shape of X_val: (6050, 18)\n",
      "Shape of X_test: (6051, 18)\n"
     ]
    }
   ],
   "source": [
    "# Train test validation split\n",
    "y = df_model.pop('max6del').values\n",
    "y=y.astype('int')\n",
    "X_train, X_temp, y_train, y_temp = train_test_split(df_model.drop(['Loan_id'],axis=1), y, stratify = y, test_size=0.3, random_state=42)\n",
    "X_val, X_test, y_val, y_test = train_test_split(X_temp, y_temp, stratify = y_temp, test_size=0.5, random_state=42)\n",
    "print('Shape of X_train:',X_train.shape)\n",
    "print('Shape of X_val:',X_val.shape)\n",
    "print('Shape of X_test:',X_test.shape)\n"
   ]
  },
  {
   "cell_type": "code",
   "execution_count": 231,
   "metadata": {},
   "outputs": [],
   "source": [
    "## Scaling our data so that it would avoid bias as we have features which are very sparse such as total income and sanctioned amount\n",
    "cols=X_train.columns\n",
    "scaler_num = StandardScaler()\n",
    "X_train = scaler_num.fit_transform(X_train)\n",
    "X_val = scaler_num.transform(X_val)\n",
    "X_test = scaler_num.transform(X_test)\n",
    "X_train_final = pd.DataFrame(X_train, columns=cols)\n",
    "X_val_final = pd.DataFrame(X_val, columns=cols)\n",
    "X_test_final = pd.DataFrame(X_test, columns=cols)"
   ]
  },
  {
   "cell_type": "markdown",
   "metadata": {},
   "source": [
    "#### Generating Feature Importance Plot"
   ]
  },
  {
   "cell_type": "code",
   "execution_count": 235,
   "metadata": {},
   "outputs": [
    {
     "name": "stdout",
     "output_type": "stream",
     "text": [
      "Training until validation scores don't improve for 100 rounds\n",
      "Early stopping, best iteration is:\n",
      "[2]\tvalid_0's auc: 1\tvalid_0's binary_logloss: 0.67346\n"
     ]
    },
    {
     "data": {
      "text/plain": [
       "LGBMClassifier(boosting_type='gbdt', class_weight='balanced',\n",
       "               colsample_bytree=0.8, importance_type='split',\n",
       "               learning_rate=0.01, max_depth=7, min_child_samples=20,\n",
       "               min_child_weight=0.001, min_split_gain=0.0, n_estimators=2000,\n",
       "               n_jobs=-1, num_leaves=31, objective=None, random_state=None,\n",
       "               reg_alpha=0.0, reg_lambda=0.0, silent=True, subsample=0.9,\n",
       "               subsample_for_bin=200000, subsample_freq=0)"
      ]
     },
     "execution_count": 235,
     "metadata": {},
     "output_type": "execute_result"
    }
   ],
   "source": [
    "#Selection of features\n",
    "model_sk = lgb.LGBMClassifier(boosting_type='gbdt', max_depth=7, learning_rate=0.01, n_estimators= 2000, \n",
    "                 class_weight='balanced', subsample=0.9, colsample_bytree= 0.8, n_jobs=-1)\n",
    "train_features, valid_features, train_y, valid_y = train_test_split(X_train_final, y_train, test_size = 0.15, random_state = 42)\n",
    "model_sk.fit(train_features, train_y, early_stopping_rounds=100, eval_set = [(valid_features, valid_y)], eval_metric = 'auc', verbose = 200)"
   ]
  },
  {
   "cell_type": "code",
   "execution_count": 236,
   "metadata": {},
   "outputs": [],
   "source": [
    "feature_imp = pd.DataFrame(sorted(zip(model_sk.feature_importances_, X_train_final.columns)), columns=['Value','Feature'])\n",
    "features_df = feature_imp.sort_values(by=\"Value\", ascending=False)"
   ]
  },
  {
   "cell_type": "code",
   "execution_count": 237,
   "metadata": {},
   "outputs": [
    {
     "data": {
      "application/vnd.plotly.v1+json": {
       "config": {
        "linkText": "Export to plot.ly",
        "plotlyServerURL": "https://plot.ly",
        "showLink": false
       },
       "data": [
        {
         "marker": {
          "color": "rgba(43, 13, 150, 0.6)",
          "line": {
           "color": "rgba(43, 13, 150, 1.0)",
           "width": 1.5
          }
         },
         "orientation": "h",
         "type": "bar",
         "x": [
          0,
          1,
          1,
          1,
          1,
          1,
          2,
          2,
          3,
          3
         ],
         "y": [
          "Promise_to_pay",
          "num6mosdel",
          "total_income",
          "paiduncure",
          "paidcure",
          "CREDIT_INCOME_Ratio",
          "total_contacts",
          "num3mosdel",
          "rollb",
          "Debt_to_burden_Ratio"
         ]
        }
       ],
       "layout": {
        "autosize": false,
        "bargap": 0.4,
        "height": 700,
        "template": {
         "data": {
          "bar": [
           {
            "error_x": {
             "color": "rgb(36,36,36)"
            },
            "error_y": {
             "color": "rgb(36,36,36)"
            },
            "marker": {
             "line": {
              "color": "rgb(234,234,242)",
              "width": 0.5
             }
            },
            "type": "bar"
           }
          ],
          "barpolar": [
           {
            "marker": {
             "line": {
              "color": "rgb(234,234,242)",
              "width": 0.5
             }
            },
            "type": "barpolar"
           }
          ],
          "carpet": [
           {
            "aaxis": {
             "endlinecolor": "rgb(36,36,36)",
             "gridcolor": "white",
             "linecolor": "white",
             "minorgridcolor": "white",
             "startlinecolor": "rgb(36,36,36)"
            },
            "baxis": {
             "endlinecolor": "rgb(36,36,36)",
             "gridcolor": "white",
             "linecolor": "white",
             "minorgridcolor": "white",
             "startlinecolor": "rgb(36,36,36)"
            },
            "type": "carpet"
           }
          ],
          "choropleth": [
           {
            "colorbar": {
             "outlinewidth": 0,
             "tickcolor": "rgb(36,36,36)",
             "ticklen": 8,
             "ticks": "outside",
             "tickwidth": 2
            },
            "type": "choropleth"
           }
          ],
          "contour": [
           {
            "colorbar": {
             "outlinewidth": 0,
             "tickcolor": "rgb(36,36,36)",
             "ticklen": 8,
             "ticks": "outside",
             "tickwidth": 2
            },
            "colorscale": [
             [
              0,
              "rgb(2,4,25)"
             ],
             [
              0.06274509803921569,
              "rgb(24,15,41)"
             ],
             [
              0.12549019607843137,
              "rgb(47,23,57)"
             ],
             [
              0.18823529411764706,
              "rgb(71,28,72)"
             ],
             [
              0.25098039215686274,
              "rgb(97,30,82)"
             ],
             [
              0.3137254901960784,
              "rgb(123,30,89)"
             ],
             [
              0.3764705882352941,
              "rgb(150,27,91)"
             ],
             [
              0.4392156862745098,
              "rgb(177,22,88)"
             ],
             [
              0.5019607843137255,
              "rgb(203,26,79)"
             ],
             [
              0.5647058823529412,
              "rgb(223,47,67)"
             ],
             [
              0.6274509803921569,
              "rgb(236,76,61)"
             ],
             [
              0.6901960784313725,
              "rgb(242,107,73)"
             ],
             [
              0.7529411764705882,
              "rgb(244,135,95)"
             ],
             [
              0.8156862745098039,
              "rgb(245,162,122)"
             ],
             [
              0.8784313725490196,
              "rgb(246,188,153)"
             ],
             [
              0.9411764705882353,
              "rgb(247,212,187)"
             ],
             [
              1,
              "rgb(250,234,220)"
             ]
            ],
            "type": "contour"
           }
          ],
          "contourcarpet": [
           {
            "colorbar": {
             "outlinewidth": 0,
             "tickcolor": "rgb(36,36,36)",
             "ticklen": 8,
             "ticks": "outside",
             "tickwidth": 2
            },
            "type": "contourcarpet"
           }
          ],
          "heatmap": [
           {
            "colorbar": {
             "outlinewidth": 0,
             "tickcolor": "rgb(36,36,36)",
             "ticklen": 8,
             "ticks": "outside",
             "tickwidth": 2
            },
            "colorscale": [
             [
              0,
              "rgb(2,4,25)"
             ],
             [
              0.06274509803921569,
              "rgb(24,15,41)"
             ],
             [
              0.12549019607843137,
              "rgb(47,23,57)"
             ],
             [
              0.18823529411764706,
              "rgb(71,28,72)"
             ],
             [
              0.25098039215686274,
              "rgb(97,30,82)"
             ],
             [
              0.3137254901960784,
              "rgb(123,30,89)"
             ],
             [
              0.3764705882352941,
              "rgb(150,27,91)"
             ],
             [
              0.4392156862745098,
              "rgb(177,22,88)"
             ],
             [
              0.5019607843137255,
              "rgb(203,26,79)"
             ],
             [
              0.5647058823529412,
              "rgb(223,47,67)"
             ],
             [
              0.6274509803921569,
              "rgb(236,76,61)"
             ],
             [
              0.6901960784313725,
              "rgb(242,107,73)"
             ],
             [
              0.7529411764705882,
              "rgb(244,135,95)"
             ],
             [
              0.8156862745098039,
              "rgb(245,162,122)"
             ],
             [
              0.8784313725490196,
              "rgb(246,188,153)"
             ],
             [
              0.9411764705882353,
              "rgb(247,212,187)"
             ],
             [
              1,
              "rgb(250,234,220)"
             ]
            ],
            "type": "heatmap"
           }
          ],
          "heatmapgl": [
           {
            "colorbar": {
             "outlinewidth": 0,
             "tickcolor": "rgb(36,36,36)",
             "ticklen": 8,
             "ticks": "outside",
             "tickwidth": 2
            },
            "colorscale": [
             [
              0,
              "rgb(2,4,25)"
             ],
             [
              0.06274509803921569,
              "rgb(24,15,41)"
             ],
             [
              0.12549019607843137,
              "rgb(47,23,57)"
             ],
             [
              0.18823529411764706,
              "rgb(71,28,72)"
             ],
             [
              0.25098039215686274,
              "rgb(97,30,82)"
             ],
             [
              0.3137254901960784,
              "rgb(123,30,89)"
             ],
             [
              0.3764705882352941,
              "rgb(150,27,91)"
             ],
             [
              0.4392156862745098,
              "rgb(177,22,88)"
             ],
             [
              0.5019607843137255,
              "rgb(203,26,79)"
             ],
             [
              0.5647058823529412,
              "rgb(223,47,67)"
             ],
             [
              0.6274509803921569,
              "rgb(236,76,61)"
             ],
             [
              0.6901960784313725,
              "rgb(242,107,73)"
             ],
             [
              0.7529411764705882,
              "rgb(244,135,95)"
             ],
             [
              0.8156862745098039,
              "rgb(245,162,122)"
             ],
             [
              0.8784313725490196,
              "rgb(246,188,153)"
             ],
             [
              0.9411764705882353,
              "rgb(247,212,187)"
             ],
             [
              1,
              "rgb(250,234,220)"
             ]
            ],
            "type": "heatmapgl"
           }
          ],
          "histogram": [
           {
            "marker": {
             "colorbar": {
              "outlinewidth": 0,
              "tickcolor": "rgb(36,36,36)",
              "ticklen": 8,
              "ticks": "outside",
              "tickwidth": 2
             }
            },
            "type": "histogram"
           }
          ],
          "histogram2d": [
           {
            "colorbar": {
             "outlinewidth": 0,
             "tickcolor": "rgb(36,36,36)",
             "ticklen": 8,
             "ticks": "outside",
             "tickwidth": 2
            },
            "colorscale": [
             [
              0,
              "rgb(2,4,25)"
             ],
             [
              0.06274509803921569,
              "rgb(24,15,41)"
             ],
             [
              0.12549019607843137,
              "rgb(47,23,57)"
             ],
             [
              0.18823529411764706,
              "rgb(71,28,72)"
             ],
             [
              0.25098039215686274,
              "rgb(97,30,82)"
             ],
             [
              0.3137254901960784,
              "rgb(123,30,89)"
             ],
             [
              0.3764705882352941,
              "rgb(150,27,91)"
             ],
             [
              0.4392156862745098,
              "rgb(177,22,88)"
             ],
             [
              0.5019607843137255,
              "rgb(203,26,79)"
             ],
             [
              0.5647058823529412,
              "rgb(223,47,67)"
             ],
             [
              0.6274509803921569,
              "rgb(236,76,61)"
             ],
             [
              0.6901960784313725,
              "rgb(242,107,73)"
             ],
             [
              0.7529411764705882,
              "rgb(244,135,95)"
             ],
             [
              0.8156862745098039,
              "rgb(245,162,122)"
             ],
             [
              0.8784313725490196,
              "rgb(246,188,153)"
             ],
             [
              0.9411764705882353,
              "rgb(247,212,187)"
             ],
             [
              1,
              "rgb(250,234,220)"
             ]
            ],
            "type": "histogram2d"
           }
          ],
          "histogram2dcontour": [
           {
            "colorbar": {
             "outlinewidth": 0,
             "tickcolor": "rgb(36,36,36)",
             "ticklen": 8,
             "ticks": "outside",
             "tickwidth": 2
            },
            "colorscale": [
             [
              0,
              "rgb(2,4,25)"
             ],
             [
              0.06274509803921569,
              "rgb(24,15,41)"
             ],
             [
              0.12549019607843137,
              "rgb(47,23,57)"
             ],
             [
              0.18823529411764706,
              "rgb(71,28,72)"
             ],
             [
              0.25098039215686274,
              "rgb(97,30,82)"
             ],
             [
              0.3137254901960784,
              "rgb(123,30,89)"
             ],
             [
              0.3764705882352941,
              "rgb(150,27,91)"
             ],
             [
              0.4392156862745098,
              "rgb(177,22,88)"
             ],
             [
              0.5019607843137255,
              "rgb(203,26,79)"
             ],
             [
              0.5647058823529412,
              "rgb(223,47,67)"
             ],
             [
              0.6274509803921569,
              "rgb(236,76,61)"
             ],
             [
              0.6901960784313725,
              "rgb(242,107,73)"
             ],
             [
              0.7529411764705882,
              "rgb(244,135,95)"
             ],
             [
              0.8156862745098039,
              "rgb(245,162,122)"
             ],
             [
              0.8784313725490196,
              "rgb(246,188,153)"
             ],
             [
              0.9411764705882353,
              "rgb(247,212,187)"
             ],
             [
              1,
              "rgb(250,234,220)"
             ]
            ],
            "type": "histogram2dcontour"
           }
          ],
          "mesh3d": [
           {
            "colorbar": {
             "outlinewidth": 0,
             "tickcolor": "rgb(36,36,36)",
             "ticklen": 8,
             "ticks": "outside",
             "tickwidth": 2
            },
            "type": "mesh3d"
           }
          ],
          "parcoords": [
           {
            "line": {
             "colorbar": {
              "outlinewidth": 0,
              "tickcolor": "rgb(36,36,36)",
              "ticklen": 8,
              "ticks": "outside",
              "tickwidth": 2
             }
            },
            "type": "parcoords"
           }
          ],
          "pie": [
           {
            "automargin": true,
            "type": "pie"
           }
          ],
          "scatter": [
           {
            "marker": {
             "colorbar": {
              "outlinewidth": 0,
              "tickcolor": "rgb(36,36,36)",
              "ticklen": 8,
              "ticks": "outside",
              "tickwidth": 2
             }
            },
            "type": "scatter"
           }
          ],
          "scatter3d": [
           {
            "line": {
             "colorbar": {
              "outlinewidth": 0,
              "tickcolor": "rgb(36,36,36)",
              "ticklen": 8,
              "ticks": "outside",
              "tickwidth": 2
             }
            },
            "marker": {
             "colorbar": {
              "outlinewidth": 0,
              "tickcolor": "rgb(36,36,36)",
              "ticklen": 8,
              "ticks": "outside",
              "tickwidth": 2
             }
            },
            "type": "scatter3d"
           }
          ],
          "scattercarpet": [
           {
            "marker": {
             "colorbar": {
              "outlinewidth": 0,
              "tickcolor": "rgb(36,36,36)",
              "ticklen": 8,
              "ticks": "outside",
              "tickwidth": 2
             }
            },
            "type": "scattercarpet"
           }
          ],
          "scattergeo": [
           {
            "marker": {
             "colorbar": {
              "outlinewidth": 0,
              "tickcolor": "rgb(36,36,36)",
              "ticklen": 8,
              "ticks": "outside",
              "tickwidth": 2
             }
            },
            "type": "scattergeo"
           }
          ],
          "scattergl": [
           {
            "marker": {
             "colorbar": {
              "outlinewidth": 0,
              "tickcolor": "rgb(36,36,36)",
              "ticklen": 8,
              "ticks": "outside",
              "tickwidth": 2
             }
            },
            "type": "scattergl"
           }
          ],
          "scattermapbox": [
           {
            "marker": {
             "colorbar": {
              "outlinewidth": 0,
              "tickcolor": "rgb(36,36,36)",
              "ticklen": 8,
              "ticks": "outside",
              "tickwidth": 2
             }
            },
            "type": "scattermapbox"
           }
          ],
          "scatterpolar": [
           {
            "marker": {
             "colorbar": {
              "outlinewidth": 0,
              "tickcolor": "rgb(36,36,36)",
              "ticklen": 8,
              "ticks": "outside",
              "tickwidth": 2
             }
            },
            "type": "scatterpolar"
           }
          ],
          "scatterpolargl": [
           {
            "marker": {
             "colorbar": {
              "outlinewidth": 0,
              "tickcolor": "rgb(36,36,36)",
              "ticklen": 8,
              "ticks": "outside",
              "tickwidth": 2
             }
            },
            "type": "scatterpolargl"
           }
          ],
          "scatterternary": [
           {
            "marker": {
             "colorbar": {
              "outlinewidth": 0,
              "tickcolor": "rgb(36,36,36)",
              "ticklen": 8,
              "ticks": "outside",
              "tickwidth": 2
             }
            },
            "type": "scatterternary"
           }
          ],
          "surface": [
           {
            "colorbar": {
             "outlinewidth": 0,
             "tickcolor": "rgb(36,36,36)",
             "ticklen": 8,
             "ticks": "outside",
             "tickwidth": 2
            },
            "colorscale": [
             [
              0,
              "rgb(2,4,25)"
             ],
             [
              0.06274509803921569,
              "rgb(24,15,41)"
             ],
             [
              0.12549019607843137,
              "rgb(47,23,57)"
             ],
             [
              0.18823529411764706,
              "rgb(71,28,72)"
             ],
             [
              0.25098039215686274,
              "rgb(97,30,82)"
             ],
             [
              0.3137254901960784,
              "rgb(123,30,89)"
             ],
             [
              0.3764705882352941,
              "rgb(150,27,91)"
             ],
             [
              0.4392156862745098,
              "rgb(177,22,88)"
             ],
             [
              0.5019607843137255,
              "rgb(203,26,79)"
             ],
             [
              0.5647058823529412,
              "rgb(223,47,67)"
             ],
             [
              0.6274509803921569,
              "rgb(236,76,61)"
             ],
             [
              0.6901960784313725,
              "rgb(242,107,73)"
             ],
             [
              0.7529411764705882,
              "rgb(244,135,95)"
             ],
             [
              0.8156862745098039,
              "rgb(245,162,122)"
             ],
             [
              0.8784313725490196,
              "rgb(246,188,153)"
             ],
             [
              0.9411764705882353,
              "rgb(247,212,187)"
             ],
             [
              1,
              "rgb(250,234,220)"
             ]
            ],
            "type": "surface"
           }
          ],
          "table": [
           {
            "cells": {
             "fill": {
              "color": "rgb(231,231,240)"
             },
             "line": {
              "color": "white"
             }
            },
            "header": {
             "fill": {
              "color": "rgb(183,183,191)"
             },
             "line": {
              "color": "white"
             }
            },
            "type": "table"
           }
          ]
         },
         "layout": {
          "annotationdefaults": {
           "arrowcolor": "rgb(67,103,167)"
          },
          "coloraxis": {
           "colorbar": {
            "outlinewidth": 0,
            "tickcolor": "rgb(36,36,36)",
            "ticklen": 8,
            "ticks": "outside",
            "tickwidth": 2
           }
          },
          "colorscale": {
           "sequential": [
            [
             0,
             "rgb(2,4,25)"
            ],
            [
             0.06274509803921569,
             "rgb(24,15,41)"
            ],
            [
             0.12549019607843137,
             "rgb(47,23,57)"
            ],
            [
             0.18823529411764706,
             "rgb(71,28,72)"
            ],
            [
             0.25098039215686274,
             "rgb(97,30,82)"
            ],
            [
             0.3137254901960784,
             "rgb(123,30,89)"
            ],
            [
             0.3764705882352941,
             "rgb(150,27,91)"
            ],
            [
             0.4392156862745098,
             "rgb(177,22,88)"
            ],
            [
             0.5019607843137255,
             "rgb(203,26,79)"
            ],
            [
             0.5647058823529412,
             "rgb(223,47,67)"
            ],
            [
             0.6274509803921569,
             "rgb(236,76,61)"
            ],
            [
             0.6901960784313725,
             "rgb(242,107,73)"
            ],
            [
             0.7529411764705882,
             "rgb(244,135,95)"
            ],
            [
             0.8156862745098039,
             "rgb(245,162,122)"
            ],
            [
             0.8784313725490196,
             "rgb(246,188,153)"
            ],
            [
             0.9411764705882353,
             "rgb(247,212,187)"
            ],
            [
             1,
             "rgb(250,234,220)"
            ]
           ],
           "sequentialminus": [
            [
             0,
             "rgb(2,4,25)"
            ],
            [
             0.06274509803921569,
             "rgb(24,15,41)"
            ],
            [
             0.12549019607843137,
             "rgb(47,23,57)"
            ],
            [
             0.18823529411764706,
             "rgb(71,28,72)"
            ],
            [
             0.25098039215686274,
             "rgb(97,30,82)"
            ],
            [
             0.3137254901960784,
             "rgb(123,30,89)"
            ],
            [
             0.3764705882352941,
             "rgb(150,27,91)"
            ],
            [
             0.4392156862745098,
             "rgb(177,22,88)"
            ],
            [
             0.5019607843137255,
             "rgb(203,26,79)"
            ],
            [
             0.5647058823529412,
             "rgb(223,47,67)"
            ],
            [
             0.6274509803921569,
             "rgb(236,76,61)"
            ],
            [
             0.6901960784313725,
             "rgb(242,107,73)"
            ],
            [
             0.7529411764705882,
             "rgb(244,135,95)"
            ],
            [
             0.8156862745098039,
             "rgb(245,162,122)"
            ],
            [
             0.8784313725490196,
             "rgb(246,188,153)"
            ],
            [
             0.9411764705882353,
             "rgb(247,212,187)"
            ],
            [
             1,
             "rgb(250,234,220)"
            ]
           ]
          },
          "colorway": [
           "rgb(76,114,176)",
           "rgb(221,132,82)",
           "rgb(85,168,104)",
           "rgb(196,78,82)",
           "rgb(129,114,179)",
           "rgb(147,120,96)",
           "rgb(218,139,195)",
           "rgb(140,140,140)",
           "rgb(204,185,116)",
           "rgb(100,181,205)"
          ],
          "font": {
           "color": "rgb(36,36,36)"
          },
          "geo": {
           "bgcolor": "white",
           "lakecolor": "white",
           "landcolor": "rgb(234,234,242)",
           "showlakes": true,
           "showland": true,
           "subunitcolor": "white"
          },
          "hoverlabel": {
           "align": "left"
          },
          "hovermode": "closest",
          "paper_bgcolor": "white",
          "plot_bgcolor": "rgb(234,234,242)",
          "polar": {
           "angularaxis": {
            "gridcolor": "white",
            "linecolor": "white",
            "showgrid": true,
            "ticks": ""
           },
           "bgcolor": "rgb(234,234,242)",
           "radialaxis": {
            "gridcolor": "white",
            "linecolor": "white",
            "showgrid": true,
            "ticks": ""
           }
          },
          "scene": {
           "xaxis": {
            "backgroundcolor": "rgb(234,234,242)",
            "gridcolor": "white",
            "gridwidth": 2,
            "linecolor": "white",
            "showbackground": true,
            "showgrid": true,
            "ticks": "",
            "zerolinecolor": "white"
           },
           "yaxis": {
            "backgroundcolor": "rgb(234,234,242)",
            "gridcolor": "white",
            "gridwidth": 2,
            "linecolor": "white",
            "showbackground": true,
            "showgrid": true,
            "ticks": "",
            "zerolinecolor": "white"
           },
           "zaxis": {
            "backgroundcolor": "rgb(234,234,242)",
            "gridcolor": "white",
            "gridwidth": 2,
            "linecolor": "white",
            "showbackground": true,
            "showgrid": true,
            "ticks": "",
            "zerolinecolor": "white"
           }
          },
          "shapedefaults": {
           "fillcolor": "rgb(67,103,167)",
           "line": {
            "width": 0
           },
           "opacity": 0.5
          },
          "ternary": {
           "aaxis": {
            "gridcolor": "white",
            "linecolor": "white",
            "showgrid": true,
            "ticks": ""
           },
           "baxis": {
            "gridcolor": "white",
            "linecolor": "white",
            "showgrid": true,
            "ticks": ""
           },
           "bgcolor": "rgb(234,234,242)",
           "caxis": {
            "gridcolor": "white",
            "linecolor": "white",
            "showgrid": true,
            "ticks": ""
           }
          },
          "xaxis": {
           "automargin": true,
           "gridcolor": "white",
           "linecolor": "white",
           "showgrid": true,
           "ticks": "",
           "title": {
            "standoff": 15
           },
           "zerolinecolor": "white"
          },
          "yaxis": {
           "automargin": true,
           "gridcolor": "white",
           "linecolor": "white",
           "showgrid": true,
           "ticks": "",
           "title": {
            "standoff": 15
           },
           "zerolinecolor": "white"
          }
         }
        },
        "title": {
         "text": "Top 10 important features"
        },
        "width": 1300,
        "xaxis": {
         "title": {
          "text": "Importance value"
         }
        },
        "yaxis": {
         "automargin": true
        }
       }
      },
      "text/html": [
       "<div>\n",
       "        \n",
       "        \n",
       "            <div id=\"e73b5934-61ae-4773-b841-8ac6cb9a796a\" class=\"plotly-graph-div\" style=\"height:700px; width:1300px;\"></div>\n",
       "            <script type=\"text/javascript\">\n",
       "                require([\"plotly\"], function(Plotly) {\n",
       "                    window.PLOTLYENV=window.PLOTLYENV || {};\n",
       "                    \n",
       "                if (document.getElementById(\"e73b5934-61ae-4773-b841-8ac6cb9a796a\")) {\n",
       "                    Plotly.newPlot(\n",
       "                        'e73b5934-61ae-4773-b841-8ac6cb9a796a',\n",
       "                        [{\"marker\": {\"color\": \"rgba(43, 13, 150, 0.6)\", \"line\": {\"color\": \"rgba(43, 13, 150, 1.0)\", \"width\": 1.5}}, \"orientation\": \"h\", \"type\": \"bar\", \"x\": [0, 1, 1, 1, 1, 1, 2, 2, 3, 3], \"y\": [\"Promise_to_pay\", \"num6mosdel\", \"total_income\", \"paiduncure\", \"paidcure\", \"CREDIT_INCOME_Ratio\", \"total_contacts\", \"num3mosdel\", \"rollb\", \"Debt_to_burden_Ratio\"]}],\n",
       "                        {\"autosize\": false, \"bargap\": 0.4, \"height\": 700, \"template\": {\"data\": {\"bar\": [{\"error_x\": {\"color\": \"rgb(36,36,36)\"}, \"error_y\": {\"color\": \"rgb(36,36,36)\"}, \"marker\": {\"line\": {\"color\": \"rgb(234,234,242)\", \"width\": 0.5}}, \"type\": \"bar\"}], \"barpolar\": [{\"marker\": {\"line\": {\"color\": \"rgb(234,234,242)\", \"width\": 0.5}}, \"type\": \"barpolar\"}], \"carpet\": [{\"aaxis\": {\"endlinecolor\": \"rgb(36,36,36)\", \"gridcolor\": \"white\", \"linecolor\": \"white\", \"minorgridcolor\": \"white\", \"startlinecolor\": \"rgb(36,36,36)\"}, \"baxis\": {\"endlinecolor\": \"rgb(36,36,36)\", \"gridcolor\": \"white\", \"linecolor\": \"white\", \"minorgridcolor\": \"white\", \"startlinecolor\": \"rgb(36,36,36)\"}, \"type\": \"carpet\"}], \"choropleth\": [{\"colorbar\": {\"outlinewidth\": 0, \"tickcolor\": \"rgb(36,36,36)\", \"ticklen\": 8, \"ticks\": \"outside\", \"tickwidth\": 2}, \"type\": \"choropleth\"}], \"contour\": [{\"colorbar\": {\"outlinewidth\": 0, \"tickcolor\": \"rgb(36,36,36)\", \"ticklen\": 8, \"ticks\": \"outside\", \"tickwidth\": 2}, \"colorscale\": [[0.0, \"rgb(2,4,25)\"], [0.06274509803921569, \"rgb(24,15,41)\"], [0.12549019607843137, \"rgb(47,23,57)\"], [0.18823529411764706, \"rgb(71,28,72)\"], [0.25098039215686274, \"rgb(97,30,82)\"], [0.3137254901960784, \"rgb(123,30,89)\"], [0.3764705882352941, \"rgb(150,27,91)\"], [0.4392156862745098, \"rgb(177,22,88)\"], [0.5019607843137255, \"rgb(203,26,79)\"], [0.5647058823529412, \"rgb(223,47,67)\"], [0.6274509803921569, \"rgb(236,76,61)\"], [0.6901960784313725, \"rgb(242,107,73)\"], [0.7529411764705882, \"rgb(244,135,95)\"], [0.8156862745098039, \"rgb(245,162,122)\"], [0.8784313725490196, \"rgb(246,188,153)\"], [0.9411764705882353, \"rgb(247,212,187)\"], [1.0, \"rgb(250,234,220)\"]], \"type\": \"contour\"}], \"contourcarpet\": [{\"colorbar\": {\"outlinewidth\": 0, \"tickcolor\": \"rgb(36,36,36)\", \"ticklen\": 8, \"ticks\": \"outside\", \"tickwidth\": 2}, \"type\": \"contourcarpet\"}], \"heatmap\": [{\"colorbar\": {\"outlinewidth\": 0, \"tickcolor\": \"rgb(36,36,36)\", \"ticklen\": 8, \"ticks\": \"outside\", \"tickwidth\": 2}, \"colorscale\": [[0.0, \"rgb(2,4,25)\"], [0.06274509803921569, \"rgb(24,15,41)\"], [0.12549019607843137, \"rgb(47,23,57)\"], [0.18823529411764706, \"rgb(71,28,72)\"], [0.25098039215686274, \"rgb(97,30,82)\"], [0.3137254901960784, \"rgb(123,30,89)\"], [0.3764705882352941, \"rgb(150,27,91)\"], [0.4392156862745098, \"rgb(177,22,88)\"], [0.5019607843137255, \"rgb(203,26,79)\"], [0.5647058823529412, \"rgb(223,47,67)\"], [0.6274509803921569, \"rgb(236,76,61)\"], [0.6901960784313725, \"rgb(242,107,73)\"], [0.7529411764705882, \"rgb(244,135,95)\"], [0.8156862745098039, \"rgb(245,162,122)\"], [0.8784313725490196, \"rgb(246,188,153)\"], [0.9411764705882353, \"rgb(247,212,187)\"], [1.0, \"rgb(250,234,220)\"]], \"type\": \"heatmap\"}], \"heatmapgl\": [{\"colorbar\": {\"outlinewidth\": 0, \"tickcolor\": \"rgb(36,36,36)\", \"ticklen\": 8, \"ticks\": \"outside\", \"tickwidth\": 2}, \"colorscale\": [[0.0, \"rgb(2,4,25)\"], [0.06274509803921569, \"rgb(24,15,41)\"], [0.12549019607843137, \"rgb(47,23,57)\"], [0.18823529411764706, \"rgb(71,28,72)\"], [0.25098039215686274, \"rgb(97,30,82)\"], [0.3137254901960784, \"rgb(123,30,89)\"], [0.3764705882352941, \"rgb(150,27,91)\"], [0.4392156862745098, \"rgb(177,22,88)\"], [0.5019607843137255, \"rgb(203,26,79)\"], [0.5647058823529412, \"rgb(223,47,67)\"], [0.6274509803921569, \"rgb(236,76,61)\"], [0.6901960784313725, \"rgb(242,107,73)\"], [0.7529411764705882, \"rgb(244,135,95)\"], [0.8156862745098039, \"rgb(245,162,122)\"], [0.8784313725490196, \"rgb(246,188,153)\"], [0.9411764705882353, \"rgb(247,212,187)\"], [1.0, \"rgb(250,234,220)\"]], \"type\": \"heatmapgl\"}], \"histogram\": [{\"marker\": {\"colorbar\": {\"outlinewidth\": 0, \"tickcolor\": \"rgb(36,36,36)\", \"ticklen\": 8, \"ticks\": \"outside\", \"tickwidth\": 2}}, \"type\": \"histogram\"}], \"histogram2d\": [{\"colorbar\": {\"outlinewidth\": 0, \"tickcolor\": \"rgb(36,36,36)\", \"ticklen\": 8, \"ticks\": \"outside\", \"tickwidth\": 2}, \"colorscale\": [[0.0, \"rgb(2,4,25)\"], [0.06274509803921569, \"rgb(24,15,41)\"], [0.12549019607843137, \"rgb(47,23,57)\"], [0.18823529411764706, \"rgb(71,28,72)\"], [0.25098039215686274, \"rgb(97,30,82)\"], [0.3137254901960784, \"rgb(123,30,89)\"], [0.3764705882352941, \"rgb(150,27,91)\"], [0.4392156862745098, \"rgb(177,22,88)\"], [0.5019607843137255, \"rgb(203,26,79)\"], [0.5647058823529412, \"rgb(223,47,67)\"], [0.6274509803921569, \"rgb(236,76,61)\"], [0.6901960784313725, \"rgb(242,107,73)\"], [0.7529411764705882, \"rgb(244,135,95)\"], [0.8156862745098039, \"rgb(245,162,122)\"], [0.8784313725490196, \"rgb(246,188,153)\"], [0.9411764705882353, \"rgb(247,212,187)\"], [1.0, \"rgb(250,234,220)\"]], \"type\": \"histogram2d\"}], \"histogram2dcontour\": [{\"colorbar\": {\"outlinewidth\": 0, \"tickcolor\": \"rgb(36,36,36)\", \"ticklen\": 8, \"ticks\": \"outside\", \"tickwidth\": 2}, \"colorscale\": [[0.0, \"rgb(2,4,25)\"], [0.06274509803921569, \"rgb(24,15,41)\"], [0.12549019607843137, \"rgb(47,23,57)\"], [0.18823529411764706, \"rgb(71,28,72)\"], [0.25098039215686274, \"rgb(97,30,82)\"], [0.3137254901960784, \"rgb(123,30,89)\"], [0.3764705882352941, \"rgb(150,27,91)\"], [0.4392156862745098, \"rgb(177,22,88)\"], [0.5019607843137255, \"rgb(203,26,79)\"], [0.5647058823529412, \"rgb(223,47,67)\"], [0.6274509803921569, \"rgb(236,76,61)\"], [0.6901960784313725, \"rgb(242,107,73)\"], [0.7529411764705882, \"rgb(244,135,95)\"], [0.8156862745098039, \"rgb(245,162,122)\"], [0.8784313725490196, \"rgb(246,188,153)\"], [0.9411764705882353, \"rgb(247,212,187)\"], [1.0, \"rgb(250,234,220)\"]], \"type\": \"histogram2dcontour\"}], \"mesh3d\": [{\"colorbar\": {\"outlinewidth\": 0, \"tickcolor\": \"rgb(36,36,36)\", \"ticklen\": 8, \"ticks\": \"outside\", \"tickwidth\": 2}, \"type\": \"mesh3d\"}], \"parcoords\": [{\"line\": {\"colorbar\": {\"outlinewidth\": 0, \"tickcolor\": \"rgb(36,36,36)\", \"ticklen\": 8, \"ticks\": \"outside\", \"tickwidth\": 2}}, \"type\": \"parcoords\"}], \"pie\": [{\"automargin\": true, \"type\": \"pie\"}], \"scatter\": [{\"marker\": {\"colorbar\": {\"outlinewidth\": 0, \"tickcolor\": \"rgb(36,36,36)\", \"ticklen\": 8, \"ticks\": \"outside\", \"tickwidth\": 2}}, \"type\": \"scatter\"}], \"scatter3d\": [{\"line\": {\"colorbar\": {\"outlinewidth\": 0, \"tickcolor\": \"rgb(36,36,36)\", \"ticklen\": 8, \"ticks\": \"outside\", \"tickwidth\": 2}}, \"marker\": {\"colorbar\": {\"outlinewidth\": 0, \"tickcolor\": \"rgb(36,36,36)\", \"ticklen\": 8, \"ticks\": \"outside\", \"tickwidth\": 2}}, \"type\": \"scatter3d\"}], \"scattercarpet\": [{\"marker\": {\"colorbar\": {\"outlinewidth\": 0, \"tickcolor\": \"rgb(36,36,36)\", \"ticklen\": 8, \"ticks\": \"outside\", \"tickwidth\": 2}}, \"type\": \"scattercarpet\"}], \"scattergeo\": [{\"marker\": {\"colorbar\": {\"outlinewidth\": 0, \"tickcolor\": \"rgb(36,36,36)\", \"ticklen\": 8, \"ticks\": \"outside\", \"tickwidth\": 2}}, \"type\": \"scattergeo\"}], \"scattergl\": [{\"marker\": {\"colorbar\": {\"outlinewidth\": 0, \"tickcolor\": \"rgb(36,36,36)\", \"ticklen\": 8, \"ticks\": \"outside\", \"tickwidth\": 2}}, \"type\": \"scattergl\"}], \"scattermapbox\": [{\"marker\": {\"colorbar\": {\"outlinewidth\": 0, \"tickcolor\": \"rgb(36,36,36)\", \"ticklen\": 8, \"ticks\": \"outside\", \"tickwidth\": 2}}, \"type\": \"scattermapbox\"}], \"scatterpolar\": [{\"marker\": {\"colorbar\": {\"outlinewidth\": 0, \"tickcolor\": \"rgb(36,36,36)\", \"ticklen\": 8, \"ticks\": \"outside\", \"tickwidth\": 2}}, \"type\": \"scatterpolar\"}], \"scatterpolargl\": [{\"marker\": {\"colorbar\": {\"outlinewidth\": 0, \"tickcolor\": \"rgb(36,36,36)\", \"ticklen\": 8, \"ticks\": \"outside\", \"tickwidth\": 2}}, \"type\": \"scatterpolargl\"}], \"scatterternary\": [{\"marker\": {\"colorbar\": {\"outlinewidth\": 0, \"tickcolor\": \"rgb(36,36,36)\", \"ticklen\": 8, \"ticks\": \"outside\", \"tickwidth\": 2}}, \"type\": \"scatterternary\"}], \"surface\": [{\"colorbar\": {\"outlinewidth\": 0, \"tickcolor\": \"rgb(36,36,36)\", \"ticklen\": 8, \"ticks\": \"outside\", \"tickwidth\": 2}, \"colorscale\": [[0.0, \"rgb(2,4,25)\"], [0.06274509803921569, \"rgb(24,15,41)\"], [0.12549019607843137, \"rgb(47,23,57)\"], [0.18823529411764706, \"rgb(71,28,72)\"], [0.25098039215686274, \"rgb(97,30,82)\"], [0.3137254901960784, \"rgb(123,30,89)\"], [0.3764705882352941, \"rgb(150,27,91)\"], [0.4392156862745098, \"rgb(177,22,88)\"], [0.5019607843137255, \"rgb(203,26,79)\"], [0.5647058823529412, \"rgb(223,47,67)\"], [0.6274509803921569, \"rgb(236,76,61)\"], [0.6901960784313725, \"rgb(242,107,73)\"], [0.7529411764705882, \"rgb(244,135,95)\"], [0.8156862745098039, \"rgb(245,162,122)\"], [0.8784313725490196, \"rgb(246,188,153)\"], [0.9411764705882353, \"rgb(247,212,187)\"], [1.0, \"rgb(250,234,220)\"]], \"type\": \"surface\"}], \"table\": [{\"cells\": {\"fill\": {\"color\": \"rgb(231,231,240)\"}, \"line\": {\"color\": \"white\"}}, \"header\": {\"fill\": {\"color\": \"rgb(183,183,191)\"}, \"line\": {\"color\": \"white\"}}, \"type\": \"table\"}]}, \"layout\": {\"annotationdefaults\": {\"arrowcolor\": \"rgb(67,103,167)\"}, \"coloraxis\": {\"colorbar\": {\"outlinewidth\": 0, \"tickcolor\": \"rgb(36,36,36)\", \"ticklen\": 8, \"ticks\": \"outside\", \"tickwidth\": 2}}, \"colorscale\": {\"sequential\": [[0.0, \"rgb(2,4,25)\"], [0.06274509803921569, \"rgb(24,15,41)\"], [0.12549019607843137, \"rgb(47,23,57)\"], [0.18823529411764706, \"rgb(71,28,72)\"], [0.25098039215686274, \"rgb(97,30,82)\"], [0.3137254901960784, \"rgb(123,30,89)\"], [0.3764705882352941, \"rgb(150,27,91)\"], [0.4392156862745098, \"rgb(177,22,88)\"], [0.5019607843137255, \"rgb(203,26,79)\"], [0.5647058823529412, \"rgb(223,47,67)\"], [0.6274509803921569, \"rgb(236,76,61)\"], [0.6901960784313725, \"rgb(242,107,73)\"], [0.7529411764705882, \"rgb(244,135,95)\"], [0.8156862745098039, \"rgb(245,162,122)\"], [0.8784313725490196, \"rgb(246,188,153)\"], [0.9411764705882353, \"rgb(247,212,187)\"], [1.0, \"rgb(250,234,220)\"]], \"sequentialminus\": [[0.0, \"rgb(2,4,25)\"], [0.06274509803921569, \"rgb(24,15,41)\"], [0.12549019607843137, \"rgb(47,23,57)\"], [0.18823529411764706, \"rgb(71,28,72)\"], [0.25098039215686274, \"rgb(97,30,82)\"], [0.3137254901960784, \"rgb(123,30,89)\"], [0.3764705882352941, \"rgb(150,27,91)\"], [0.4392156862745098, \"rgb(177,22,88)\"], [0.5019607843137255, \"rgb(203,26,79)\"], [0.5647058823529412, \"rgb(223,47,67)\"], [0.6274509803921569, \"rgb(236,76,61)\"], [0.6901960784313725, \"rgb(242,107,73)\"], [0.7529411764705882, \"rgb(244,135,95)\"], [0.8156862745098039, \"rgb(245,162,122)\"], [0.8784313725490196, \"rgb(246,188,153)\"], [0.9411764705882353, \"rgb(247,212,187)\"], [1.0, \"rgb(250,234,220)\"]]}, \"colorway\": [\"rgb(76,114,176)\", \"rgb(221,132,82)\", \"rgb(85,168,104)\", \"rgb(196,78,82)\", \"rgb(129,114,179)\", \"rgb(147,120,96)\", \"rgb(218,139,195)\", \"rgb(140,140,140)\", \"rgb(204,185,116)\", \"rgb(100,181,205)\"], \"font\": {\"color\": \"rgb(36,36,36)\"}, \"geo\": {\"bgcolor\": \"white\", \"lakecolor\": \"white\", \"landcolor\": \"rgb(234,234,242)\", \"showlakes\": true, \"showland\": true, \"subunitcolor\": \"white\"}, \"hoverlabel\": {\"align\": \"left\"}, \"hovermode\": \"closest\", \"paper_bgcolor\": \"white\", \"plot_bgcolor\": \"rgb(234,234,242)\", \"polar\": {\"angularaxis\": {\"gridcolor\": \"white\", \"linecolor\": \"white\", \"showgrid\": true, \"ticks\": \"\"}, \"bgcolor\": \"rgb(234,234,242)\", \"radialaxis\": {\"gridcolor\": \"white\", \"linecolor\": \"white\", \"showgrid\": true, \"ticks\": \"\"}}, \"scene\": {\"xaxis\": {\"backgroundcolor\": \"rgb(234,234,242)\", \"gridcolor\": \"white\", \"gridwidth\": 2, \"linecolor\": \"white\", \"showbackground\": true, \"showgrid\": true, \"ticks\": \"\", \"zerolinecolor\": \"white\"}, \"yaxis\": {\"backgroundcolor\": \"rgb(234,234,242)\", \"gridcolor\": \"white\", \"gridwidth\": 2, \"linecolor\": \"white\", \"showbackground\": true, \"showgrid\": true, \"ticks\": \"\", \"zerolinecolor\": \"white\"}, \"zaxis\": {\"backgroundcolor\": \"rgb(234,234,242)\", \"gridcolor\": \"white\", \"gridwidth\": 2, \"linecolor\": \"white\", \"showbackground\": true, \"showgrid\": true, \"ticks\": \"\", \"zerolinecolor\": \"white\"}}, \"shapedefaults\": {\"fillcolor\": \"rgb(67,103,167)\", \"line\": {\"width\": 0}, \"opacity\": 0.5}, \"ternary\": {\"aaxis\": {\"gridcolor\": \"white\", \"linecolor\": \"white\", \"showgrid\": true, \"ticks\": \"\"}, \"baxis\": {\"gridcolor\": \"white\", \"linecolor\": \"white\", \"showgrid\": true, \"ticks\": \"\"}, \"bgcolor\": \"rgb(234,234,242)\", \"caxis\": {\"gridcolor\": \"white\", \"linecolor\": \"white\", \"showgrid\": true, \"ticks\": \"\"}}, \"xaxis\": {\"automargin\": true, \"gridcolor\": \"white\", \"linecolor\": \"white\", \"showgrid\": true, \"ticks\": \"\", \"title\": {\"standoff\": 15}, \"zerolinecolor\": \"white\"}, \"yaxis\": {\"automargin\": true, \"gridcolor\": \"white\", \"linecolor\": \"white\", \"showgrid\": true, \"ticks\": \"\", \"title\": {\"standoff\": 15}, \"zerolinecolor\": \"white\"}}}, \"title\": {\"text\": \"Top 10 important features\"}, \"width\": 1300, \"xaxis\": {\"title\": {\"text\": \"Importance value\"}}, \"yaxis\": {\"automargin\": true}},\n",
       "                        {\"responsive\": true}\n",
       "                    ).then(function(){\n",
       "                            \n",
       "var gd = document.getElementById('e73b5934-61ae-4773-b841-8ac6cb9a796a');\n",
       "var x = new MutationObserver(function (mutations, observer) {{\n",
       "        var display = window.getComputedStyle(gd).display;\n",
       "        if (!display || display === 'none') {{\n",
       "            console.log([gd, 'removed!']);\n",
       "            Plotly.purge(gd);\n",
       "            observer.disconnect();\n",
       "        }}\n",
       "}});\n",
       "\n",
       "// Listen for the removal of the full notebook cells\n",
       "var notebookContainer = gd.closest('#notebook-container');\n",
       "if (notebookContainer) {{\n",
       "    x.observe(notebookContainer, {childList: true});\n",
       "}}\n",
       "\n",
       "// Listen for the clearing of the current output cell\n",
       "var outputEl = gd.closest('.output');\n",
       "if (outputEl) {{\n",
       "    x.observe(outputEl, {childList: true});\n",
       "}}\n",
       "\n",
       "                        })\n",
       "                };\n",
       "                });\n",
       "            </script>\n",
       "        </div>"
      ]
     },
     "metadata": {},
     "output_type": "display_data"
    }
   ],
   "source": [
    "# Feature importance Plot\n",
    "data1 = features_df.head(10)\n",
    "data = [go.Bar(x =data1.sort_values(by='Value')['Value'] , y = data1.sort_values(by='Value')['Feature'], orientation = 'h',\n",
    "              marker = dict(\n",
    "        color = 'rgba(43, 13, 150, 0.6)',\n",
    "        line = dict(\n",
    "            color = 'rgba(43, 13, 150, 1.0)',\n",
    "            width = 1.5)\n",
    "    )) ]\n",
    "layout = go.Layout(\n",
    "    autosize=False,\n",
    "    width=1300,\n",
    "    height=700,\n",
    "    title = \"Top 10 important features\",\n",
    "    xaxis=dict(\n",
    "        title='Importance value'\n",
    "        ),\n",
    "    yaxis=dict(\n",
    "        automargin=True\n",
    "        ),\n",
    "    bargap=0.4\n",
    "    )\n",
    "fig = go.Figure(data = data, layout=layout)\n",
    "fig.layout.template = 'seaborn'\n",
    "py.iplot(fig)"
   ]
  },
  {
   "cell_type": "markdown",
   "metadata": {},
   "source": [
    "### Functions to plot Confusion matrix and AUC curve"
   ]
  },
  {
   "cell_type": "code",
   "execution_count": 238,
   "metadata": {},
   "outputs": [],
   "source": [
    "def plot_confusion_matrix(test_y, predicted_y):\n",
    "    # Confusion matrix\n",
    "    C = confusion_matrix(test_y, predicted_y)\n",
    "    \n",
    "    # Recall matrix\n",
    "    A = (((C.T)/(C.sum(axis=1))).T)\n",
    "    \n",
    "    # Precision matrix\n",
    "    B = (C/C.sum(axis=0))\n",
    "    \n",
    "    plt.figure(figsize=(20,4))\n",
    "    \n",
    "    labels = ['Re-paid(0)','Not Re-paid(1)']\n",
    "    cmap=sns.light_palette(\"orange\")\n",
    "    plt.subplot(1,3,1)\n",
    "    sns.heatmap(C, annot=True, cmap=cmap,fmt=\"d\", xticklabels = labels, yticklabels=labels)\n",
    "    plt.xlabel('Predicted Class')\n",
    "    plt.ylabel('Orignal Class')\n",
    "    plt.title('Confusion matrix')\n",
    "    \n",
    "    plt.subplot(1,3,2)\n",
    "    sns.heatmap(A, annot=True, cmap=cmap, xticklabels = labels, yticklabels=labels)\n",
    "    plt.xlabel('Predicted Class')\n",
    "    plt.ylabel('Orignal Class')\n",
    "    plt.title('Recall matrix')\n",
    "    \n",
    "    plt.subplot(1,3,3)\n",
    "    sns.heatmap(B, annot=True, cmap=cmap, xticklabels = labels, yticklabels=labels)\n",
    "    plt.xlabel('Predicted Class')\n",
    "    plt.ylabel('Orignal Class')\n",
    "    plt.title('Precision matrix')\n",
    "    \n",
    "    plt.show()\n",
    "def cv_plot(alpha, cv_auc):\n",
    "    \n",
    "    fig, ax = plt.subplots()\n",
    "    ax.plot(np.log10(alpha), cv_auc,c='g')\n",
    "    for i, txt in enumerate(np.round(cv_auc,3)):\n",
    "        ax.annotate((alpha[i],str(txt)), (np.log10(alpha[i]),cv_auc[i]))\n",
    "    plt.grid()\n",
    "    plt.xticks(np.log10(alpha))\n",
    "    plt.title(\"Cross Validation Error for each alpha\")\n",
    "    plt.xlabel(\"Alpha i's\")\n",
    "    plt.ylabel(\"Error measure\")\n",
    "    plt.show()"
   ]
  },
  {
   "cell_type": "markdown",
   "metadata": {},
   "source": [
    "### Logistic regression :\n",
    "\n",
    "Logistic Regression finds a hyperplane which best seperates the given positive and negative data points."
   ]
  },
  {
   "cell_type": "code",
   "execution_count": 241,
   "metadata": {},
   "outputs": [
    {
     "name": "stdout",
     "output_type": "stream",
     "text": [
      "For alpha 0.0001, cross validation AUC score 0.9999987287058225\n",
      "For alpha 0.001, cross validation AUC score 0.9998987202305281\n",
      "For alpha 0.01, cross validation AUC score 0.9999953385880159\n",
      "For alpha 0.1, cross validation AUC score 0.9998949063479956\n",
      "For alpha 1.0, cross validation AUC score 0.5\n",
      "For alpha 10.0, cross validation AUC score 0.5\n",
      "For alpha 100.0, cross validation AUC score 0.5\n",
      "For alpha 1000.0, cross validation AUC score 0.5\n",
      "For alpha 10000.0, cross validation AUC score 0.5\n"
     ]
    },
    {
     "data": {
      "image/png": "[encoded data removed]",
      "text/plain": [
       "<Figure size 432x288 with 1 Axes>"
      ]
     },
     "metadata": {
      "needs_background": "light"
     },
     "output_type": "display_data"
    },
    {
     "name": "stdout",
     "output_type": "stream",
     "text": [
      "The Optimal C value is: 0.0001\n"
     ]
    }
   ],
   "source": [
    "alpha = np.logspace(-4,4,9)\n",
    "cv_auc_score = []\n",
    "for i in alpha:\n",
    "    clf = SGDClassifier(alpha=i, penalty='l1',class_weight = 'balanced', loss='log', random_state=28)\n",
    "    clf.fit(X_train, y_train)\n",
    "    sig_clf = CalibratedClassifierCV(clf, method='sigmoid')\n",
    "    sig_clf.fit(X_train_final, y_train)\n",
    "    y_pred_prob = sig_clf.predict_proba(X_val_final)[:,1]\n",
    "    cv_auc_score.append(roc_auc_score(y_val,y_pred_prob))\n",
    "    print('For alpha {0}, cross validation AUC score {1}'.format(i,roc_auc_score(y_val,y_pred_prob)))\n",
    "cv_plot(alpha, cv_auc_score)\n",
    "print('The Optimal C value is:', alpha[np.argmax(cv_auc_score)])"
   ]
  },
  {
   "cell_type": "code",
   "execution_count": 243,
   "metadata": {},
   "outputs": [
    {
     "name": "stdout",
     "output_type": "stream",
     "text": [
      "For best alpha 0.0001, The Train AUC score is 0.9999989984212786\n",
      "For best alpha 0.0001, The Cross validated AUC score is 0.9999987287058225\n",
      "For best alpha 0.0001, The Test AUC score is 0.9999991533907758\n",
      "The test AUC score is : 0.9999991533907758\n",
      "The percentage of misclassified points 00.08% :\n"
     ]
    },
    {
     "data": {
      "image/png": "[encoded data removed]",
      "text/plain": [
       "<Figure size 1440x288 with 6 Axes>"
      ]
     },
     "metadata": {
      "needs_background": "light"
     },
     "output_type": "display_data"
    }
   ],
   "source": [
    "best_alpha = alpha[np.argmax(cv_auc_score)]\n",
    "logreg = SGDClassifier(alpha = best_alpha, class_weight = 'balanced', penalty = 'l1', loss='log', random_state = 28)\n",
    "logreg.fit(X_train_final, y_train)\n",
    "logreg_sig_clf = CalibratedClassifierCV(logreg, method='sigmoid')\n",
    "logreg_sig_clf.fit(X_train_final, y_train)\n",
    "y_pred_prob = logreg_sig_clf.predict_proba(X_train_final)[:,1]\n",
    "print('For best alpha {0}, The Train AUC score is {1}'.format(best_alpha, roc_auc_score(y_train,y_pred_prob) ))    \n",
    "y_pred_prob = logreg_sig_clf.predict_proba(X_val_final)[:,1]\n",
    "print('For best alpha {0}, The Cross validated AUC score is {1}'.format(best_alpha, roc_auc_score(y_val,y_pred_prob) ))  \n",
    "y_pred_prob = logreg_sig_clf.predict_proba(X_test_final)[:,1]\n",
    "print('For best alpha {0}, The Test AUC score is {1}'.format(best_alpha, roc_auc_score(y_test,y_pred_prob) ))\n",
    "y_pred = logreg.predict(X_test_final)\n",
    "print('The test AUC score is :', roc_auc_score(y_test,y_pred_prob))\n",
    "print('The percentage of misclassified points {:05.2f}% :'.format((1-accuracy_score(y_test, y_pred))*100))\n",
    "plot_confusion_matrix(y_test, y_pred)"
   ]
  },
  {
   "cell_type": "code",
   "execution_count": 244,
   "metadata": {},
   "outputs": [
    {
     "data": {
      "image/png": "[encoded data removed]",
      "text/plain": [
       "<Figure size 576x432 with 1 Axes>"
      ]
     },
     "metadata": {
      "needs_background": "light"
     },
     "output_type": "display_data"
    }
   ],
   "source": [
    "from sklearn.metrics import roc_curve\n",
    "fpr, tpr, thresholds = roc_curve(y_test, y_pred_prob)\n",
    "auc = roc_auc_score(y_test,y_pred_prob)\n",
    "plt.figure(figsize=(8,6))\n",
    "plt.plot(fpr, tpr, marker='.')\n",
    "plt.plot([0, 1], [0, 1], linestyle='--')\n",
    "plt.title('ROC curve', fontsize = 20)\n",
    "plt.xlabel('FPR', fontsize=15)\n",
    "plt.ylabel('TPR', fontsize=15)\n",
    "plt.grid()\n",
    "plt.legend([\"AUC=%.3f\"%auc])\n",
    "plt.show()\n"
   ]
  },
  {
   "cell_type": "markdown",
   "metadata": {},
   "source": [
    "### Fitting to LightGBM :\n",
    "\n",
    "<i>Light GBM is a fast, distributed, high-performance gradient boosting framework based on decision tree algorithm, used for ranking, classification and many other machine learning tasks.\n",
    "\n",
    "Since it is based on decision tree algorithms, it splits the tree leaf wise with the best fit whereas other boosting algorithms split the tree depth wise or level wise rather than leaf-wise. So when growing on the same leaf in Light GBM, the leaf-wise algorithm can reduce more loss than the level-wise algorithm and hence results in much better accuracy which can rarely be achieved by any of the existing boosting algorithms. Also, it is surprisingly very fast, hence the word ‘Light’. </i>"
   ]
  },
  {
   "cell_type": "code",
   "execution_count": 245,
   "metadata": {},
   "outputs": [
    {
     "name": "stdout",
     "output_type": "stream",
     "text": [
      "Training until validation scores don't improve for 100 rounds\n",
      "[10]\tvalid_0's auc: 1\n",
      "[20]\tvalid_0's auc: 1\n",
      "[30]\tvalid_0's auc: 1\n",
      "[40]\tvalid_0's auc: 1\n",
      "[50]\tvalid_0's auc: 1\n",
      "[60]\tvalid_0's auc: 1\n",
      "[70]\tvalid_0's auc: 1\n",
      "[80]\tvalid_0's auc: 1\n",
      "[90]\tvalid_0's auc: 1\n",
      "[100]\tvalid_0's auc: 1\n",
      "Early stopping, best iteration is:\n",
      "[2]\tvalid_0's auc: 1\n",
      "For  max_depth 10 and some other parameters, cross validation AUC score 1.0\n",
      "The optimal  max_depth:  3\n",
      "Training until validation scores don't improve for 100 rounds\n",
      "[10]\tvalid_0's auc: 1\n",
      "[20]\tvalid_0's auc: 1\n",
      "[30]\tvalid_0's auc: 1\n",
      "[40]\tvalid_0's auc: 1\n",
      "[50]\tvalid_0's auc: 1\n",
      "[60]\tvalid_0's auc: 1\n",
      "[70]\tvalid_0's auc: 1\n",
      "[80]\tvalid_0's auc: 1\n",
      "[90]\tvalid_0's auc: 1\n",
      "[100]\tvalid_0's auc: 1\n",
      "Early stopping, best iteration is:\n",
      "[2]\tvalid_0's auc: 1\n",
      "For best max_depth 3, The Train AUC score is 1.0\n",
      "For best max_depth 3, The Cross validated AUC score is 1.0\n",
      "For best max_depth 3, The Test AUC score is 1.0\n",
      "The test AUC score is : 1.0\n",
      "The percentage of misclassified points 84.78% :\n"
     ]
    },
    {
     "data": {
      "image/png": "[encoded data removed]",
      "text/plain": [
       "<Figure size 1440x288 with 6 Axes>"
      ]
     },
     "metadata": {
      "needs_background": "light"
     },
     "output_type": "display_data"
    }
   ],
   "source": [
    "weight = np.ones((len(X_train_final),), dtype=int)\n",
    "for i in range(len(X_train_final)):\n",
    "    if y_train[i]== 0:\n",
    "        weight[i]=1\n",
    "    else:\n",
    "        weight[i]=11\n",
    "\n",
    "train_data=lgb.Dataset(X_train_final, label = y_train, weight= weight )\n",
    "valid_data=lgb.Dataset(X_val_final, label = y_val)\n",
    "cv_auc_score = []\n",
    "max_depth = [3, 5, 7, 10]\n",
    "for i in max_depth:\n",
    "    \n",
    "    params = {'boosting_type': 'gbdt',\n",
    "          'max_depth' : i,\n",
    "          'objective': 'binary',\n",
    "          'nthread': 5,\n",
    "          'num_leaves': 32,\n",
    "          'learning_rate': 0.05,\n",
    "          'max_bin': 512,\n",
    "          'subsample_for_bin': 200,\n",
    "          'subsample': 0.7,\n",
    "          'subsample_freq': 1,\n",
    "          'colsample_bytree': 0.8,\n",
    "          'reg_alpha': 20,\n",
    "          'reg_lambda': 20,\n",
    "          'min_split_gain': 0.5,\n",
    "          'min_child_weight': 1,\n",
    "          'min_child_samples': 10,\n",
    "          'scale_pos_weight': 1,\n",
    "          'num_class' : 1,\n",
    "          'metric' : 'auc'\n",
    "          }\n",
    "lgbm = lgb.train(params,\n",
    "                 train_data,\n",
    "                 2500,\n",
    "                 valid_sets=valid_data,\n",
    "                 early_stopping_rounds= 100,\n",
    "                 verbose_eval= 10\n",
    "                 )\n",
    "y_pred_prob = lgbm.predict(X_val_final)\n",
    "cv_auc_score.append(roc_auc_score(y_val,y_pred_prob))\n",
    "print('For  max_depth {0} and some other parameters, cross validation AUC score {1}'.format(i,roc_auc_score(y_val,y_pred_prob)))\n",
    "print('The optimal  max_depth: ', max_depth[np.argmax(cv_auc_score)])\n",
    "params = {'boosting_type': 'gbdt',\n",
    "          'max_depth' : max_depth[np.argmax(cv_auc_score)],\n",
    "          'objective': 'binary',\n",
    "          'nthread': 5,\n",
    "          'num_leaves': 32,\n",
    "          'learning_rate': 0.05,\n",
    "          'max_bin': 512,\n",
    "          'subsample_for_bin': 200,\n",
    "          'subsample': 0.7,\n",
    "          'subsample_freq': 1,\n",
    "          'colsample_bytree': 0.8,\n",
    "          'reg_alpha': 20,\n",
    "          'reg_lambda': 20,\n",
    "          'min_split_gain': 0.5,\n",
    "          'min_child_weight': 1,\n",
    "          'min_child_samples': 10,\n",
    "          'scale_pos_weight': 1,\n",
    "          'num_class' : 1,\n",
    "          'metric' : 'auc'\n",
    "          }\n",
    "lgbm = lgb.train(params,\n",
    "                 train_data,\n",
    "                 2500,\n",
    "                 valid_sets=valid_data,\n",
    "                 early_stopping_rounds= 100,\n",
    "                 verbose_eval= 10\n",
    "                 )\n",
    "y_pred_prob = lgbm.predict(X_train_final)\n",
    "print('For best max_depth {0}, The Train AUC score is {1}'.format(max_depth[np.argmax(cv_auc_score)],roc_auc_score(y_train,y_pred_prob) ))    \n",
    "y_pred_prob = lgbm.predict(X_val_final)\n",
    "print('For best max_depth {0}, The Cross validated AUC score is {1}'.format(max_depth[np.argmax(cv_auc_score)],roc_auc_score(y_val,y_pred_prob) ))  \n",
    "y_pred_prob = lgbm.predict(X_test_final)\n",
    "print('For best max_depth {0}, The Test AUC score is {1}'.format(max_depth[np.argmax(cv_auc_score)],roc_auc_score(y_test,y_pred_prob) ))\n",
    "y_pred = np.ones((len(X_test_final),), dtype=int)\n",
    "for i in range(len(y_pred_prob)):\n",
    "    if y_pred_prob[i]<=0.5:\n",
    "        y_pred[i]=0\n",
    "    else:\n",
    "        y_pred[i]=1\n",
    "print('The test AUC score is :', roc_auc_score(y_test,y_pred_prob))\n",
    "print('The percentage of misclassified points {:05.2f}% :'.format((1-accuracy_score(y_test, y_pred))*100))\n",
    "plot_confusion_matrix(y_test, y_pred)"
   ]
  },
  {
   "cell_type": "code",
   "execution_count": 246,
   "metadata": {},
   "outputs": [
    {
     "data": {
      "image/png": "[encoded data removed]",
      "text/plain": [
       "<Figure size 576x432 with 1 Axes>"
      ]
     },
     "metadata": {
      "needs_background": "light"
     },
     "output_type": "display_data"
    }
   ],
   "source": [
    "from sklearn.metrics import roc_curve\n",
    "fpr, tpr, thresholds = roc_curve(y_test, y_pred_prob)\n",
    "auc = roc_auc_score(y_test,y_pred_prob)\n",
    "plt.figure(figsize=(8,6))\n",
    "plt.plot(fpr, tpr, marker='.')\n",
    "plt.plot([0, 1], [0, 1], linestyle='--')\n",
    "plt.title('ROC curve', fontsize = 20)\n",
    "plt.xlabel('FPR', fontsize=15)\n",
    "plt.ylabel('TPR', fontsize=15)\n",
    "plt.grid()\n",
    "plt.legend([\"AUC=%.3f\"%auc])\n",
    "plt.show()"
   ]
  },
  {
   "cell_type": "code",
   "execution_count": 247,
   "metadata": {},
   "outputs": [],
   "source": [
    "# Saving the final model LightGBM as pickle file for the future use in productionizing the model\n",
    "with open('final_model.pkl','wb') as fp:\n",
    "    pickle.dump(lgbm, fp)"
   ]
  },
  {
   "cell_type": "code",
   "execution_count": null,
   "metadata": {},
   "outputs": [],
   "source": []
  }
 ],
 "metadata": {
  "kernelspec": {
   "display_name": "Python 3",
   "language": "python",
   "name": "python3"
  },
  "language_info": {
   "codemirror_mode": {
    "name": "ipython",
    "version": 3
   },
   "file_extension": ".py",
   "mimetype": "text/x-python",
   "name": "python",
   "nbconvert_exporter": "python",
   "pygments_lexer": "ipython3",
   "version": "3.7.6"
  }
 },
 "nbformat": 4,
 "nbformat_minor": 2
}
